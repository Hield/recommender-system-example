{
 "cells": [
  {
   "cell_type": "code",
   "execution_count": 6,
   "metadata": {},
   "outputs": [
    {
     "name": "stdout",
     "output_type": "stream",
     "text": [
      "The autoreload extension is already loaded. To reload it, use:\n",
      "  %reload_ext autoreload\n"
     ]
    }
   ],
   "source": [
    "%matplotlib inline\n",
    "%load_ext autoreload\n",
    "%autoreload 2\n",
    "\n",
    "import pandas as pd\n",
    "import numpy as np\n",
    "import feather\n",
    "from tqdm import tqdm_notebook as tqdm"
   ]
  },
  {
   "cell_type": "code",
   "execution_count": 2,
   "metadata": {},
   "outputs": [],
   "source": [
    "# Copied from notebook 3\n",
    "class Evaluator():\n",
    "    def __init__(self, k=10, training_ratings=None, testing_ratings=None):\n",
    "        self.k = k\n",
    "        if training_ratings is not None:\n",
    "            self.training_ratings = training_ratings\n",
    "            self.num_users = len(self.training_ratings.user_id.unique())\n",
    "            self.num_books = len(self.training_ratings.book_id.unique())\n",
    "        if testing_ratings is not None:\n",
    "            self.testing_ratings = testing_ratings\n",
    "            self.testing_idx = {}\n",
    "            for user_id in testing_ratings.user_id.unique():\n",
    "                self.testing_idx[user_id] = testing_ratings[testing_ratings.user_id==user_id].book_id.values\n",
    "        self.result = {}\n",
    "    \n",
    "    def _average_precision(self, pred, truth):\n",
    "        in_arr = np.in1d(pred, truth)\n",
    "        score = 0.0\n",
    "        num_hits = 0.0\n",
    "        for idx, correct in enumerate(in_arr):\n",
    "            if correct:\n",
    "                num_hits += 1\n",
    "                score += num_hits / (idx + 1)\n",
    "        return score / min(len(truth), self.k)\n",
    "    \n",
    "    def evaluate(self, model):\n",
    "        model.fit(self.training_ratings)\n",
    "        preds = model.all_recommendation()\n",
    "        user_ids = list(preds.keys())\n",
    "        ap_sum = 0\n",
    "        for user_id in preds.keys():\n",
    "            pred = preds[user_id][:self.k]\n",
    "            truth = self.testing_idx[user_id]\n",
    "            ap_sum += self._average_precision(pred, truth)\n",
    "        \n",
    "        self.result[model.name] = {}\n",
    "        self.result[model.name]['Mean Average Precision'] = \"%.2f%%\" % (ap_sum / self.num_users * 100)\n",
    "        \n",
    "    def print_result(self):\n",
    "        print(pd.DataFrame(self.result).loc[['Mean Average Precision']])"
   ]
  },
  {
   "cell_type": "code",
   "execution_count": 3,
   "metadata": {},
   "outputs": [
    {
     "data": {
      "text/plain": [
       "((10000, 4), (5206758, 3), (660656, 3))"
      ]
     },
     "execution_count": 3,
     "metadata": {},
     "output_type": "execute_result"
    }
   ],
   "source": [
    "# Import the data\n",
    "books = feather.read_dataframe('./feather/books')\n",
    "training_ratings = feather.read_dataframe('./feather/training_ratings')\n",
    "testing_ratings = feather.read_dataframe('./feather/testing_ratings')\n",
    "(books.shape, training_ratings.shape, testing_ratings.shape)"
   ]
  },
  {
   "cell_type": "markdown",
   "metadata": {},
   "source": [
    "# Random Recommender"
   ]
  },
  {
   "cell_type": "code",
   "execution_count": 13,
   "metadata": {},
   "outputs": [],
   "source": [
    "book_ids = training_ratings.book_id.unique()\n",
    "excluded_books = training_ratings[training_ratings.user_id==80].book_id.unique()"
   ]
  },
  {
   "cell_type": "code",
   "execution_count": 17,
   "metadata": {},
   "outputs": [
    {
     "data": {
      "text/plain": [
       "(10000, 62)"
      ]
     },
     "execution_count": 17,
     "metadata": {},
     "output_type": "execute_result"
    }
   ],
   "source": [
    "(len(book_ids), len(excluded_books))"
   ]
  },
  {
   "cell_type": "code",
   "execution_count": 15,
   "metadata": {},
   "outputs": [
    {
     "data": {
      "text/plain": [
       "9938"
      ]
     },
     "execution_count": 15,
     "metadata": {},
     "output_type": "execute_result"
    }
   ],
   "source": [
    "len(book_ids[~np.in1d(book_ids, excluded_books)])"
   ]
  },
  {
   "cell_type": "code",
   "execution_count": 18,
   "metadata": {},
   "outputs": [],
   "source": [
    "class RandomRecommender():\n",
    "    name = 'Random-based RS'\n",
    "    \n",
    "    def fit(self, training_ratings):\n",
    "        user_ids = training_ratings.user_id.unique()\n",
    "        book_ids = training_ratings.book_id.unique()\n",
    "        self.preds = {}\n",
    "        np.random.seed(42)\n",
    "        for user_id in tqdm(user_ids):\n",
    "            excluded_books = training_ratings[training_ratings.user_id==user_id].book_id.unique().tolist()\n",
    "            recommendable = book_ids[~np.in1d(book_ids, excluded_books)]\n",
    "            self.preds[user_id] = np.random.permutation(recommendable)[:10]\n",
    "        \n",
    "    def recommendation_for_user(self, user_id):\n",
    "        if user_id not in self.preds:\n",
    "            return []\n",
    "        return self.preds[user_id]\n",
    "    \n",
    "    def all_recommendation(self):\n",
    "        return self.preds"
   ]
  },
  {
   "cell_type": "code",
   "execution_count": 8,
   "metadata": {},
   "outputs": [],
   "source": [
    "evl = Evaluator(k=10, training_ratings=training_ratings, testing_ratings=testing_ratings)"
   ]
  },
  {
   "cell_type": "code",
   "execution_count": 19,
   "metadata": {},
   "outputs": [
    {
     "data": {
      "application/vnd.jupyter.widget-view+json": {
       "model_id": "1425fa46a7f84a05adcabf24ce7f0c0f",
       "version_major": 2,
       "version_minor": 0
      },
      "text/plain": [
       "HBox(children=(IntProgress(value=0, max=52363), HTML(value='')))"
      ]
     },
     "metadata": {},
     "output_type": "display_data"
    },
    {
     "name": "stdout",
     "output_type": "stream",
     "text": [
      "\n",
      "                       Random-based RS\n",
      "Mean Average Precision           0.04%\n"
     ]
    }
   ],
   "source": [
    "rd_rec = RandomRecommender()\n",
    "evl.evaluate(rd_rec)\n",
    "evl.print_result()"
   ]
  },
  {
   "cell_type": "markdown",
   "metadata": {},
   "source": [
    "# Popular-based Recommender"
   ]
  },
  {
   "cell_type": "code",
   "execution_count": 27,
   "metadata": {},
   "outputs": [
    {
     "data": {
      "text/html": [
       "<div>\n",
       "<style scoped>\n",
       "    .dataframe tbody tr th:only-of-type {\n",
       "        vertical-align: middle;\n",
       "    }\n",
       "\n",
       "    .dataframe tbody tr th {\n",
       "        vertical-align: top;\n",
       "    }\n",
       "\n",
       "    .dataframe thead th {\n",
       "        text-align: right;\n",
       "    }\n",
       "</style>\n",
       "<table border=\"1\" class=\"dataframe\">\n",
       "  <thead>\n",
       "    <tr style=\"text-align: right;\">\n",
       "      <th></th>\n",
       "      <th>weight</th>\n",
       "    </tr>\n",
       "    <tr>\n",
       "      <th>book_id</th>\n",
       "      <th></th>\n",
       "    </tr>\n",
       "  </thead>\n",
       "  <tbody>\n",
       "    <tr>\n",
       "      <th>2</th>\n",
       "      <td>8047</td>\n",
       "    </tr>\n",
       "    <tr>\n",
       "      <th>1</th>\n",
       "      <td>7522</td>\n",
       "    </tr>\n",
       "    <tr>\n",
       "      <th>4</th>\n",
       "      <td>6754</td>\n",
       "    </tr>\n",
       "    <tr>\n",
       "      <th>25</th>\n",
       "      <td>6586</td>\n",
       "    </tr>\n",
       "    <tr>\n",
       "      <th>18</th>\n",
       "      <td>5979</td>\n",
       "    </tr>\n",
       "    <tr>\n",
       "      <th>24</th>\n",
       "      <td>5886</td>\n",
       "    </tr>\n",
       "    <tr>\n",
       "      <th>27</th>\n",
       "      <td>5818</td>\n",
       "    </tr>\n",
       "    <tr>\n",
       "      <th>21</th>\n",
       "      <td>5487</td>\n",
       "    </tr>\n",
       "    <tr>\n",
       "      <th>23</th>\n",
       "      <td>4887</td>\n",
       "    </tr>\n",
       "    <tr>\n",
       "      <th>7</th>\n",
       "      <td>4749</td>\n",
       "    </tr>\n",
       "  </tbody>\n",
       "</table>\n",
       "</div>"
      ],
      "text/plain": [
       "         weight\n",
       "book_id        \n",
       "2          8047\n",
       "1          7522\n",
       "4          6754\n",
       "25         6586\n",
       "18         5979\n",
       "24         5886\n",
       "27         5818\n",
       "21         5487\n",
       "23         4887\n",
       "7          4749"
      ]
     },
     "execution_count": 27,
     "metadata": {},
     "output_type": "execute_result"
    }
   ],
   "source": [
    "five_ratings = training_ratings[training_ratings.rating==5]\n",
    "ranked_books = five_ratings.groupby('book_id').count()[['rating']].rename(columns={'rating': 'weight'})\n",
    "ranked_books = ranked_books.sort_values(by='weight', ascending=False)\n",
    "ranked_books.head(10)"
   ]
  },
  {
   "cell_type": "code",
   "execution_count": 28,
   "metadata": {
    "scrolled": false
   },
   "outputs": [
    {
     "data": {
      "text/html": [
       "<div>\n",
       "<style scoped>\n",
       "    .dataframe tbody tr th:only-of-type {\n",
       "        vertical-align: middle;\n",
       "    }\n",
       "\n",
       "    .dataframe tbody tr th {\n",
       "        vertical-align: top;\n",
       "    }\n",
       "\n",
       "    .dataframe thead th {\n",
       "        text-align: right;\n",
       "    }\n",
       "</style>\n",
       "<table border=\"1\" class=\"dataframe\">\n",
       "  <thead>\n",
       "    <tr style=\"text-align: right;\">\n",
       "      <th></th>\n",
       "      <th>book_id</th>\n",
       "      <th>goodreads_book_id</th>\n",
       "      <th>authors</th>\n",
       "      <th>title</th>\n",
       "    </tr>\n",
       "    <tr>\n",
       "      <th>book_id</th>\n",
       "      <th></th>\n",
       "      <th></th>\n",
       "      <th></th>\n",
       "      <th></th>\n",
       "    </tr>\n",
       "  </thead>\n",
       "  <tbody>\n",
       "    <tr>\n",
       "      <th>2</th>\n",
       "      <td>3</td>\n",
       "      <td>41865</td>\n",
       "      <td>Stephenie Meyer</td>\n",
       "      <td>Twilight (Twilight, #1)</td>\n",
       "    </tr>\n",
       "    <tr>\n",
       "      <th>1</th>\n",
       "      <td>2</td>\n",
       "      <td>3</td>\n",
       "      <td>J.K. Rowling, Mary GrandPré</td>\n",
       "      <td>Harry Potter and the Sorcerer's Stone (Harry P...</td>\n",
       "    </tr>\n",
       "    <tr>\n",
       "      <th>4</th>\n",
       "      <td>5</td>\n",
       "      <td>4671</td>\n",
       "      <td>F. Scott Fitzgerald</td>\n",
       "      <td>The Great Gatsby</td>\n",
       "    </tr>\n",
       "    <tr>\n",
       "      <th>25</th>\n",
       "      <td>26</td>\n",
       "      <td>968</td>\n",
       "      <td>Dan Brown</td>\n",
       "      <td>The Da Vinci Code (Robert Langdon, #2)</td>\n",
       "    </tr>\n",
       "    <tr>\n",
       "      <th>18</th>\n",
       "      <td>19</td>\n",
       "      <td>34</td>\n",
       "      <td>J.R.R. Tolkien</td>\n",
       "      <td>The Fellowship of the Ring (The Lord of the Ri...</td>\n",
       "    </tr>\n",
       "    <tr>\n",
       "      <th>24</th>\n",
       "      <td>25</td>\n",
       "      <td>136251</td>\n",
       "      <td>J.K. Rowling, Mary GrandPré</td>\n",
       "      <td>Harry Potter and the Deathly Hallows (Harry Po...</td>\n",
       "    </tr>\n",
       "    <tr>\n",
       "      <th>27</th>\n",
       "      <td>28</td>\n",
       "      <td>7624</td>\n",
       "      <td>William Golding</td>\n",
       "      <td>Lord of the Flies</td>\n",
       "    </tr>\n",
       "    <tr>\n",
       "      <th>21</th>\n",
       "      <td>22</td>\n",
       "      <td>12232938</td>\n",
       "      <td>Alice Sebold</td>\n",
       "      <td>The Lovely Bones</td>\n",
       "    </tr>\n",
       "    <tr>\n",
       "      <th>23</th>\n",
       "      <td>24</td>\n",
       "      <td>6</td>\n",
       "      <td>J.K. Rowling, Mary GrandPré</td>\n",
       "      <td>Harry Potter and the Goblet of Fire (Harry Pot...</td>\n",
       "    </tr>\n",
       "    <tr>\n",
       "      <th>7</th>\n",
       "      <td>8</td>\n",
       "      <td>5107</td>\n",
       "      <td>J.D. Salinger</td>\n",
       "      <td>The Catcher in the Rye</td>\n",
       "    </tr>\n",
       "  </tbody>\n",
       "</table>\n",
       "</div>"
      ],
      "text/plain": [
       "         book_id  goodreads_book_id                      authors  \\\n",
       "book_id                                                            \n",
       "2              3              41865              Stephenie Meyer   \n",
       "1              2                  3  J.K. Rowling, Mary GrandPré   \n",
       "4              5               4671          F. Scott Fitzgerald   \n",
       "25            26                968                    Dan Brown   \n",
       "18            19                 34               J.R.R. Tolkien   \n",
       "24            25             136251  J.K. Rowling, Mary GrandPré   \n",
       "27            28               7624              William Golding   \n",
       "21            22           12232938                 Alice Sebold   \n",
       "23            24                  6  J.K. Rowling, Mary GrandPré   \n",
       "7              8               5107                J.D. Salinger   \n",
       "\n",
       "                                                     title  \n",
       "book_id                                                     \n",
       "2                                  Twilight (Twilight, #1)  \n",
       "1        Harry Potter and the Sorcerer's Stone (Harry P...  \n",
       "4                                         The Great Gatsby  \n",
       "25                  The Da Vinci Code (Robert Langdon, #2)  \n",
       "18       The Fellowship of the Ring (The Lord of the Ri...  \n",
       "24       Harry Potter and the Deathly Hallows (Harry Po...  \n",
       "27                                       Lord of the Flies  \n",
       "21                                        The Lovely Bones  \n",
       "23       Harry Potter and the Goblet of Fire (Harry Pot...  \n",
       "7                                   The Catcher in the Rye  "
      ]
     },
     "execution_count": 28,
     "metadata": {},
     "output_type": "execute_result"
    }
   ],
   "source": [
    "books.loc[ranked_books.index[:10]]"
   ]
  },
  {
   "cell_type": "code",
   "execution_count": 32,
   "metadata": {},
   "outputs": [],
   "source": [
    "class PopularityRecommender():\n",
    "    name = \"Popularity-based RS\"\n",
    "    \n",
    "    def fit(self, training_ratings):\n",
    "        user_ids = training_ratings.user_id.unique().tolist()\n",
    "        top_books = ranked_books[:100]\n",
    "        book_ids = np.array(top_books.index.tolist())\n",
    "        self.preds = {}\n",
    "        for user_id in tqdm(user_ids):\n",
    "            excluded_books = training_ratings[training_ratings.user_id==user_id].book_id.unique().tolist()\n",
    "            recommendable = book_ids[~np.in1d(book_ids, excluded_books)]\n",
    "            self.preds[user_id] = recommendable[:10]\n",
    "        \n",
    "    def recommendation_for_user(self, user_id):\n",
    "        return self.preds[user_id]\n",
    "    \n",
    "    def all_recommendation(self):\n",
    "        return self.preds"
   ]
  },
  {
   "cell_type": "code",
   "execution_count": 33,
   "metadata": {},
   "outputs": [
    {
     "data": {
      "application/vnd.jupyter.widget-view+json": {
       "model_id": "f14abbea9d1d4b7dbe6bce6d9d68e024",
       "version_major": 2,
       "version_minor": 0
      },
      "text/plain": [
       "HBox(children=(IntProgress(value=0, max=52363), HTML(value='')))"
      ]
     },
     "metadata": {},
     "output_type": "display_data"
    },
    {
     "name": "stdout",
     "output_type": "stream",
     "text": [
      "\n",
      "                       Random-based RS Popularity-based RS\n",
      "Mean Average Precision           0.04%               5.39%\n"
     ]
    }
   ],
   "source": [
    "pop_rec = PopularityRecommender()\n",
    "evl.evaluate(pop_rec)\n",
    "evl.print_result()"
   ]
  }
 ],
 "metadata": {
  "kernelspec": {
   "display_name": "Python 3",
   "language": "python",
   "name": "python3"
  },
  "language_info": {
   "codemirror_mode": {
    "name": "ipython",
    "version": 3
   },
   "file_extension": ".py",
   "mimetype": "text/x-python",
   "name": "python",
   "nbconvert_exporter": "python",
   "pygments_lexer": "ipython3",
   "version": "3.7.3"
  }
 },
 "nbformat": 4,
 "nbformat_minor": 2
}
