{
 "cells": [
  {
   "cell_type": "code",
   "execution_count": 1,
   "metadata": {
    "ExecuteTime": {
     "end_time": "2019-05-05T06:36:55.815607Z",
     "start_time": "2019-05-05T06:36:54.310894Z"
    }
   },
   "outputs": [],
   "source": [
    "%matplotlib inline\n",
    "%load_ext autoreload\n",
    "%autoreload 2\n",
    "\n",
    "import pandas as pd\n",
    "import numpy as np\n",
    "import feather\n",
    "from evaluator import Evaluator\n",
    "from sklearn.metrics.pairwise import cosine_similarity\n",
    "from sklearn import preprocessing\n",
    "from scipy.sparse import csr_matrix\n",
    "from pandas.api.types import CategoricalDtype\n",
    "from tqdm import tqdm_notebook as tqdm\n",
    "from scipy import sparse"
   ]
  },
  {
   "cell_type": "markdown",
   "metadata": {},
   "source": [
    "# Load data"
   ]
  },
  {
   "cell_type": "code",
   "execution_count": 2,
   "metadata": {
    "ExecuteTime": {
     "end_time": "2019-05-05T06:37:21.549572Z",
     "start_time": "2019-05-05T06:37:20.074573Z"
    }
   },
   "outputs": [],
   "source": [
    "training_ratings = feather.read_dataframe('./feather/training_ratings')\n",
    "testing_ratings = feather.read_dataframe('./feather/testing_ratings')\n",
    "book_profiles = feather.read_dataframe('./feather/book_profiles').set_index('book_id').to_sparse(fill_value=0)\n",
    "novelty_scores = feather.read_dataframe('./feather/novelty_scores').set_index('book_id')\n",
    "books = feather.read_dataframe('./feather/books').set_index('book_id')"
   ]
  },
  {
   "cell_type": "code",
   "execution_count": 3,
   "metadata": {
    "ExecuteTime": {
     "end_time": "2019-05-05T06:37:35.989568Z",
     "start_time": "2019-05-05T06:37:22.668573Z"
    }
   },
   "outputs": [
    {
     "data": {
      "text/html": [
       "<div>\n",
       "<style scoped>\n",
       "    .dataframe tbody tr th:only-of-type {\n",
       "        vertical-align: middle;\n",
       "    }\n",
       "\n",
       "    .dataframe tbody tr th {\n",
       "        vertical-align: top;\n",
       "    }\n",
       "\n",
       "    .dataframe thead th {\n",
       "        text-align: right;\n",
       "    }\n",
       "</style>\n",
       "<table border=\"1\" class=\"dataframe\">\n",
       "  <thead>\n",
       "    <tr style=\"text-align: right;\">\n",
       "      <th>book_id</th>\n",
       "      <th>27</th>\n",
       "      <th>21</th>\n",
       "      <th>2</th>\n",
       "      <th>18</th>\n",
       "      <th>24</th>\n",
       "      <th>3275</th>\n",
       "      <th>3753</th>\n",
       "      <th>54</th>\n",
       "      <th>337</th>\n",
       "      <th>374</th>\n",
       "      <th>...</th>\n",
       "      <th>5111</th>\n",
       "      <th>5296</th>\n",
       "      <th>8713</th>\n",
       "      <th>7443</th>\n",
       "      <th>6428</th>\n",
       "      <th>7523</th>\n",
       "      <th>4594</th>\n",
       "      <th>9569</th>\n",
       "      <th>9580</th>\n",
       "      <th>8892</th>\n",
       "    </tr>\n",
       "    <tr>\n",
       "      <th>book_id</th>\n",
       "      <th></th>\n",
       "      <th></th>\n",
       "      <th></th>\n",
       "      <th></th>\n",
       "      <th></th>\n",
       "      <th></th>\n",
       "      <th></th>\n",
       "      <th></th>\n",
       "      <th></th>\n",
       "      <th></th>\n",
       "      <th></th>\n",
       "      <th></th>\n",
       "      <th></th>\n",
       "      <th></th>\n",
       "      <th></th>\n",
       "      <th></th>\n",
       "      <th></th>\n",
       "      <th></th>\n",
       "      <th></th>\n",
       "      <th></th>\n",
       "      <th></th>\n",
       "    </tr>\n",
       "  </thead>\n",
       "  <tbody>\n",
       "    <tr>\n",
       "      <th>27</th>\n",
       "      <td>1.000000</td>\n",
       "      <td>0.793039</td>\n",
       "      <td>0.967074</td>\n",
       "      <td>0.935959</td>\n",
       "      <td>0.932615</td>\n",
       "      <td>0.773161</td>\n",
       "      <td>0.826935</td>\n",
       "      <td>0.443948</td>\n",
       "      <td>0.383335</td>\n",
       "      <td>0.145548</td>\n",
       "      <td>...</td>\n",
       "      <td>0.191713</td>\n",
       "      <td>0.276920</td>\n",
       "      <td>0.220817</td>\n",
       "      <td>0.665664</td>\n",
       "      <td>0.613295</td>\n",
       "      <td>0.679846</td>\n",
       "      <td>0.121582</td>\n",
       "      <td>0.397349</td>\n",
       "      <td>0.165843</td>\n",
       "      <td>0.226996</td>\n",
       "    </tr>\n",
       "    <tr>\n",
       "      <th>21</th>\n",
       "      <td>0.793039</td>\n",
       "      <td>1.000000</td>\n",
       "      <td>0.781584</td>\n",
       "      <td>0.756703</td>\n",
       "      <td>0.802735</td>\n",
       "      <td>0.606846</td>\n",
       "      <td>0.642205</td>\n",
       "      <td>0.371239</td>\n",
       "      <td>0.290013</td>\n",
       "      <td>0.128655</td>\n",
       "      <td>...</td>\n",
       "      <td>0.132455</td>\n",
       "      <td>0.262205</td>\n",
       "      <td>0.181788</td>\n",
       "      <td>0.483300</td>\n",
       "      <td>0.445195</td>\n",
       "      <td>0.511246</td>\n",
       "      <td>0.116972</td>\n",
       "      <td>0.341285</td>\n",
       "      <td>0.114551</td>\n",
       "      <td>0.164359</td>\n",
       "    </tr>\n",
       "    <tr>\n",
       "      <th>2</th>\n",
       "      <td>0.967074</td>\n",
       "      <td>0.781584</td>\n",
       "      <td>1.000000</td>\n",
       "      <td>0.954254</td>\n",
       "      <td>0.951350</td>\n",
       "      <td>0.779767</td>\n",
       "      <td>0.838700</td>\n",
       "      <td>0.463165</td>\n",
       "      <td>0.400693</td>\n",
       "      <td>0.146866</td>\n",
       "      <td>...</td>\n",
       "      <td>0.159402</td>\n",
       "      <td>0.254301</td>\n",
       "      <td>0.199595</td>\n",
       "      <td>0.665316</td>\n",
       "      <td>0.612849</td>\n",
       "      <td>0.679313</td>\n",
       "      <td>0.122899</td>\n",
       "      <td>0.366076</td>\n",
       "      <td>0.148561</td>\n",
       "      <td>0.172504</td>\n",
       "    </tr>\n",
       "    <tr>\n",
       "      <th>18</th>\n",
       "      <td>0.935959</td>\n",
       "      <td>0.756703</td>\n",
       "      <td>0.954254</td>\n",
       "      <td>1.000000</td>\n",
       "      <td>0.919456</td>\n",
       "      <td>0.750132</td>\n",
       "      <td>0.813695</td>\n",
       "      <td>0.444069</td>\n",
       "      <td>0.384745</td>\n",
       "      <td>0.159378</td>\n",
       "      <td>...</td>\n",
       "      <td>0.153586</td>\n",
       "      <td>0.262145</td>\n",
       "      <td>0.192761</td>\n",
       "      <td>0.646410</td>\n",
       "      <td>0.607130</td>\n",
       "      <td>0.660081</td>\n",
       "      <td>0.135276</td>\n",
       "      <td>0.368633</td>\n",
       "      <td>0.142581</td>\n",
       "      <td>0.166399</td>\n",
       "    </tr>\n",
       "    <tr>\n",
       "      <th>24</th>\n",
       "      <td>0.932615</td>\n",
       "      <td>0.802735</td>\n",
       "      <td>0.951350</td>\n",
       "      <td>0.919456</td>\n",
       "      <td>1.000000</td>\n",
       "      <td>0.741594</td>\n",
       "      <td>0.802514</td>\n",
       "      <td>0.488001</td>\n",
       "      <td>0.413613</td>\n",
       "      <td>0.164158</td>\n",
       "      <td>...</td>\n",
       "      <td>0.157931</td>\n",
       "      <td>0.270466</td>\n",
       "      <td>0.198930</td>\n",
       "      <td>0.636164</td>\n",
       "      <td>0.583238</td>\n",
       "      <td>0.648697</td>\n",
       "      <td>0.139250</td>\n",
       "      <td>0.398710</td>\n",
       "      <td>0.146673</td>\n",
       "      <td>0.171259</td>\n",
       "    </tr>\n",
       "  </tbody>\n",
       "</table>\n",
       "<p>5 rows × 10000 columns</p>\n",
       "</div>"
      ],
      "text/plain": [
       "book_id      27        21        2         18        24        3275      3753  \\\n",
       "book_id                                                                         \n",
       "27       1.000000  0.793039  0.967074  0.935959  0.932615  0.773161  0.826935   \n",
       "21       0.793039  1.000000  0.781584  0.756703  0.802735  0.606846  0.642205   \n",
       "2        0.967074  0.781584  1.000000  0.954254  0.951350  0.779767  0.838700   \n",
       "18       0.935959  0.756703  0.954254  1.000000  0.919456  0.750132  0.813695   \n",
       "24       0.932615  0.802735  0.951350  0.919456  1.000000  0.741594  0.802514   \n",
       "\n",
       "book_id      54        337       374   ...      5111      5296      8713  \\\n",
       "book_id                                ...                                 \n",
       "27       0.443948  0.383335  0.145548  ...  0.191713  0.276920  0.220817   \n",
       "21       0.371239  0.290013  0.128655  ...  0.132455  0.262205  0.181788   \n",
       "2        0.463165  0.400693  0.146866  ...  0.159402  0.254301  0.199595   \n",
       "18       0.444069  0.384745  0.159378  ...  0.153586  0.262145  0.192761   \n",
       "24       0.488001  0.413613  0.164158  ...  0.157931  0.270466  0.198930   \n",
       "\n",
       "book_id      7443      6428      7523      4594      9569      9580      8892  \n",
       "book_id                                                                        \n",
       "27       0.665664  0.613295  0.679846  0.121582  0.397349  0.165843  0.226996  \n",
       "21       0.483300  0.445195  0.511246  0.116972  0.341285  0.114551  0.164359  \n",
       "2        0.665316  0.612849  0.679313  0.122899  0.366076  0.148561  0.172504  \n",
       "18       0.646410  0.607130  0.660081  0.135276  0.368633  0.142581  0.166399  \n",
       "24       0.636164  0.583238  0.648697  0.139250  0.398710  0.146673  0.171259  \n",
       "\n",
       "[5 rows x 10000 columns]"
      ]
     },
     "execution_count": 3,
     "metadata": {},
     "output_type": "execute_result"
    }
   ],
   "source": [
    "book_sim = pd.DataFrame(\n",
    "    data = cosine_similarity(book_profiles, book_profiles),\n",
    "    index = book_profiles.index,\n",
    "    columns = book_profiles.index\n",
    ")\n",
    "\n",
    "book_sim.head()"
   ]
  },
  {
   "cell_type": "code",
   "execution_count": 4,
   "metadata": {
    "ExecuteTime": {
     "end_time": "2019-05-05T06:38:52.640137Z",
     "start_time": "2019-05-05T06:37:37.527072Z"
    }
   },
   "outputs": [
    {
     "data": {
      "application/vnd.jupyter.widget-view+json": {
       "model_id": "ad0050aa0ede41208b6d28c358be6aae",
       "version_major": 2,
       "version_minor": 0
      },
      "text/plain": [
       "HBox(children=(IntProgress(value=0, max=52363), HTML(value='')))"
      ]
     },
     "metadata": {},
     "output_type": "display_data"
    },
    {
     "name": "stdout",
     "output_type": "stream",
     "text": [
      "\n"
     ]
    }
   ],
   "source": [
    "evl = Evaluator(\n",
    "    k = 10,\n",
    "    training_ratings = training_ratings,\n",
    "    testing_ratings = testing_ratings,\n",
    "    book_sim = book_sim,\n",
    "    novelty_scores = novelty_scores\n",
    ")"
   ]
  },
  {
   "cell_type": "markdown",
   "metadata": {},
   "source": [
    "# Preprocess for the Content-based RS and Item-Item CF RS"
   ]
  },
  {
   "cell_type": "code",
   "execution_count": 5,
   "metadata": {
    "ExecuteTime": {
     "end_time": "2019-05-05T06:46:21.989109Z",
     "start_time": "2019-05-05T06:46:21.311111Z"
    }
   },
   "outputs": [
    {
     "data": {
      "text/html": [
       "<div>\n",
       "<style scoped>\n",
       "    .dataframe tbody tr th:only-of-type {\n",
       "        vertical-align: middle;\n",
       "    }\n",
       "\n",
       "    .dataframe tbody tr th {\n",
       "        vertical-align: top;\n",
       "    }\n",
       "\n",
       "    .dataframe thead th {\n",
       "        text-align: right;\n",
       "    }\n",
       "</style>\n",
       "<table border=\"1\" class=\"dataframe\">\n",
       "  <thead>\n",
       "    <tr style=\"text-align: right;\">\n",
       "      <th></th>\n",
       "      <th>user_id</th>\n",
       "      <th>book_id</th>\n",
       "      <th>rating</th>\n",
       "      <th>adjusted_rating</th>\n",
       "    </tr>\n",
       "  </thead>\n",
       "  <tbody>\n",
       "    <tr>\n",
       "      <th>0</th>\n",
       "      <td>2</td>\n",
       "      <td>4081</td>\n",
       "      <td>4</td>\n",
       "      <td>-0.269231</td>\n",
       "    </tr>\n",
       "    <tr>\n",
       "      <th>1</th>\n",
       "      <td>2</td>\n",
       "      <td>2318</td>\n",
       "      <td>3</td>\n",
       "      <td>-1.269231</td>\n",
       "    </tr>\n",
       "    <tr>\n",
       "      <th>2</th>\n",
       "      <td>2</td>\n",
       "      <td>26</td>\n",
       "      <td>4</td>\n",
       "      <td>-0.269231</td>\n",
       "    </tr>\n",
       "    <tr>\n",
       "      <th>3</th>\n",
       "      <td>2</td>\n",
       "      <td>315</td>\n",
       "      <td>3</td>\n",
       "      <td>-1.269231</td>\n",
       "    </tr>\n",
       "    <tr>\n",
       "      <th>4</th>\n",
       "      <td>2</td>\n",
       "      <td>33</td>\n",
       "      <td>4</td>\n",
       "      <td>-0.269231</td>\n",
       "    </tr>\n",
       "  </tbody>\n",
       "</table>\n",
       "</div>"
      ],
      "text/plain": [
       "   user_id  book_id  rating  adjusted_rating\n",
       "0        2     4081       4        -0.269231\n",
       "1        2     2318       3        -1.269231\n",
       "2        2       26       4        -0.269231\n",
       "3        2      315       3        -1.269231\n",
       "4        2       33       4        -0.269231"
      ]
     },
     "execution_count": 5,
     "metadata": {},
     "output_type": "execute_result"
    }
   ],
   "source": [
    "users_mean_rating = training_ratings.groupby('user_id').mean()[['rating']]\n",
    "training_ratings['adjusted_rating'] = training_ratings[['rating']] - users_mean_rating.loc[training_ratings.user_id].values\n",
    "training_ratings.head()"
   ]
  },
  {
   "cell_type": "code",
   "execution_count": 6,
   "metadata": {
    "ExecuteTime": {
     "end_time": "2019-05-05T06:46:26.534492Z",
     "start_time": "2019-05-05T06:46:25.814950Z"
    }
   },
   "outputs": [
    {
     "data": {
      "text/plain": [
       "<52363x10000 sparse matrix of type '<class 'numpy.float64'>'\n",
       "\twith 5206758 stored elements in Compressed Sparse Row format>"
      ]
     },
     "execution_count": 6,
     "metadata": {},
     "output_type": "execute_result"
    }
   ],
   "source": [
    "user_c = CategoricalDtype(sorted(training_ratings.user_id.unique()), ordered=True)\n",
    "book_c = CategoricalDtype(sorted(training_ratings.book_id.unique()), ordered=True)\n",
    "\n",
    "row = training_ratings.user_id.astype(user_c).cat.codes\n",
    "col = training_ratings.book_id.astype(book_c).cat.codes\n",
    "sparse_matrix = csr_matrix((training_ratings[\"adjusted_rating\"], (row, col)), \\\n",
    "                           shape=(user_c.categories.size, book_c.categories.size))\n",
    "\n",
    "sparse_matrix"
   ]
  },
  {
   "cell_type": "code",
   "execution_count": 7,
   "metadata": {
    "ExecuteTime": {
     "end_time": "2019-05-05T06:46:36.291199Z",
     "start_time": "2019-05-05T06:46:31.432703Z"
    }
   },
   "outputs": [
    {
     "data": {
      "text/plain": [
       "(10000, 10000)"
      ]
     },
     "execution_count": 7,
     "metadata": {},
     "output_type": "execute_result"
    }
   ],
   "source": [
    "cf_sim = pd.DataFrame(\n",
    "    data = cosine_similarity(sparse_matrix.T, sparse_matrix.T),\n",
    "    index = book_c.categories,\n",
    "    columns = book_c.categories)\n",
    "cf_sim.shape"
   ]
  },
  {
   "cell_type": "code",
   "execution_count": 8,
   "metadata": {
    "ExecuteTime": {
     "end_time": "2019-05-05T06:46:38.525700Z",
     "start_time": "2019-05-05T06:46:38.337203Z"
    }
   },
   "outputs": [
    {
     "data": {
      "text/html": [
       "<div>\n",
       "<style scoped>\n",
       "    .dataframe tbody tr th:only-of-type {\n",
       "        vertical-align: middle;\n",
       "    }\n",
       "\n",
       "    .dataframe tbody tr th {\n",
       "        vertical-align: top;\n",
       "    }\n",
       "\n",
       "    .dataframe thead th {\n",
       "        text-align: right;\n",
       "    }\n",
       "</style>\n",
       "<table border=\"1\" class=\"dataframe\">\n",
       "  <thead>\n",
       "    <tr style=\"text-align: right;\">\n",
       "      <th></th>\n",
       "      <th>1</th>\n",
       "      <th>2</th>\n",
       "      <th>3</th>\n",
       "      <th>4</th>\n",
       "      <th>5</th>\n",
       "      <th>6</th>\n",
       "      <th>7</th>\n",
       "      <th>8</th>\n",
       "      <th>9</th>\n",
       "      <th>10</th>\n",
       "      <th>...</th>\n",
       "      <th>9991</th>\n",
       "      <th>9992</th>\n",
       "      <th>9993</th>\n",
       "      <th>9994</th>\n",
       "      <th>9995</th>\n",
       "      <th>9996</th>\n",
       "      <th>9997</th>\n",
       "      <th>9998</th>\n",
       "      <th>9999</th>\n",
       "      <th>10000</th>\n",
       "    </tr>\n",
       "  </thead>\n",
       "  <tbody>\n",
       "    <tr>\n",
       "      <th>1</th>\n",
       "      <td>1.000000</td>\n",
       "      <td>0.160908</td>\n",
       "      <td>-0.031925</td>\n",
       "      <td>0.057201</td>\n",
       "      <td>-0.032354</td>\n",
       "      <td>0.097614</td>\n",
       "      <td>0.003601</td>\n",
       "      <td>-0.033949</td>\n",
       "      <td>0.019652</td>\n",
       "      <td>0.062751</td>\n",
       "      <td>...</td>\n",
       "      <td>0.000213</td>\n",
       "      <td>-0.000544</td>\n",
       "      <td>-0.002776</td>\n",
       "      <td>0.006636</td>\n",
       "      <td>-0.001584</td>\n",
       "      <td>-0.004744</td>\n",
       "      <td>-0.003601</td>\n",
       "      <td>-0.001484</td>\n",
       "      <td>-0.008362</td>\n",
       "      <td>-0.001154</td>\n",
       "    </tr>\n",
       "    <tr>\n",
       "      <th>2</th>\n",
       "      <td>0.160908</td>\n",
       "      <td>1.000000</td>\n",
       "      <td>-0.140739</td>\n",
       "      <td>0.077358</td>\n",
       "      <td>-0.041489</td>\n",
       "      <td>0.055014</td>\n",
       "      <td>0.070666</td>\n",
       "      <td>-0.055633</td>\n",
       "      <td>0.000736</td>\n",
       "      <td>0.079883</td>\n",
       "      <td>...</td>\n",
       "      <td>-0.003834</td>\n",
       "      <td>-0.002613</td>\n",
       "      <td>0.003130</td>\n",
       "      <td>0.008077</td>\n",
       "      <td>-0.000640</td>\n",
       "      <td>-0.003086</td>\n",
       "      <td>0.001596</td>\n",
       "      <td>0.001712</td>\n",
       "      <td>-0.002568</td>\n",
       "      <td>0.001918</td>\n",
       "    </tr>\n",
       "    <tr>\n",
       "      <th>3</th>\n",
       "      <td>-0.031925</td>\n",
       "      <td>-0.140739</td>\n",
       "      <td>1.000000</td>\n",
       "      <td>-0.102555</td>\n",
       "      <td>0.018040</td>\n",
       "      <td>-0.030820</td>\n",
       "      <td>-0.074245</td>\n",
       "      <td>0.045801</td>\n",
       "      <td>0.092864</td>\n",
       "      <td>-0.042211</td>\n",
       "      <td>...</td>\n",
       "      <td>0.000588</td>\n",
       "      <td>0.000722</td>\n",
       "      <td>-0.001307</td>\n",
       "      <td>-0.012517</td>\n",
       "      <td>0.005616</td>\n",
       "      <td>-0.004577</td>\n",
       "      <td>-0.002103</td>\n",
       "      <td>-0.007541</td>\n",
       "      <td>-0.005134</td>\n",
       "      <td>-0.005772</td>\n",
       "    </tr>\n",
       "    <tr>\n",
       "      <th>4</th>\n",
       "      <td>0.057201</td>\n",
       "      <td>0.077358</td>\n",
       "      <td>-0.102555</td>\n",
       "      <td>1.000000</td>\n",
       "      <td>0.059419</td>\n",
       "      <td>0.029309</td>\n",
       "      <td>0.040175</td>\n",
       "      <td>0.021020</td>\n",
       "      <td>-0.066932</td>\n",
       "      <td>0.104644</td>\n",
       "      <td>...</td>\n",
       "      <td>-0.003452</td>\n",
       "      <td>-0.002976</td>\n",
       "      <td>0.003553</td>\n",
       "      <td>-0.007009</td>\n",
       "      <td>-0.010980</td>\n",
       "      <td>0.001920</td>\n",
       "      <td>0.001449</td>\n",
       "      <td>0.005182</td>\n",
       "      <td>-0.004473</td>\n",
       "      <td>0.002732</td>\n",
       "    </tr>\n",
       "    <tr>\n",
       "      <th>5</th>\n",
       "      <td>-0.032354</td>\n",
       "      <td>-0.041489</td>\n",
       "      <td>0.018040</td>\n",
       "      <td>0.059419</td>\n",
       "      <td>1.000000</td>\n",
       "      <td>0.002683</td>\n",
       "      <td>-0.022331</td>\n",
       "      <td>0.143918</td>\n",
       "      <td>-0.009220</td>\n",
       "      <td>0.022881</td>\n",
       "      <td>...</td>\n",
       "      <td>-0.003136</td>\n",
       "      <td>0.001688</td>\n",
       "      <td>-0.004796</td>\n",
       "      <td>0.002315</td>\n",
       "      <td>0.011939</td>\n",
       "      <td>-0.005000</td>\n",
       "      <td>0.004715</td>\n",
       "      <td>0.005097</td>\n",
       "      <td>-0.001746</td>\n",
       "      <td>0.007714</td>\n",
       "    </tr>\n",
       "  </tbody>\n",
       "</table>\n",
       "<p>5 rows × 10000 columns</p>\n",
       "</div>"
      ],
      "text/plain": [
       "      1         2         3         4         5         6         7      \\\n",
       "1  1.000000  0.160908 -0.031925  0.057201 -0.032354  0.097614  0.003601   \n",
       "2  0.160908  1.000000 -0.140739  0.077358 -0.041489  0.055014  0.070666   \n",
       "3 -0.031925 -0.140739  1.000000 -0.102555  0.018040 -0.030820 -0.074245   \n",
       "4  0.057201  0.077358 -0.102555  1.000000  0.059419  0.029309  0.040175   \n",
       "5 -0.032354 -0.041489  0.018040  0.059419  1.000000  0.002683 -0.022331   \n",
       "\n",
       "      8         9         10     ...     9991      9992      9993      9994   \\\n",
       "1 -0.033949  0.019652  0.062751  ...  0.000213 -0.000544 -0.002776  0.006636   \n",
       "2 -0.055633  0.000736  0.079883  ... -0.003834 -0.002613  0.003130  0.008077   \n",
       "3  0.045801  0.092864 -0.042211  ...  0.000588  0.000722 -0.001307 -0.012517   \n",
       "4  0.021020 -0.066932  0.104644  ... -0.003452 -0.002976  0.003553 -0.007009   \n",
       "5  0.143918 -0.009220  0.022881  ... -0.003136  0.001688 -0.004796  0.002315   \n",
       "\n",
       "      9995      9996      9997      9998      9999      10000  \n",
       "1 -0.001584 -0.004744 -0.003601 -0.001484 -0.008362 -0.001154  \n",
       "2 -0.000640 -0.003086  0.001596  0.001712 -0.002568  0.001918  \n",
       "3  0.005616 -0.004577 -0.002103 -0.007541 -0.005134 -0.005772  \n",
       "4 -0.010980  0.001920  0.001449  0.005182 -0.004473  0.002732  \n",
       "5  0.011939 -0.005000  0.004715  0.005097 -0.001746  0.007714  \n",
       "\n",
       "[5 rows x 10000 columns]"
      ]
     },
     "execution_count": 8,
     "metadata": {},
     "output_type": "execute_result"
    }
   ],
   "source": [
    "cf_sim.head()"
   ]
  },
  {
   "cell_type": "code",
   "execution_count": 9,
   "metadata": {
    "ExecuteTime": {
     "end_time": "2019-05-05T06:47:25.200996Z",
     "start_time": "2019-05-05T06:47:11.172408Z"
    }
   },
   "outputs": [
    {
     "data": {
      "application/vnd.jupyter.widget-view+json": {
       "model_id": "e355cea3927e49ef85bc2900d2d48c70",
       "version_major": 2,
       "version_minor": 0
      },
      "text/plain": [
       "HBox(children=(IntProgress(value=0, max=10000), HTML(value='')))"
      ]
     },
     "metadata": {},
     "output_type": "display_data"
    },
    {
     "name": "stdout",
     "output_type": "stream",
     "text": [
      "\n"
     ]
    }
   ],
   "source": [
    "cf_top_sim_books = {}\n",
    "book_ids = cf_sim.index\n",
    "for book_id in tqdm(book_ids):\n",
    "    cf_top_sim_books[book_id] = cf_sim.loc[book_id].sort_values(ascending=False)[1:51]"
   ]
  },
  {
   "cell_type": "code",
   "execution_count": 13,
   "metadata": {
    "ExecuteTime": {
     "end_time": "2019-05-05T06:49:37.934335Z",
     "start_time": "2019-05-05T06:49:37.791828Z"
    }
   },
   "outputs": [
    {
     "data": {
      "text/plain": [
       "17    0.338596\n",
       "20    0.172852\n",
       "2     0.160908\n",
       "31    0.147547\n",
       "25    0.146911\n",
       "Name: 1, dtype: float64"
      ]
     },
     "execution_count": 13,
     "metadata": {},
     "output_type": "execute_result"
    }
   ],
   "source": [
    "cf_top_sim_books[1].head()"
   ]
  },
  {
   "cell_type": "code",
   "execution_count": 10,
   "metadata": {
    "ExecuteTime": {
     "end_time": "2019-05-05T06:47:58.381842Z",
     "start_time": "2019-05-05T06:47:41.731811Z"
    }
   },
   "outputs": [
    {
     "data": {
      "application/vnd.jupyter.widget-view+json": {
       "model_id": "5a6f139e24924572ab4a4134642b45db",
       "version_major": 2,
       "version_minor": 0
      },
      "text/plain": [
       "HBox(children=(IntProgress(value=0, max=10000), HTML(value='')))"
      ]
     },
     "metadata": {},
     "output_type": "display_data"
    },
    {
     "name": "stdout",
     "output_type": "stream",
     "text": [
      "\n"
     ]
    }
   ],
   "source": [
    "cb_top_sim_books = {}\n",
    "book_ids = book_sim.index\n",
    "for book_id in tqdm(book_ids):\n",
    "    cb_top_sim_books[book_id] = book_sim.loc[book_id].sort_values(ascending=False)[1:51]"
   ]
  },
  {
   "cell_type": "code",
   "execution_count": 18,
   "metadata": {
    "ExecuteTime": {
     "end_time": "2019-05-05T06:53:13.785080Z",
     "start_time": "2019-05-05T06:53:13.618118Z"
    }
   },
   "outputs": [
    {
     "data": {
      "text/plain": [
       "book_id\n",
       "20     0.947613\n",
       "17     0.937363\n",
       "507    0.910072\n",
       "12     0.848734\n",
       "91     0.842863\n",
       "Name: 1, dtype: float64"
      ]
     },
     "execution_count": 18,
     "metadata": {},
     "output_type": "execute_result"
    }
   ],
   "source": [
    "cb_top_sim_books[1].head()"
   ]
  },
  {
   "cell_type": "code",
   "execution_count": 11,
   "metadata": {
    "ExecuteTime": {
     "end_time": "2019-05-05T06:48:35.255829Z",
     "start_time": "2019-05-05T06:48:30.262822Z"
    }
   },
   "outputs": [],
   "source": [
    "list_of_5_ratings = training_ratings[training_ratings.rating==5].groupby('user_id')['book_id'].apply(list)"
   ]
  },
  {
   "cell_type": "markdown",
   "metadata": {},
   "source": [
    "# Hybrid Recommender System"
   ]
  },
  {
   "cell_type": "markdown",
   "metadata": {},
   "source": [
    "We'll make the hybrid recommender flexible by enabling it to take the proportional rate as argument to its constructor"
   ]
  },
  {
   "cell_type": "code",
   "execution_count": 22,
   "metadata": {
    "ExecuteTime": {
     "end_time": "2019-05-05T06:55:41.753026Z",
     "start_time": "2019-05-05T06:55:41.606867Z"
    }
   },
   "outputs": [],
   "source": [
    "class HybridRecommender:\n",
    "    name = \"Hybrid CF RS\"\n",
    "    preds = {}\n",
    "\n",
    "    def __init__(self, rate=1):\n",
    "        self.rate = rate\n",
    "        self.name = \"Hybrid CF RS (rate=\" + str(rate) + \")\"\n",
    "\n",
    "    def fit(self, training_ratings):\n",
    "        user_ids = training_ratings.user_id.unique().tolist()\n",
    "        self.preds = {}\n",
    "        for user_id in tqdm(user_ids):\n",
    "            excluded_books = training_ratings[training_ratings.user_id == user_id].book_id.unique(\n",
    "            ).tolist()\n",
    "            most_similar_books = pd.Series([])\n",
    "            for book_id in list_of_5_ratings[user_id]:\n",
    "                most_similar_books = most_similar_books.append(\n",
    "                    cb_top_sim_books[book_id])\n",
    "                most_similar_books = most_similar_books.append(\n",
    "                    cf_top_sim_books[book_id] * self.rate)\n",
    "\n",
    "            most_similar_books = np.array(most_similar_books.groupby(\n",
    "                most_similar_books.index).sum().sort_values(ascending=False).index)\n",
    "            recommendable = most_similar_books[~np.in1d(\n",
    "                most_similar_books, excluded_books)]\n",
    "\n",
    "            self.preds[user_id] = recommendable[:10].tolist()\n",
    "\n",
    "    def recommendation_for_user(self, user_id):\n",
    "        if user_id not in self.preds:\n",
    "            return []\n",
    "        return self.preds[user_id]\n",
    "\n",
    "    def all_recommendation(self):\n",
    "        return self.preds"
   ]
  },
  {
   "cell_type": "markdown",
   "metadata": {},
   "source": [
    "## rate = 1"
   ]
  },
  {
   "cell_type": "code",
   "execution_count": 24,
   "metadata": {
    "ExecuteTime": {
     "end_time": "2019-05-05T06:55:52.550829Z",
     "start_time": "2019-05-05T06:55:52.413332Z"
    }
   },
   "outputs": [
    {
     "data": {
      "text/plain": [
       "'Hybrid CF RS (rate=1)'"
      ]
     },
     "execution_count": 24,
     "metadata": {},
     "output_type": "execute_result"
    }
   ],
   "source": [
    "hb_rec = HybridRecommender(rate=1)\n",
    "hb_rec.name"
   ]
  },
  {
   "cell_type": "code",
   "execution_count": 25,
   "metadata": {
    "ExecuteTime": {
     "end_time": "2019-05-05T07:18:59.866596Z",
     "start_time": "2019-05-05T06:56:05.456230Z"
    }
   },
   "outputs": [
    {
     "name": "stdout",
     "output_type": "stream",
     "text": [
      "Calculating recommendations:\n"
     ]
    },
    {
     "data": {
      "application/vnd.jupyter.widget-view+json": {
       "model_id": "34c76d570a9a4810a8a6211a06c00e42",
       "version_major": 2,
       "version_minor": 0
      },
      "text/plain": [
       "HBox(children=(IntProgress(value=0, max=52363), HTML(value='')))"
      ]
     },
     "metadata": {},
     "output_type": "display_data"
    },
    {
     "name": "stdout",
     "output_type": "stream",
     "text": [
      "\n",
      "Calculating metrics:\n"
     ]
    },
    {
     "data": {
      "application/vnd.jupyter.widget-view+json": {
       "model_id": "f038a59f4db745e3910159aae266a335",
       "version_major": 2,
       "version_minor": 0
      },
      "text/plain": [
       "HBox(children=(IntProgress(value=0, max=52363), HTML(value='')))"
      ]
     },
     "metadata": {},
     "output_type": "display_data"
    },
    {
     "name": "stdout",
     "output_type": "stream",
     "text": [
      "\n",
      "                       Hybrid CF RS (rate=1)\n",
      "Mean Average Precision                10.79%\n",
      "Coverage                              81.78%\n",
      "Novelty Score                           6.16\n",
      "Diversity Score                         2.62\n",
      "Personalization Score                   9.88\n"
     ]
    }
   ],
   "source": [
    "evl.evaluate(hb_rec)\n",
    "evl.print_result()"
   ]
  },
  {
   "cell_type": "markdown",
   "metadata": {},
   "source": [
    "## rate = 2"
   ]
  },
  {
   "cell_type": "code",
   "execution_count": 26,
   "metadata": {
    "ExecuteTime": {
     "end_time": "2019-05-05T07:45:31.679453Z",
     "start_time": "2019-05-05T07:23:13.160485Z"
    }
   },
   "outputs": [
    {
     "name": "stdout",
     "output_type": "stream",
     "text": [
      "Calculating recommendations:\n"
     ]
    },
    {
     "data": {
      "application/vnd.jupyter.widget-view+json": {
       "model_id": "91d1e6bf13a94ff4aafaed2f5768cbb4",
       "version_major": 2,
       "version_minor": 0
      },
      "text/plain": [
       "HBox(children=(IntProgress(value=0, max=52363), HTML(value='')))"
      ]
     },
     "metadata": {},
     "output_type": "display_data"
    },
    {
     "name": "stdout",
     "output_type": "stream",
     "text": [
      "\n",
      "Calculating metrics:\n"
     ]
    },
    {
     "data": {
      "application/vnd.jupyter.widget-view+json": {
       "model_id": "e4c584ca3ae34bab8b48dfed8294fe0f",
       "version_major": 2,
       "version_minor": 0
      },
      "text/plain": [
       "HBox(children=(IntProgress(value=0, max=52363), HTML(value='')))"
      ]
     },
     "metadata": {},
     "output_type": "display_data"
    },
    {
     "name": "stdout",
     "output_type": "stream",
     "text": [
      "\n",
      "                       Hybrid CF RS (rate=1) Hybrid CF RS (rate=2)\n",
      "Mean Average Precision                10.79%                13.38%\n",
      "Coverage                              81.78%                82.50%\n",
      "Novelty Score                           6.16                  6.04\n",
      "Diversity Score                         2.62                  2.78\n",
      "Personalization Score                   9.88                  9.89\n"
     ]
    }
   ],
   "source": [
    "hb_rec2 = HybridRecommender(rate=2)\n",
    "evl.evaluate(hb_rec2)\n",
    "evl.print_result()"
   ]
  },
  {
   "cell_type": "markdown",
   "metadata": {},
   "source": [
    "## rate = 4"
   ]
  },
  {
   "cell_type": "code",
   "execution_count": 27,
   "metadata": {
    "ExecuteTime": {
     "end_time": "2019-05-05T08:11:18.115026Z",
     "start_time": "2019-05-05T07:47:40.037731Z"
    },
    "scrolled": false
   },
   "outputs": [
    {
     "name": "stdout",
     "output_type": "stream",
     "text": [
      "Calculating recommendations:\n"
     ]
    },
    {
     "data": {
      "application/vnd.jupyter.widget-view+json": {
       "model_id": "d22efee107864d579bbcf3050026e54c",
       "version_major": 2,
       "version_minor": 0
      },
      "text/plain": [
       "HBox(children=(IntProgress(value=0, max=52363), HTML(value='')))"
      ]
     },
     "metadata": {},
     "output_type": "display_data"
    },
    {
     "name": "stdout",
     "output_type": "stream",
     "text": [
      "\n",
      "Calculating metrics:\n"
     ]
    },
    {
     "data": {
      "application/vnd.jupyter.widget-view+json": {
       "model_id": "59b588f09b8c4cfa9ea449bb1e4ff633",
       "version_major": 2,
       "version_minor": 0
      },
      "text/plain": [
       "HBox(children=(IntProgress(value=0, max=52363), HTML(value='')))"
      ]
     },
     "metadata": {},
     "output_type": "display_data"
    },
    {
     "name": "stdout",
     "output_type": "stream",
     "text": [
      "\n",
      "                       Hybrid CF RS (rate=1) Hybrid CF RS (rate=2)  \\\n",
      "Mean Average Precision                10.79%                13.38%   \n",
      "Coverage                              81.78%                82.50%   \n",
      "Novelty Score                           6.16                  6.04   \n",
      "Diversity Score                         2.62                  2.78   \n",
      "Personalization Score                   9.88                  9.89   \n",
      "\n",
      "                       Hybrid CF RS (rate=4)  \n",
      "Mean Average Precision                16.90%  \n",
      "Coverage                              83.23%  \n",
      "Novelty Score                           5.83  \n",
      "Diversity Score                         3.08  \n",
      "Personalization Score                   9.88  \n"
     ]
    }
   ],
   "source": [
    "hb_rec4 = HybridRecommender(rate=4)\n",
    "evl.evaluate(hb_rec4)\n",
    "evl.print_result()"
   ]
  },
  {
   "cell_type": "markdown",
   "metadata": {},
   "source": [
    "# Alternate version"
   ]
  },
  {
   "cell_type": "code",
   "execution_count": 29,
   "metadata": {
    "ExecuteTime": {
     "end_time": "2019-05-05T08:14:34.569081Z",
     "start_time": "2019-05-05T08:14:34.427537Z"
    }
   },
   "outputs": [],
   "source": [
    "class AltHybridRecommender:\n",
    "    name = \"Alt Hybrid RS\"\n",
    "    preds = {}\n",
    "\n",
    "    def __init__(self, rate=1):\n",
    "        self.rate = rate\n",
    "        self.name = \"Alt Hybrid RS (rate=\" + str(rate) + \")\"\n",
    "\n",
    "    def fit(self, training_ratings):\n",
    "        user_ids = training_ratings.user_id.unique().tolist()\n",
    "        self.preds = {}\n",
    "        for user_id in tqdm(user_ids):\n",
    "            excluded_books = training_ratings[training_ratings.user_id == user_id].book_id.unique(\n",
    "            ).tolist()\n",
    "            most_similar_books = pd.Series([])\n",
    "            for book_id in list_of_5_ratings[user_id]:\n",
    "                most_similar_books = most_similar_books.append(\n",
    "                    cb_top_sim_books[book_id])\n",
    "                most_similar_books = most_similar_books.append(\n",
    "                    cf_top_sim_books[book_id] + self.rate)\n",
    "\n",
    "            most_similar_books = np.array(most_similar_books.groupby(\n",
    "                most_similar_books.index).sum().sort_values(ascending=False).index)\n",
    "            recommendable = most_similar_books[~np.in1d(\n",
    "                most_similar_books, excluded_books)]\n",
    "\n",
    "            self.preds[user_id] = recommendable[:10].tolist()\n",
    "\n",
    "    def recommendation_for_user(self, user_id):\n",
    "        if user_id not in self.preds:\n",
    "            return []\n",
    "        return self.preds[user_id]\n",
    "\n",
    "    def all_recommendation(self):\n",
    "        return self.preds"
   ]
  },
  {
   "cell_type": "code",
   "execution_count": 30,
   "metadata": {
    "ExecuteTime": {
     "end_time": "2019-05-05T08:37:18.224597Z",
     "start_time": "2019-05-05T08:15:01.843450Z"
    },
    "scrolled": false
   },
   "outputs": [
    {
     "name": "stdout",
     "output_type": "stream",
     "text": [
      "Calculating recommendations:\n"
     ]
    },
    {
     "data": {
      "application/vnd.jupyter.widget-view+json": {
       "model_id": "5546c3d04c644a359d0784f3633b6886",
       "version_major": 2,
       "version_minor": 0
      },
      "text/plain": [
       "HBox(children=(IntProgress(value=0, max=52363), HTML(value='')))"
      ]
     },
     "metadata": {},
     "output_type": "display_data"
    },
    {
     "name": "stdout",
     "output_type": "stream",
     "text": [
      "\n",
      "Calculating metrics:\n"
     ]
    },
    {
     "data": {
      "application/vnd.jupyter.widget-view+json": {
       "model_id": "e2981c7f77824eb5acc2f818940a31ae",
       "version_major": 2,
       "version_minor": 0
      },
      "text/plain": [
       "HBox(children=(IntProgress(value=0, max=52363), HTML(value='')))"
      ]
     },
     "metadata": {},
     "output_type": "display_data"
    },
    {
     "name": "stdout",
     "output_type": "stream",
     "text": [
      "\n",
      "                       Hybrid CF RS (rate=1) Hybrid CF RS (rate=2)  \\\n",
      "Mean Average Precision                10.79%                13.38%   \n",
      "Coverage                              81.78%                82.50%   \n",
      "Novelty Score                           6.16                  6.04   \n",
      "Diversity Score                         2.62                  2.78   \n",
      "Personalization Score                   9.88                  9.89   \n",
      "\n",
      "                       Hybrid CF RS (rate=4) Alt Hybrid RS (rate=1)  \n",
      "Mean Average Precision                16.90%                 16.33%  \n",
      "Coverage                              83.23%                 88.06%  \n",
      "Novelty Score                           5.83                   5.06  \n",
      "Diversity Score                         3.08                   3.75  \n",
      "Personalization Score                   9.88                   9.73  \n"
     ]
    }
   ],
   "source": [
    "ahb_rec = AltHybridRecommender()\n",
    "evl.evaluate(ahb_rec)\n",
    "evl.print_result()"
   ]
  },
  {
   "cell_type": "markdown",
   "metadata": {},
   "source": [
    "# Experiment"
   ]
  },
  {
   "cell_type": "code",
   "execution_count": 32,
   "metadata": {
    "ExecuteTime": {
     "end_time": "2019-05-05T09:07:51.193767Z",
     "start_time": "2019-05-05T08:44:02.609163Z"
    }
   },
   "outputs": [
    {
     "name": "stdout",
     "output_type": "stream",
     "text": [
      "Calculating recommendations:\n"
     ]
    },
    {
     "data": {
      "application/vnd.jupyter.widget-view+json": {
       "model_id": "e174d7c1d50c401ba2592e5159d23537",
       "version_major": 2,
       "version_minor": 0
      },
      "text/plain": [
       "HBox(children=(IntProgress(value=0, max=52363), HTML(value='')))"
      ]
     },
     "metadata": {},
     "output_type": "display_data"
    },
    {
     "name": "stdout",
     "output_type": "stream",
     "text": [
      "\n",
      "Calculating metrics:\n"
     ]
    },
    {
     "data": {
      "application/vnd.jupyter.widget-view+json": {
       "model_id": "41439a03659c46a6b535fe5247c954da",
       "version_major": 2,
       "version_minor": 0
      },
      "text/plain": [
       "HBox(children=(IntProgress(value=0, max=52363), HTML(value='')))"
      ]
     },
     "metadata": {},
     "output_type": "display_data"
    },
    {
     "name": "stdout",
     "output_type": "stream",
     "text": [
      "\n",
      "                       Hybrid CF RS (rate=1) Hybrid CF RS (rate=2)  \\\n",
      "Mean Average Precision                10.79%                13.38%   \n",
      "Coverage                              81.78%                82.50%   \n",
      "Novelty Score                           6.16                  6.04   \n",
      "Diversity Score                         2.62                  2.78   \n",
      "Personalization Score                   9.88                  9.89   \n",
      "\n",
      "                       Hybrid CF RS (rate=4) Alt Hybrid RS (rate=1)  \\\n",
      "Mean Average Precision                16.90%                 16.33%   \n",
      "Coverage                              83.23%                 88.06%   \n",
      "Novelty Score                           5.83                   5.06   \n",
      "Diversity Score                         3.08                   3.75   \n",
      "Personalization Score                   9.88                   9.73   \n",
      "\n",
      "                       Hybrid CF RS (rate=7)  \n",
      "Mean Average Precision                19.74%  \n",
      "Coverage                              83.73%  \n",
      "Novelty Score                           5.58  \n",
      "Diversity Score                         3.42  \n",
      "Personalization Score                   9.84  \n"
     ]
    }
   ],
   "source": [
    "hb_rec7 = HybridRecommender(rate=7)\n",
    "evl.evaluate(hb_rec7)\n",
    "evl.print_result()"
   ]
  },
  {
   "cell_type": "code",
   "execution_count": 33,
   "metadata": {
    "ExecuteTime": {
     "end_time": "2019-05-05T09:39:07.043720Z",
     "start_time": "2019-05-05T09:15:01.166226Z"
    },
    "scrolled": false
   },
   "outputs": [
    {
     "name": "stdout",
     "output_type": "stream",
     "text": [
      "Calculating recommendations:\n"
     ]
    },
    {
     "data": {
      "application/vnd.jupyter.widget-view+json": {
       "model_id": "4293a18403dd4dc8bac5cfd7c8f2e770",
       "version_major": 2,
       "version_minor": 0
      },
      "text/plain": [
       "HBox(children=(IntProgress(value=0, max=52363), HTML(value='')))"
      ]
     },
     "metadata": {},
     "output_type": "display_data"
    },
    {
     "name": "stdout",
     "output_type": "stream",
     "text": [
      "\n",
      "Calculating metrics:\n"
     ]
    },
    {
     "data": {
      "application/vnd.jupyter.widget-view+json": {
       "model_id": "cf727a5b1b3f4db69cfc87f4b9368a2a",
       "version_major": 2,
       "version_minor": 0
      },
      "text/plain": [
       "HBox(children=(IntProgress(value=0, max=52363), HTML(value='')))"
      ]
     },
     "metadata": {},
     "output_type": "display_data"
    },
    {
     "name": "stdout",
     "output_type": "stream",
     "text": [
      "\n",
      "                       Hybrid CF RS (rate=1) Hybrid CF RS (rate=2)  \\\n",
      "Mean Average Precision                10.79%                13.38%   \n",
      "Coverage                              81.78%                82.50%   \n",
      "Novelty Score                           6.16                  6.04   \n",
      "Diversity Score                         2.62                  2.78   \n",
      "Personalization Score                   9.88                  9.89   \n",
      "\n",
      "                       Hybrid CF RS (rate=4) Alt Hybrid RS (rate=1)  \\\n",
      "Mean Average Precision                16.90%                 16.33%   \n",
      "Coverage                              83.23%                 88.06%   \n",
      "Novelty Score                           5.83                   5.06   \n",
      "Diversity Score                         3.08                   3.75   \n",
      "Personalization Score                   9.88                   9.73   \n",
      "\n",
      "                       Hybrid CF RS (rate=7) Hybrid CF RS (rate=10)  \n",
      "Mean Average Precision                19.74%                 21.13%  \n",
      "Coverage                              83.73%                 84.04%  \n",
      "Novelty Score                           5.58                   5.39  \n",
      "Diversity Score                         3.42                   3.67  \n",
      "Personalization Score                   9.84                   9.80  \n"
     ]
    }
   ],
   "source": [
    "hb_rec10 = HybridRecommender(rate=10)\n",
    "evl.evaluate(hb_rec10)\n",
    "evl.print_result()"
   ]
  },
  {
   "cell_type": "code",
   "execution_count": 35,
   "metadata": {
    "ExecuteTime": {
     "end_time": "2019-05-05T10:44:27.904415Z",
     "start_time": "2019-05-05T10:22:11.273156Z"
    }
   },
   "outputs": [
    {
     "name": "stdout",
     "output_type": "stream",
     "text": [
      "Calculating recommendations:\n"
     ]
    },
    {
     "data": {
      "application/vnd.jupyter.widget-view+json": {
       "model_id": "18bfa2760b654cb3bdf998b0796e4b99",
       "version_major": 2,
       "version_minor": 0
      },
      "text/plain": [
       "HBox(children=(IntProgress(value=0, max=52363), HTML(value='')))"
      ]
     },
     "metadata": {},
     "output_type": "display_data"
    },
    {
     "name": "stdout",
     "output_type": "stream",
     "text": [
      "\n",
      "Calculating metrics:\n"
     ]
    },
    {
     "data": {
      "application/vnd.jupyter.widget-view+json": {
       "model_id": "9c1bf8844c0d40199cfdd91d0df6ab62",
       "version_major": 2,
       "version_minor": 0
      },
      "text/plain": [
       "HBox(children=(IntProgress(value=0, max=52363), HTML(value='')))"
      ]
     },
     "metadata": {},
     "output_type": "display_data"
    },
    {
     "name": "stdout",
     "output_type": "stream",
     "text": [
      "\n",
      "                       Hybrid CF RS (rate=1) Hybrid CF RS (rate=2)  \\\n",
      "Mean Average Precision                10.79%                13.38%   \n",
      "Coverage                              81.78%                82.50%   \n",
      "Novelty Score                           6.16                  6.04   \n",
      "Diversity Score                         2.62                  2.78   \n",
      "Personalization Score                   9.88                  9.89   \n",
      "\n",
      "                       Hybrid CF RS (rate=4) Alt Hybrid RS (rate=1)  \\\n",
      "Mean Average Precision                16.90%                 16.33%   \n",
      "Coverage                              83.23%                 88.06%   \n",
      "Novelty Score                           5.83                   5.06   \n",
      "Diversity Score                         3.08                   3.75   \n",
      "Personalization Score                   9.88                   9.73   \n",
      "\n",
      "                       Hybrid CF RS (rate=7) Hybrid CF RS (rate=10)  \\\n",
      "Mean Average Precision                19.74%                 21.13%   \n",
      "Coverage                              83.73%                 84.04%   \n",
      "Novelty Score                           5.58                   5.39   \n",
      "Diversity Score                         3.42                   3.67   \n",
      "Personalization Score                   9.84                   9.80   \n",
      "\n",
      "                       Hybrid CF RS (rate=15)  \n",
      "Mean Average Precision                 22.15%  \n",
      "Coverage                               84.05%  \n",
      "Novelty Score                            5.21  \n",
      "Diversity Score                          3.91  \n",
      "Personalization Score                    9.75  \n"
     ]
    }
   ],
   "source": [
    "hb_rec15 = HybridRecommender(rate=15)\n",
    "evl.evaluate(hb_rec15)\n",
    "evl.print_result()"
   ]
  },
  {
   "cell_type": "code",
   "execution_count": 36,
   "metadata": {
    "ExecuteTime": {
     "end_time": "2019-05-05T11:15:28.526215Z",
     "start_time": "2019-05-05T10:53:12.315752Z"
    },
    "scrolled": false
   },
   "outputs": [
    {
     "name": "stdout",
     "output_type": "stream",
     "text": [
      "Calculating recommendations:\n"
     ]
    },
    {
     "data": {
      "application/vnd.jupyter.widget-view+json": {
       "model_id": "edfd92549d2a43deb349b6116e82b6e6",
       "version_major": 2,
       "version_minor": 0
      },
      "text/plain": [
       "HBox(children=(IntProgress(value=0, max=52363), HTML(value='')))"
      ]
     },
     "metadata": {},
     "output_type": "display_data"
    },
    {
     "name": "stdout",
     "output_type": "stream",
     "text": [
      "\n",
      "Calculating metrics:\n"
     ]
    },
    {
     "data": {
      "application/vnd.jupyter.widget-view+json": {
       "model_id": "03758d56da9f4a78bc697df03093ba67",
       "version_major": 2,
       "version_minor": 0
      },
      "text/plain": [
       "HBox(children=(IntProgress(value=0, max=52363), HTML(value='')))"
      ]
     },
     "metadata": {},
     "output_type": "display_data"
    },
    {
     "name": "stdout",
     "output_type": "stream",
     "text": [
      "\n",
      "                       Hybrid CF RS (rate=1) Hybrid CF RS (rate=2)  \\\n",
      "Mean Average Precision                10.79%                13.38%   \n",
      "Coverage                              81.78%                82.50%   \n",
      "Novelty Score                           6.16                  6.04   \n",
      "Diversity Score                         2.62                  2.78   \n",
      "Personalization Score                   9.88                  9.89   \n",
      "\n",
      "                       Hybrid CF RS (rate=4) Alt Hybrid RS (rate=1)  \\\n",
      "Mean Average Precision                16.90%                 16.33%   \n",
      "Coverage                              83.23%                 88.06%   \n",
      "Novelty Score                           5.83                   5.06   \n",
      "Diversity Score                         3.08                   3.75   \n",
      "Personalization Score                   9.88                   9.73   \n",
      "\n",
      "                       Hybrid CF RS (rate=7) Hybrid CF RS (rate=10)  \\\n",
      "Mean Average Precision                19.74%                 21.13%   \n",
      "Coverage                              83.73%                 84.04%   \n",
      "Novelty Score                           5.58                   5.39   \n",
      "Diversity Score                         3.42                   3.67   \n",
      "Personalization Score                   9.84                   9.80   \n",
      "\n",
      "                       Hybrid CF RS (rate=15) Hybrid CF RS (rate=20)  \n",
      "Mean Average Precision                 22.15%                 22.55%  \n",
      "Coverage                               84.05%                 84.23%  \n",
      "Novelty Score                            5.21                   5.11  \n",
      "Diversity Score                          3.91                   4.06  \n",
      "Personalization Score                    9.75                   9.72  \n"
     ]
    }
   ],
   "source": [
    "hb_rec20 = HybridRecommender(rate=20)\n",
    "evl.evaluate(hb_rec20)\n",
    "evl.print_result()"
   ]
  },
  {
   "cell_type": "code",
   "execution_count": 37,
   "metadata": {
    "ExecuteTime": {
     "end_time": "2019-05-05T11:37:45.779138Z",
     "start_time": "2019-05-05T11:17:26.514099Z"
    },
    "scrolled": false
   },
   "outputs": [
    {
     "name": "stdout",
     "output_type": "stream",
     "text": [
      "Calculating recommendations:\n"
     ]
    },
    {
     "data": {
      "application/vnd.jupyter.widget-view+json": {
       "model_id": "4e39703bcfd14adda438e69fa7f755a8",
       "version_major": 2,
       "version_minor": 0
      },
      "text/plain": [
       "HBox(children=(IntProgress(value=0, max=52363), HTML(value='')))"
      ]
     },
     "metadata": {},
     "output_type": "display_data"
    },
    {
     "name": "stdout",
     "output_type": "stream",
     "text": [
      "\n",
      "Calculating metrics:\n"
     ]
    },
    {
     "data": {
      "application/vnd.jupyter.widget-view+json": {
       "model_id": "3687097b3e504fc7874797951540885e",
       "version_major": 2,
       "version_minor": 0
      },
      "text/plain": [
       "HBox(children=(IntProgress(value=0, max=52363), HTML(value='')))"
      ]
     },
     "metadata": {},
     "output_type": "display_data"
    },
    {
     "name": "stdout",
     "output_type": "stream",
     "text": [
      "\n",
      "                       Hybrid CF RS (rate=1) Hybrid CF RS (rate=2)  \\\n",
      "Mean Average Precision                10.79%                13.38%   \n",
      "Coverage                              81.78%                82.50%   \n",
      "Novelty Score                           6.16                  6.04   \n",
      "Diversity Score                         2.62                  2.78   \n",
      "Personalization Score                   9.88                  9.89   \n",
      "\n",
      "                       Hybrid CF RS (rate=4) Alt Hybrid RS (rate=1)  \\\n",
      "Mean Average Precision                16.90%                 16.33%   \n",
      "Coverage                              83.23%                 88.06%   \n",
      "Novelty Score                           5.83                   5.06   \n",
      "Diversity Score                         3.08                   3.75   \n",
      "Personalization Score                   9.88                   9.73   \n",
      "\n",
      "                       Hybrid CF RS (rate=7) Hybrid CF RS (rate=10)  \\\n",
      "Mean Average Precision                19.74%                 21.13%   \n",
      "Coverage                              83.73%                 84.04%   \n",
      "Novelty Score                           5.58                   5.39   \n",
      "Diversity Score                         3.42                   3.67   \n",
      "Personalization Score                   9.84                   9.80   \n",
      "\n",
      "                       Hybrid CF RS (rate=15) Hybrid CF RS (rate=20)  \\\n",
      "Mean Average Precision                 22.15%                 22.55%   \n",
      "Coverage                               84.05%                 84.23%   \n",
      "Novelty Score                            5.21                   5.11   \n",
      "Diversity Score                          3.91                   4.06   \n",
      "Personalization Score                    9.75                   9.72   \n",
      "\n",
      "                       Hybrid CF RS (rate=30)  \n",
      "Mean Average Precision                 22.79%  \n",
      "Coverage                               84.71%  \n",
      "Novelty Score                            5.01  \n",
      "Diversity Score                          4.20  \n",
      "Personalization Score                    9.68  \n"
     ]
    }
   ],
   "source": [
    "hb_rec30 = HybridRecommender(rate=30)\n",
    "evl.evaluate(hb_rec30)\n",
    "evl.print_result()"
   ]
  },
  {
   "cell_type": "code",
   "execution_count": 38,
   "metadata": {
    "ExecuteTime": {
     "end_time": "2019-05-05T11:58:30.477692Z",
     "start_time": "2019-05-05T11:38:17.328660Z"
    }
   },
   "outputs": [
    {
     "name": "stdout",
     "output_type": "stream",
     "text": [
      "Calculating recommendations:\n"
     ]
    },
    {
     "data": {
      "application/vnd.jupyter.widget-view+json": {
       "model_id": "2941e0f31d884925b6cf21ec78715077",
       "version_major": 2,
       "version_minor": 0
      },
      "text/plain": [
       "HBox(children=(IntProgress(value=0, max=52363), HTML(value='')))"
      ]
     },
     "metadata": {},
     "output_type": "display_data"
    },
    {
     "name": "stdout",
     "output_type": "stream",
     "text": [
      "\n",
      "Calculating metrics:\n"
     ]
    },
    {
     "data": {
      "application/vnd.jupyter.widget-view+json": {
       "model_id": "9f553f92b05045bab0df6dc4fea7983f",
       "version_major": 2,
       "version_minor": 0
      },
      "text/plain": [
       "HBox(children=(IntProgress(value=0, max=52363), HTML(value='')))"
      ]
     },
     "metadata": {},
     "output_type": "display_data"
    },
    {
     "name": "stdout",
     "output_type": "stream",
     "text": [
      "\n",
      "                       Hybrid CF RS (rate=1) Hybrid CF RS (rate=2)  \\\n",
      "Mean Average Precision                10.79%                13.38%   \n",
      "Coverage                              81.78%                82.50%   \n",
      "Novelty Score                           6.16                  6.04   \n",
      "Diversity Score                         2.62                  2.78   \n",
      "Personalization Score                   9.88                  9.89   \n",
      "\n",
      "                       Hybrid CF RS (rate=4) Alt Hybrid RS (rate=1)  \\\n",
      "Mean Average Precision                16.90%                 16.33%   \n",
      "Coverage                              83.23%                 88.06%   \n",
      "Novelty Score                           5.83                   5.06   \n",
      "Diversity Score                         3.08                   3.75   \n",
      "Personalization Score                   9.88                   9.73   \n",
      "\n",
      "                       Hybrid CF RS (rate=7) Hybrid CF RS (rate=10)  \\\n",
      "Mean Average Precision                19.74%                 21.13%   \n",
      "Coverage                              83.73%                 84.04%   \n",
      "Novelty Score                           5.58                   5.39   \n",
      "Diversity Score                         3.42                   3.67   \n",
      "Personalization Score                   9.84                   9.80   \n",
      "\n",
      "                       Hybrid CF RS (rate=15) Hybrid CF RS (rate=20)  \\\n",
      "Mean Average Precision                 22.15%                 22.55%   \n",
      "Coverage                               84.05%                 84.23%   \n",
      "Novelty Score                            5.21                   5.11   \n",
      "Diversity Score                          3.91                   4.06   \n",
      "Personalization Score                    9.75                   9.72   \n",
      "\n",
      "                       Hybrid CF RS (rate=30) Hybrid CF RS (rate=50)  \n",
      "Mean Average Precision                 22.79%                 22.84%  \n",
      "Coverage                               84.71%                 85.10%  \n",
      "Novelty Score                            5.01                   4.94  \n",
      "Diversity Score                          4.20                   4.32  \n",
      "Personalization Score                    9.68                   9.64  \n"
     ]
    }
   ],
   "source": [
    "hb_rec50 = HybridRecommender(rate=50)\n",
    "evl.evaluate(hb_rec50)\n",
    "evl.print_result()"
   ]
  }
 ],
 "metadata": {
  "kernelspec": {
   "display_name": "Python 3",
   "language": "python",
   "name": "python3"
  },
  "language_info": {
   "codemirror_mode": {
    "name": "ipython",
    "version": 3
   },
   "file_extension": ".py",
   "mimetype": "text/x-python",
   "name": "python",
   "nbconvert_exporter": "python",
   "pygments_lexer": "ipython3",
   "version": "3.7.3"
  },
  "toc": {
   "base_numbering": 1,
   "nav_menu": {},
   "number_sections": true,
   "sideBar": true,
   "skip_h1_title": false,
   "title_cell": "Table of Contents",
   "title_sidebar": "Contents",
   "toc_cell": false,
   "toc_position": {},
   "toc_section_display": true,
   "toc_window_display": false
  },
  "varInspector": {
   "cols": {
    "lenName": 16,
    "lenType": 16,
    "lenVar": 40
   },
   "kernels_config": {
    "python": {
     "delete_cmd_postfix": "",
     "delete_cmd_prefix": "del ",
     "library": "var_list.py",
     "varRefreshCmd": "print(var_dic_list())"
    },
    "r": {
     "delete_cmd_postfix": ") ",
     "delete_cmd_prefix": "rm(",
     "library": "var_list.r",
     "varRefreshCmd": "cat(var_dic_list()) "
    }
   },
   "types_to_exclude": [
    "module",
    "function",
    "builtin_function_or_method",
    "instance",
    "_Feature"
   ],
   "window_display": false
  },
  "widgets": {
   "application/vnd.jupyter.widget-state+json": {
    "state": {
     "00224f5d58194e5ba9b773dd5352bd21": {
      "model_module": "@jupyter-widgets/base",
      "model_module_version": "1.1.0",
      "model_name": "LayoutModel",
      "state": {}
     },
     "02f7046b023c4621a4cd63a3dc47ef26": {
      "model_module": "@jupyter-widgets/controls",
      "model_module_version": "1.4.0",
      "model_name": "DescriptionStyleModel",
      "state": {
       "description_width": ""
      }
     },
     "03758d56da9f4a78bc697df03093ba67": {
      "model_module": "@jupyter-widgets/controls",
      "model_module_version": "1.4.0",
      "model_name": "HBoxModel",
      "state": {
       "children": [
        "IPY_MODEL_f4ff57dd330d41f8a0b7b57b17f020b5",
        "IPY_MODEL_6290e95c2bf5427099e505436bf0ff9e"
       ],
       "layout": "IPY_MODEL_6b82266673b04a7e8a5b6b9bdd21d941"
      }
     },
     "03be46d56a3f4bbcb86d610712038efa": {
      "model_module": "@jupyter-widgets/controls",
      "model_module_version": "1.4.0",
      "model_name": "ProgressStyleModel",
      "state": {
       "description_width": ""
      }
     },
     "0534d625f88b41eea7acbac638ec4976": {
      "model_module": "@jupyter-widgets/controls",
      "model_module_version": "1.4.0",
      "model_name": "ProgressStyleModel",
      "state": {
       "description_width": ""
      }
     },
     "064b5528e0ae47788c40bf52f33a848f": {
      "model_module": "@jupyter-widgets/controls",
      "model_module_version": "1.4.0",
      "model_name": "DescriptionStyleModel",
      "state": {
       "description_width": ""
      }
     },
     "083129a1bbbe4422a992af9e9c772757": {
      "model_module": "@jupyter-widgets/controls",
      "model_module_version": "1.4.0",
      "model_name": "IntProgressModel",
      "state": {
       "bar_style": "success",
       "layout": "IPY_MODEL_1f04145eca7e4ff0aaaef529116ade82",
       "max": 52363,
       "style": "IPY_MODEL_7aca15c610514bcbba24d25f1f36535b",
       "value": 52363
      }
     },
     "0895b54b6a7f438aa06a8191c0f322f4": {
      "model_module": "@jupyter-widgets/base",
      "model_module_version": "1.1.0",
      "model_name": "LayoutModel",
      "state": {}
     },
     "0898ccb2b3c34728be7841242b91a66c": {
      "model_module": "@jupyter-widgets/controls",
      "model_module_version": "1.4.0",
      "model_name": "DescriptionStyleModel",
      "state": {
       "description_width": ""
      }
     },
     "08ff7fb8b030469692f53aa974e9078e": {
      "model_module": "@jupyter-widgets/controls",
      "model_module_version": "1.4.0",
      "model_name": "ProgressStyleModel",
      "state": {
       "description_width": ""
      }
     },
     "0a2438e0e4ce4a08ad65c5efb604ae22": {
      "model_module": "@jupyter-widgets/controls",
      "model_module_version": "1.4.0",
      "model_name": "DescriptionStyleModel",
      "state": {
       "description_width": ""
      }
     },
     "0c8d03070b59407188b35a9f36c4edbe": {
      "model_module": "@jupyter-widgets/controls",
      "model_module_version": "1.4.0",
      "model_name": "DescriptionStyleModel",
      "state": {
       "description_width": ""
      }
     },
     "0cbd68880110434f80e2fe436be4e474": {
      "model_module": "@jupyter-widgets/base",
      "model_module_version": "1.1.0",
      "model_name": "LayoutModel",
      "state": {}
     },
     "0ce3aa6411b842c7803e87cc8e32fef5": {
      "model_module": "@jupyter-widgets/controls",
      "model_module_version": "1.4.0",
      "model_name": "DescriptionStyleModel",
      "state": {
       "description_width": ""
      }
     },
     "0d70aca42f32417d9003de8481370678": {
      "model_module": "@jupyter-widgets/controls",
      "model_module_version": "1.4.0",
      "model_name": "DescriptionStyleModel",
      "state": {
       "description_width": ""
      }
     },
     "0f5a75412a0240c29f4fd5ccc3adcadd": {
      "model_module": "@jupyter-widgets/controls",
      "model_module_version": "1.4.0",
      "model_name": "DescriptionStyleModel",
      "state": {
       "description_width": ""
      }
     },
     "1275a08139e644bfbd0e02cd4ef6de01": {
      "model_module": "@jupyter-widgets/base",
      "model_module_version": "1.1.0",
      "model_name": "LayoutModel",
      "state": {}
     },
     "14b8a55782fd4777a8295c9a3761c1a3": {
      "model_module": "@jupyter-widgets/controls",
      "model_module_version": "1.4.0",
      "model_name": "ProgressStyleModel",
      "state": {
       "description_width": ""
      }
     },
     "15125e57689449fe8140411d15a6cba1": {
      "model_module": "@jupyter-widgets/base",
      "model_module_version": "1.1.0",
      "model_name": "LayoutModel",
      "state": {}
     },
     "160486b19ec8432e883fc55df0fdcd75": {
      "model_module": "@jupyter-widgets/base",
      "model_module_version": "1.1.0",
      "model_name": "LayoutModel",
      "state": {}
     },
     "1721c74f240b4ebdbaa49d780cd531d7": {
      "model_module": "@jupyter-widgets/controls",
      "model_module_version": "1.4.0",
      "model_name": "IntProgressModel",
      "state": {
       "bar_style": "success",
       "layout": "IPY_MODEL_7622e53e00f64b5d8ef62c0dc928f9bd",
       "max": 52363,
       "style": "IPY_MODEL_03be46d56a3f4bbcb86d610712038efa",
       "value": 52363
      }
     },
     "18bfa2760b654cb3bdf998b0796e4b99": {
      "model_module": "@jupyter-widgets/controls",
      "model_module_version": "1.4.0",
      "model_name": "HBoxModel",
      "state": {
       "children": [
        "IPY_MODEL_083129a1bbbe4422a992af9e9c772757",
        "IPY_MODEL_cd59b5eed3ce424db29f671cdffcbd53"
       ],
       "layout": "IPY_MODEL_29ecf37c404547cda9d6100c1e63e21d"
      }
     },
     "1a722253a0194e91b745a08925847bf9": {
      "model_module": "@jupyter-widgets/base",
      "model_module_version": "1.1.0",
      "model_name": "LayoutModel",
      "state": {}
     },
     "1bce1b1f768c4716a304183ccecf7e68": {
      "model_module": "@jupyter-widgets/base",
      "model_module_version": "1.1.0",
      "model_name": "LayoutModel",
      "state": {}
     },
     "1c7a1e7165b2422f9f388196a7e0158e": {
      "model_module": "@jupyter-widgets/controls",
      "model_module_version": "1.4.0",
      "model_name": "DescriptionStyleModel",
      "state": {
       "description_width": ""
      }
     },
     "1e66fd32852e4c358184ed4d89745dfa": {
      "model_module": "@jupyter-widgets/controls",
      "model_module_version": "1.4.0",
      "model_name": "HTMLModel",
      "state": {
       "layout": "IPY_MODEL_3a1576ff10ae4d5184721f7a40d6995a",
       "style": "IPY_MODEL_7c9728277ae64fd09ee301ab45ef061f",
       "value": "100% 52363/52363 [19:14&lt;00:00, 45.35it/s]"
      }
     },
     "1f04145eca7e4ff0aaaef529116ade82": {
      "model_module": "@jupyter-widgets/base",
      "model_module_version": "1.1.0",
      "model_name": "LayoutModel",
      "state": {}
     },
     "21ca841b89c847478ccc5aab84c6a4ec": {
      "model_module": "@jupyter-widgets/controls",
      "model_module_version": "1.4.0",
      "model_name": "IntProgressModel",
      "state": {
       "bar_style": "success",
       "layout": "IPY_MODEL_57b5949ac6e149f3b6177cf8d105325b",
       "max": 52363,
       "style": "IPY_MODEL_14b8a55782fd4777a8295c9a3761c1a3",
       "value": 52363
      }
     },
     "220c2009638c46f29b2f0822338796f1": {
      "model_module": "@jupyter-widgets/base",
      "model_module_version": "1.1.0",
      "model_name": "LayoutModel",
      "state": {}
     },
     "22b4e202b701467ebbf091fa441b4149": {
      "model_module": "@jupyter-widgets/base",
      "model_module_version": "1.1.0",
      "model_name": "LayoutModel",
      "state": {}
     },
     "22da14b0934046eda02528a458ce13e2": {
      "model_module": "@jupyter-widgets/base",
      "model_module_version": "1.1.0",
      "model_name": "LayoutModel",
      "state": {}
     },
     "232495d3f67a4004a69ab9a9a26fb8e6": {
      "model_module": "@jupyter-widgets/controls",
      "model_module_version": "1.4.0",
      "model_name": "HTMLModel",
      "state": {
       "layout": "IPY_MODEL_7aa6a270c5a844369e77e106af67f9fb",
       "style": "IPY_MODEL_e66aedbe502f455b8629355b3aad3b3b",
       "value": "100% 52363/52363 [03:38&lt;00:00, 239.38it/s]"
      }
     },
     "23edb68c77334ef2b14822fdf0f7bc23": {
      "model_module": "@jupyter-widgets/base",
      "model_module_version": "1.1.0",
      "model_name": "LayoutModel",
      "state": {}
     },
     "258b7b7e3a994b62baf3aacd334c03b7": {
      "model_module": "@jupyter-widgets/controls",
      "model_module_version": "1.4.0",
      "model_name": "DescriptionStyleModel",
      "state": {
       "description_width": ""
      }
     },
     "25c18fe45ba34607afabf08f3cd9da34": {
      "model_module": "@jupyter-widgets/base",
      "model_module_version": "1.1.0",
      "model_name": "LayoutModel",
      "state": {}
     },
     "26c2a81330e54c40867e7fdeae1618fb": {
      "model_module": "@jupyter-widgets/controls",
      "model_module_version": "1.4.0",
      "model_name": "IntProgressModel",
      "state": {
       "bar_style": "success",
       "layout": "IPY_MODEL_99cc1462412e43349405433d51f0480e",
       "max": 52363,
       "style": "IPY_MODEL_c5f9cd0aacf74bfb8d8142d793e4275f",
       "value": 52363
      }
     },
     "27fb38446338451b934e8340583226db": {
      "model_module": "@jupyter-widgets/controls",
      "model_module_version": "1.4.0",
      "model_name": "ProgressStyleModel",
      "state": {
       "description_width": ""
      }
     },
     "2941e0f31d884925b6cf21ec78715077": {
      "model_module": "@jupyter-widgets/controls",
      "model_module_version": "1.4.0",
      "model_name": "HBoxModel",
      "state": {
       "children": [
        "IPY_MODEL_3cc13fae7f8642cb97eba99efd8acc70",
        "IPY_MODEL_6a32420bcf324aaf912090024f2fb469"
       ],
       "layout": "IPY_MODEL_ac4120af71f7485b8881f4f9799f5fad"
      }
     },
     "2990ff59d72c43f9ad6e9f930a3c8754": {
      "model_module": "@jupyter-widgets/controls",
      "model_module_version": "1.4.0",
      "model_name": "HTMLModel",
      "state": {
       "layout": "IPY_MODEL_6dbf36c2706244aca16556abc3669772",
       "style": "IPY_MODEL_0d70aca42f32417d9003de8481370678",
       "value": "  1% 656/52363 [00:02&lt;03:03, 282.17it/s]"
      }
     },
     "29ecf37c404547cda9d6100c1e63e21d": {
      "model_module": "@jupyter-widgets/base",
      "model_module_version": "1.1.0",
      "model_name": "LayoutModel",
      "state": {}
     },
     "2c7603b227b7460c9157302f43e55b8c": {
      "model_module": "@jupyter-widgets/base",
      "model_module_version": "1.1.0",
      "model_name": "LayoutModel",
      "state": {}
     },
     "31d3940fa58b43339d1f94f6da94a2e5": {
      "model_module": "@jupyter-widgets/base",
      "model_module_version": "1.1.0",
      "model_name": "LayoutModel",
      "state": {}
     },
     "340d6aaa714a4c76bf7bdf6adcd09475": {
      "model_module": "@jupyter-widgets/base",
      "model_module_version": "1.1.0",
      "model_name": "LayoutModel",
      "state": {}
     },
     "34c76d570a9a4810a8a6211a06c00e42": {
      "model_module": "@jupyter-widgets/controls",
      "model_module_version": "1.4.0",
      "model_name": "HBoxModel",
      "state": {
       "children": [
        "IPY_MODEL_1721c74f240b4ebdbaa49d780cd531d7",
        "IPY_MODEL_c184871b187e46c9aec8f29a69bd9f23"
       ],
       "layout": "IPY_MODEL_9a42c8c02dd54104a794f9449f659c5b"
      }
     },
     "366e53c1c3ca4829abefe1c262472d24": {
      "model_module": "@jupyter-widgets/controls",
      "model_module_version": "1.4.0",
      "model_name": "IntProgressModel",
      "state": {
       "bar_style": "success",
       "layout": "IPY_MODEL_7a43e1a96e8d49b7a3f7c29946d45818",
       "max": 52363,
       "style": "IPY_MODEL_b6cafb3cda404903ab95147745a687cf",
       "value": 52363
      }
     },
     "3687097b3e504fc7874797951540885e": {
      "model_module": "@jupyter-widgets/controls",
      "model_module_version": "1.4.0",
      "model_name": "HBoxModel",
      "state": {
       "children": [
        "IPY_MODEL_f642a178548b4a0f85e8977cabb50be9",
        "IPY_MODEL_a2651f98206447d28f85140225a98c93"
       ],
       "layout": "IPY_MODEL_4d8e1c84dc804b0bbd6c803307dd0014"
      }
     },
     "380e323789094b52ab649cce214a8388": {
      "model_module": "@jupyter-widgets/base",
      "model_module_version": "1.1.0",
      "model_name": "LayoutModel",
      "state": {}
     },
     "3a1576ff10ae4d5184721f7a40d6995a": {
      "model_module": "@jupyter-widgets/base",
      "model_module_version": "1.1.0",
      "model_name": "LayoutModel",
      "state": {}
     },
     "3bc0037adf7f455982cb6c93bef284a9": {
      "model_module": "@jupyter-widgets/controls",
      "model_module_version": "1.4.0",
      "model_name": "ProgressStyleModel",
      "state": {
       "description_width": ""
      }
     },
     "3cc13fae7f8642cb97eba99efd8acc70": {
      "model_module": "@jupyter-widgets/controls",
      "model_module_version": "1.4.0",
      "model_name": "IntProgressModel",
      "state": {
       "bar_style": "success",
       "layout": "IPY_MODEL_5b05e779d23c4bcf9d427591b1dd4c75",
       "max": 52363,
       "style": "IPY_MODEL_9519ca9f5a2944188763df9c78e4d2f6",
       "value": 52363
      }
     },
     "3d55ac085b7e4080a6fac958afc24473": {
      "model_module": "@jupyter-widgets/controls",
      "model_module_version": "1.4.0",
      "model_name": "DescriptionStyleModel",
      "state": {
       "description_width": ""
      }
     },
     "3ed5e0d16d3247dab89e80681c767976": {
      "model_module": "@jupyter-widgets/controls",
      "model_module_version": "1.4.0",
      "model_name": "ProgressStyleModel",
      "state": {
       "description_width": ""
      }
     },
     "3ff43e72c17c458fb2f469bcadf58c49": {
      "model_module": "@jupyter-widgets/controls",
      "model_module_version": "1.4.0",
      "model_name": "HTMLModel",
      "state": {
       "layout": "IPY_MODEL_48d30dfdce4c4e57a69350da7aeb4c12",
       "style": "IPY_MODEL_59778635b9b2498794d0114bc3bb7ac7",
       "value": "100% 52363/52363 [17:09&lt;00:00, 31.80it/s]"
      }
     },
     "3ff980d9d59e4c1689225f341fd0aa3d": {
      "model_module": "@jupyter-widgets/controls",
      "model_module_version": "1.4.0",
      "model_name": "IntProgressModel",
      "state": {
       "bar_style": "success",
       "layout": "IPY_MODEL_f7545da5edf1410cb0dc6a1da0644558",
       "max": 52363,
       "style": "IPY_MODEL_8446b5567d364dfcb7ef0ca051dcb3d3",
       "value": 52363
      }
     },
     "40f5413bd8724f76b4e145772f438d4e": {
      "model_module": "@jupyter-widgets/base",
      "model_module_version": "1.1.0",
      "model_name": "LayoutModel",
      "state": {}
     },
     "41439a03659c46a6b535fe5247c954da": {
      "model_module": "@jupyter-widgets/controls",
      "model_module_version": "1.4.0",
      "model_name": "HBoxModel",
      "state": {
       "children": [
        "IPY_MODEL_4321ce0bccf14f16b9ab9fd6163f86d7",
        "IPY_MODEL_ccf5a4986a8b42a986fff2fbeb3eee01"
       ],
       "layout": "IPY_MODEL_22da14b0934046eda02528a458ce13e2"
      }
     },
     "4293a18403dd4dc8bac5cfd7c8f2e770": {
      "model_module": "@jupyter-widgets/controls",
      "model_module_version": "1.4.0",
      "model_name": "HBoxModel",
      "state": {
       "children": [
        "IPY_MODEL_9f9768395c754f5295af596dfcb61d51",
        "IPY_MODEL_de2f5d081cc644e2a0afc54bb5751d1f"
       ],
       "layout": "IPY_MODEL_d6cd0cf7bc9b4f248a99ab5af23c11ac"
      }
     },
     "42ba9029809c45ebbe9fe9ec330296c5": {
      "model_module": "@jupyter-widgets/controls",
      "model_module_version": "1.4.0",
      "model_name": "HTMLModel",
      "state": {
       "layout": "IPY_MODEL_55e4ffb0ab3042cb96fade8c1b17ed80",
       "style": "IPY_MODEL_44229269720e4428918cbb1e291513ad",
       "value": "100% 52363/52363 [19:58&lt;00:00, 43.69it/s]"
      }
     },
     "4321ce0bccf14f16b9ab9fd6163f86d7": {
      "model_module": "@jupyter-widgets/controls",
      "model_module_version": "1.4.0",
      "model_name": "IntProgressModel",
      "state": {
       "bar_style": "success",
       "layout": "IPY_MODEL_465eafd278b949999dcca5d8cd5b99f0",
       "max": 52363,
       "style": "IPY_MODEL_4c2966a970af4e318b9ef7329c2be346",
       "value": 52363
      }
     },
     "44229269720e4428918cbb1e291513ad": {
      "model_module": "@jupyter-widgets/controls",
      "model_module_version": "1.4.0",
      "model_name": "DescriptionStyleModel",
      "state": {
       "description_width": ""
      }
     },
     "44a468997ff9452b857d73f81717b88e": {
      "model_module": "@jupyter-widgets/controls",
      "model_module_version": "1.4.0",
      "model_name": "HTMLModel",
      "state": {
       "layout": "IPY_MODEL_7c6975f8be864b9a93a1224379558035",
       "style": "IPY_MODEL_52f312e22eee4a6a9e42dfc5940c22dc",
       "value": "100% 52363/52363 [03:22&lt;00:00, 261.24it/s]"
      }
     },
     "44e480844981492d85e6658e7ff32014": {
      "model_module": "@jupyter-widgets/controls",
      "model_module_version": "1.4.0",
      "model_name": "DescriptionStyleModel",
      "state": {
       "description_width": ""
      }
     },
     "462c375ee4d04f8493ad5600d9b119b3": {
      "model_module": "@jupyter-widgets/base",
      "model_module_version": "1.1.0",
      "model_name": "LayoutModel",
      "state": {}
     },
     "465eafd278b949999dcca5d8cd5b99f0": {
      "model_module": "@jupyter-widgets/base",
      "model_module_version": "1.1.0",
      "model_name": "LayoutModel",
      "state": {}
     },
     "4709dc18e61649caaa74f23c8bc0dfd6": {
      "model_module": "@jupyter-widgets/controls",
      "model_module_version": "1.4.0",
      "model_name": "HTMLModel",
      "state": {
       "layout": "IPY_MODEL_220c2009638c46f29b2f0822338796f1",
       "style": "IPY_MODEL_eba0c57d1d024660811676f0d71dda9e",
       "value": "100% 10000/10000 [00:13&lt;00:00, 804.51it/s]"
      }
     },
     "47fc29d65f284dea9938f1f3043ca650": {
      "model_module": "@jupyter-widgets/controls",
      "model_module_version": "1.4.0",
      "model_name": "DescriptionStyleModel",
      "state": {
       "description_width": ""
      }
     },
     "48a16b61543e4310a6fb3c01eaeafe7d": {
      "model_module": "@jupyter-widgets/controls",
      "model_module_version": "1.4.0",
      "model_name": "HTMLModel",
      "state": {
       "layout": "IPY_MODEL_462c375ee4d04f8493ad5600d9b119b3",
       "style": "IPY_MODEL_c149f3ffdae844008993375ab253436e",
       "value": "100% 52363/52363 [02:59&lt;00:00, 291.92it/s]"
      }
     },
     "48d30dfdce4c4e57a69350da7aeb4c12": {
      "model_module": "@jupyter-widgets/base",
      "model_module_version": "1.1.0",
      "model_name": "LayoutModel",
      "state": {}
     },
     "4bfc3ead96994bfeb0ec53e2e91ddf05": {
      "model_module": "@jupyter-widgets/controls",
      "model_module_version": "1.4.0",
      "model_name": "HTMLModel",
      "state": {
       "layout": "IPY_MODEL_d6d644c2fd2e4b57888cedb1a6906708",
       "style": "IPY_MODEL_da98583b44634efa823e909edb823946",
       "value": "100% 52363/52363 [03:35&lt;00:00, 242.46it/s]"
      }
     },
     "4c2966a970af4e318b9ef7329c2be346": {
      "model_module": "@jupyter-widgets/controls",
      "model_module_version": "1.4.0",
      "model_name": "ProgressStyleModel",
      "state": {
       "description_width": ""
      }
     },
     "4c7ad869f91d4150aeb25d6bb5b21432": {
      "model_module": "@jupyter-widgets/base",
      "model_module_version": "1.1.0",
      "model_name": "LayoutModel",
      "state": {}
     },
     "4ca594ddd4fe49bb8f98329ff8e13c32": {
      "model_module": "@jupyter-widgets/base",
      "model_module_version": "1.1.0",
      "model_name": "LayoutModel",
      "state": {}
     },
     "4d8e1c84dc804b0bbd6c803307dd0014": {
      "model_module": "@jupyter-widgets/base",
      "model_module_version": "1.1.0",
      "model_name": "LayoutModel",
      "state": {}
     },
     "4e39703bcfd14adda438e69fa7f755a8": {
      "model_module": "@jupyter-widgets/controls",
      "model_module_version": "1.4.0",
      "model_name": "HBoxModel",
      "state": {
       "children": [
        "IPY_MODEL_21ca841b89c847478ccc5aab84c6a4ec",
        "IPY_MODEL_3ff43e72c17c458fb2f469bcadf58c49"
       ],
       "layout": "IPY_MODEL_fd45d73de21648eaa6c0481a6b72d19c"
      }
     },
     "4ff057a0af2541f9b819a07c63e61967": {
      "model_module": "@jupyter-widgets/base",
      "model_module_version": "1.1.0",
      "model_name": "LayoutModel",
      "state": {}
     },
     "50876b2e3af34d8eb76491d72c5725fa": {
      "model_module": "@jupyter-widgets/base",
      "model_module_version": "1.1.0",
      "model_name": "LayoutModel",
      "state": {}
     },
     "52f312e22eee4a6a9e42dfc5940c22dc": {
      "model_module": "@jupyter-widgets/controls",
      "model_module_version": "1.4.0",
      "model_name": "DescriptionStyleModel",
      "state": {
       "description_width": ""
      }
     },
     "54407c963ee84fb1bf8960b6dc339ad9": {
      "model_module": "@jupyter-widgets/base",
      "model_module_version": "1.1.0",
      "model_name": "LayoutModel",
      "state": {}
     },
     "5506f478b6a44220a34702a955ad89d8": {
      "model_module": "@jupyter-widgets/controls",
      "model_module_version": "1.4.0",
      "model_name": "IntProgressModel",
      "state": {
       "bar_style": "success",
       "layout": "IPY_MODEL_c08fa202763d47ef9fc3adff60f6a7d0",
       "max": 52363,
       "style": "IPY_MODEL_c3d36b69720b4fdebb319b9044bdec7b",
       "value": 52363
      }
     },
     "5546c3d04c644a359d0784f3633b6886": {
      "model_module": "@jupyter-widgets/controls",
      "model_module_version": "1.4.0",
      "model_name": "HBoxModel",
      "state": {
       "children": [
        "IPY_MODEL_f4821cd665614c3f8d113474bb1102d9",
        "IPY_MODEL_58b1120d4e82426e827e58bef2916e91"
       ],
       "layout": "IPY_MODEL_40f5413bd8724f76b4e145772f438d4e"
      }
     },
     "55e4ffb0ab3042cb96fade8c1b17ed80": {
      "model_module": "@jupyter-widgets/base",
      "model_module_version": "1.1.0",
      "model_name": "LayoutModel",
      "state": {}
     },
     "57b5949ac6e149f3b6177cf8d105325b": {
      "model_module": "@jupyter-widgets/base",
      "model_module_version": "1.1.0",
      "model_name": "LayoutModel",
      "state": {}
     },
     "58359709730f4646b03a193d6c44cf22": {
      "model_module": "@jupyter-widgets/controls",
      "model_module_version": "1.4.0",
      "model_name": "HTMLModel",
      "state": {
       "layout": "IPY_MODEL_380e323789094b52ab649cce214a8388",
       "style": "IPY_MODEL_064b5528e0ae47788c40bf52f33a848f",
       "value": "100% 52363/52363 [03:11&lt;00:00, 272.85it/s]"
      }
     },
     "58b1120d4e82426e827e58bef2916e91": {
      "model_module": "@jupyter-widgets/controls",
      "model_module_version": "1.4.0",
      "model_name": "HTMLModel",
      "state": {
       "layout": "IPY_MODEL_f0f87e9531b24f099d9b813bb4fc6542",
       "style": "IPY_MODEL_258b7b7e3a994b62baf3aacd334c03b7",
       "value": "100% 52363/52363 [18:49&lt;00:00, 46.37it/s]"
      }
     },
     "59778635b9b2498794d0114bc3bb7ac7": {
      "model_module": "@jupyter-widgets/controls",
      "model_module_version": "1.4.0",
      "model_name": "DescriptionStyleModel",
      "state": {
       "description_width": ""
      }
     },
     "59b588f09b8c4cfa9ea449bb1e4ff633": {
      "model_module": "@jupyter-widgets/controls",
      "model_module_version": "1.4.0",
      "model_name": "HBoxModel",
      "state": {
       "children": [
        "IPY_MODEL_a8e594abbcb74b5f85c91cf465b37246",
        "IPY_MODEL_4bfc3ead96994bfeb0ec53e2e91ddf05"
       ],
       "layout": "IPY_MODEL_160486b19ec8432e883fc55df0fdcd75"
      }
     },
     "59d5877937e84ce2abb7d917ccadbdbb": {
      "model_module": "@jupyter-widgets/controls",
      "model_module_version": "1.4.0",
      "model_name": "HBoxModel",
      "state": {
       "children": [
        "IPY_MODEL_26c2a81330e54c40867e7fdeae1618fb",
        "IPY_MODEL_a98fdfe9982a40d2b678c72069250330"
       ],
       "layout": "IPY_MODEL_22b4e202b701467ebbf091fa441b4149"
      }
     },
     "5a6f139e24924572ab4a4134642b45db": {
      "model_module": "@jupyter-widgets/controls",
      "model_module_version": "1.4.0",
      "model_name": "HBoxModel",
      "state": {
       "children": [
        "IPY_MODEL_abcee073e3a84716aaa380fd629ad6e2",
        "IPY_MODEL_bf58e62cc6404556b6d5a1870e0e0719"
       ],
       "layout": "IPY_MODEL_2c7603b227b7460c9157302f43e55b8c"
      }
     },
     "5b05e779d23c4bcf9d427591b1dd4c75": {
      "model_module": "@jupyter-widgets/base",
      "model_module_version": "1.1.0",
      "model_name": "LayoutModel",
      "state": {}
     },
     "5c86a83eeb6d4762a27c7ce9ca1d43c8": {
      "model_module": "@jupyter-widgets/controls",
      "model_module_version": "1.4.0",
      "model_name": "IntProgressModel",
      "state": {
       "bar_style": "danger",
       "layout": "IPY_MODEL_e7cc3b2970ca4365bb38969c71f53576",
       "max": 52363,
       "style": "IPY_MODEL_27fb38446338451b934e8340583226db",
       "value": 656
      }
     },
     "5f2503192d8240b38aacfa679f7df34b": {
      "model_module": "@jupyter-widgets/controls",
      "model_module_version": "1.4.0",
      "model_name": "HTMLModel",
      "state": {
       "layout": "IPY_MODEL_0cbd68880110434f80e2fe436be4e474",
       "style": "IPY_MODEL_977ac45cd8664dc2b634d4100e048ba7",
       "value": "100% 52363/52363 [01:14&lt;00:00, 699.58it/s]"
      }
     },
     "5f40896ca5be47f1a5437cf447c9a4c6": {
      "model_module": "@jupyter-widgets/base",
      "model_module_version": "1.1.0",
      "model_name": "LayoutModel",
      "state": {}
     },
     "6290e95c2bf5427099e505436bf0ff9e": {
      "model_module": "@jupyter-widgets/controls",
      "model_module_version": "1.4.0",
      "model_name": "HTMLModel",
      "state": {
       "layout": "IPY_MODEL_4c7ad869f91d4150aeb25d6bb5b21432",
       "style": "IPY_MODEL_02f7046b023c4621a4cd63a3dc47ef26",
       "value": "100% 52363/52363 [03:06&lt;00:00, 280.81it/s]"
      }
     },
     "631f3d11257c4dc1b60f7d74ddb8fd6c": {
      "model_module": "@jupyter-widgets/base",
      "model_module_version": "1.1.0",
      "model_name": "LayoutModel",
      "state": {}
     },
     "65d471f158464f11aa44e41cdfbc298c": {
      "model_module": "@jupyter-widgets/base",
      "model_module_version": "1.1.0",
      "model_name": "LayoutModel",
      "state": {}
     },
     "68ea9d46e67f4c779be0bfb53a316e32": {
      "model_module": "@jupyter-widgets/controls",
      "model_module_version": "1.4.0",
      "model_name": "ProgressStyleModel",
      "state": {
       "description_width": ""
      }
     },
     "6939e01ee3b1411ab3c2f69d360c2642": {
      "model_module": "@jupyter-widgets/controls",
      "model_module_version": "1.4.0",
      "model_name": "ProgressStyleModel",
      "state": {
       "description_width": ""
      }
     },
     "6a32420bcf324aaf912090024f2fb469": {
      "model_module": "@jupyter-widgets/controls",
      "model_module_version": "1.4.0",
      "model_name": "HTMLModel",
      "state": {
       "layout": "IPY_MODEL_6a98f60c544f4177b09b07b00984d22e",
       "style": "IPY_MODEL_0a2438e0e4ce4a08ad65c5efb604ae22",
       "value": "100% 52363/52363 [17:09&lt;00:00, 50.85it/s]"
      }
     },
     "6a98f60c544f4177b09b07b00984d22e": {
      "model_module": "@jupyter-widgets/base",
      "model_module_version": "1.1.0",
      "model_name": "LayoutModel",
      "state": {}
     },
     "6b82266673b04a7e8a5b6b9bdd21d941": {
      "model_module": "@jupyter-widgets/base",
      "model_module_version": "1.1.0",
      "model_name": "LayoutModel",
      "state": {}
     },
     "6dbf36c2706244aca16556abc3669772": {
      "model_module": "@jupyter-widgets/base",
      "model_module_version": "1.1.0",
      "model_name": "LayoutModel",
      "state": {}
     },
     "6e7d70899c964f049bfb66ccfc6383a8": {
      "model_module": "@jupyter-widgets/controls",
      "model_module_version": "1.4.0",
      "model_name": "DescriptionStyleModel",
      "state": {
       "description_width": ""
      }
     },
     "75a5fe03c6b44f41a5425e686a001206": {
      "model_module": "@jupyter-widgets/controls",
      "model_module_version": "1.4.0",
      "model_name": "HTMLModel",
      "state": {
       "layout": "IPY_MODEL_31d3940fa58b43339d1f94f6da94a2e5",
       "style": "IPY_MODEL_0ce3aa6411b842c7803e87cc8e32fef5",
       "value": "100% 52363/52363 [20:08&lt;00:00, 43.34it/s]"
      }
     },
     "7622e53e00f64b5d8ef62c0dc928f9bd": {
      "model_module": "@jupyter-widgets/base",
      "model_module_version": "1.1.0",
      "model_name": "LayoutModel",
      "state": {}
     },
     "7640724d2f8242bfbb389a992685dd33": {
      "model_module": "@jupyter-widgets/controls",
      "model_module_version": "1.4.0",
      "model_name": "IntProgressModel",
      "state": {
       "bar_style": "success",
       "layout": "IPY_MODEL_a33fe5a7794844d09662a66c684ab53e",
       "max": 52363,
       "style": "IPY_MODEL_68ea9d46e67f4c779be0bfb53a316e32",
       "value": 52363
      }
     },
     "7a43e1a96e8d49b7a3f7c29946d45818": {
      "model_module": "@jupyter-widgets/base",
      "model_module_version": "1.1.0",
      "model_name": "LayoutModel",
      "state": {}
     },
     "7aa6a270c5a844369e77e106af67f9fb": {
      "model_module": "@jupyter-widgets/base",
      "model_module_version": "1.1.0",
      "model_name": "LayoutModel",
      "state": {}
     },
     "7aca15c610514bcbba24d25f1f36535b": {
      "model_module": "@jupyter-widgets/controls",
      "model_module_version": "1.4.0",
      "model_name": "ProgressStyleModel",
      "state": {
       "description_width": ""
      }
     },
     "7c6975f8be864b9a93a1224379558035": {
      "model_module": "@jupyter-widgets/base",
      "model_module_version": "1.1.0",
      "model_name": "LayoutModel",
      "state": {}
     },
     "7c9728277ae64fd09ee301ab45ef061f": {
      "model_module": "@jupyter-widgets/controls",
      "model_module_version": "1.4.0",
      "model_name": "DescriptionStyleModel",
      "state": {
       "description_width": ""
      }
     },
     "80b7dfe1c1a0421cb6f4e4cefd0dda7b": {
      "model_module": "@jupyter-widgets/controls",
      "model_module_version": "1.4.0",
      "model_name": "IntProgressModel",
      "state": {
       "bar_style": "success",
       "layout": "IPY_MODEL_5f40896ca5be47f1a5437cf447c9a4c6",
       "max": 52363,
       "style": "IPY_MODEL_3ed5e0d16d3247dab89e80681c767976",
       "value": 52363
      }
     },
     "83c5d841c8ee48db843b7b81b26f0f7e": {
      "model_module": "@jupyter-widgets/base",
      "model_module_version": "1.1.0",
      "model_name": "LayoutModel",
      "state": {}
     },
     "8446b5567d364dfcb7ef0ca051dcb3d3": {
      "model_module": "@jupyter-widgets/controls",
      "model_module_version": "1.4.0",
      "model_name": "ProgressStyleModel",
      "state": {
       "description_width": ""
      }
     },
     "854de39d92024d63b8899292f3402ee6": {
      "model_module": "@jupyter-widgets/controls",
      "model_module_version": "1.4.0",
      "model_name": "HTMLModel",
      "state": {
       "layout": "IPY_MODEL_83c5d841c8ee48db843b7b81b26f0f7e",
       "style": "IPY_MODEL_0898ccb2b3c34728be7841242b91a66c",
       "value": "100% 52363/52363 [03:08&lt;00:00, 278.04it/s]"
      }
     },
     "85d0234885404787a2afe0725211fb24": {
      "model_module": "@jupyter-widgets/controls",
      "model_module_version": "1.4.0",
      "model_name": "IntProgressModel",
      "state": {
       "bar_style": "success",
       "layout": "IPY_MODEL_92f56eeb17d949bf819fdcbde54862e4",
       "max": 52363,
       "style": "IPY_MODEL_a1e39023b144499887b8fa236883d787",
       "value": 52363
      }
     },
     "91d1e6bf13a94ff4aafaed2f5768cbb4": {
      "model_module": "@jupyter-widgets/controls",
      "model_module_version": "1.4.0",
      "model_name": "HBoxModel",
      "state": {
       "children": [
        "IPY_MODEL_bae0f2000a66488ebf5c822b7058a91b",
        "IPY_MODEL_1e66fd32852e4c358184ed4d89745dfa"
       ],
       "layout": "IPY_MODEL_dd2d45aadae14644be36732e7b70be53"
      }
     },
     "92f56eeb17d949bf819fdcbde54862e4": {
      "model_module": "@jupyter-widgets/base",
      "model_module_version": "1.1.0",
      "model_name": "LayoutModel",
      "state": {}
     },
     "936e5b795dca449585b19c8cb53da189": {
      "model_module": "@jupyter-widgets/base",
      "model_module_version": "1.1.0",
      "model_name": "LayoutModel",
      "state": {}
     },
     "9519ca9f5a2944188763df9c78e4d2f6": {
      "model_module": "@jupyter-widgets/controls",
      "model_module_version": "1.4.0",
      "model_name": "ProgressStyleModel",
      "state": {
       "description_width": ""
      }
     },
     "976863ce9ebf44ec98aacd09c7c3e873": {
      "model_module": "@jupyter-widgets/base",
      "model_module_version": "1.1.0",
      "model_name": "LayoutModel",
      "state": {}
     },
     "977ac45cd8664dc2b634d4100e048ba7": {
      "model_module": "@jupyter-widgets/controls",
      "model_module_version": "1.4.0",
      "model_name": "DescriptionStyleModel",
      "state": {
       "description_width": ""
      }
     },
     "99cc1462412e43349405433d51f0480e": {
      "model_module": "@jupyter-widgets/base",
      "model_module_version": "1.1.0",
      "model_name": "LayoutModel",
      "state": {}
     },
     "9a42c8c02dd54104a794f9449f659c5b": {
      "model_module": "@jupyter-widgets/base",
      "model_module_version": "1.1.0",
      "model_name": "LayoutModel",
      "state": {}
     },
     "9c1bf8844c0d40199cfdd91d0df6ab62": {
      "model_module": "@jupyter-widgets/controls",
      "model_module_version": "1.4.0",
      "model_name": "HBoxModel",
      "state": {
       "children": [
        "IPY_MODEL_3ff980d9d59e4c1689225f341fd0aa3d",
        "IPY_MODEL_854de39d92024d63b8899292f3402ee6"
       ],
       "layout": "IPY_MODEL_1a722253a0194e91b745a08925847bf9"
      }
     },
     "9f553f92b05045bab0df6dc4fea7983f": {
      "model_module": "@jupyter-widgets/controls",
      "model_module_version": "1.4.0",
      "model_name": "HBoxModel",
      "state": {
       "children": [
        "IPY_MODEL_5506f478b6a44220a34702a955ad89d8",
        "IPY_MODEL_48a16b61543e4310a6fb3c01eaeafe7d"
       ],
       "layout": "IPY_MODEL_ac2c49dacd77406383e8b9f1b09804e9"
      }
     },
     "9f56c9ee5acc49dc9166691d3167f6a1": {
      "model_module": "@jupyter-widgets/base",
      "model_module_version": "1.1.0",
      "model_name": "LayoutModel",
      "state": {}
     },
     "9f9768395c754f5295af596dfcb61d51": {
      "model_module": "@jupyter-widgets/controls",
      "model_module_version": "1.4.0",
      "model_name": "IntProgressModel",
      "state": {
       "bar_style": "success",
       "layout": "IPY_MODEL_15125e57689449fe8140411d15a6cba1",
       "max": 52363,
       "style": "IPY_MODEL_08ff7fb8b030469692f53aa974e9078e",
       "value": 52363
      }
     },
     "a1e39023b144499887b8fa236883d787": {
      "model_module": "@jupyter-widgets/controls",
      "model_module_version": "1.4.0",
      "model_name": "ProgressStyleModel",
      "state": {
       "description_width": ""
      }
     },
     "a2651f98206447d28f85140225a98c93": {
      "model_module": "@jupyter-widgets/controls",
      "model_module_version": "1.4.0",
      "model_name": "HTMLModel",
      "state": {
       "layout": "IPY_MODEL_0895b54b6a7f438aa06a8191c0f322f4",
       "style": "IPY_MODEL_3d55ac085b7e4080a6fac958afc24473",
       "value": "100% 52363/52363 [03:06&lt;00:00, 281.22it/s]"
      }
     },
     "a33fe5a7794844d09662a66c684ab53e": {
      "model_module": "@jupyter-widgets/base",
      "model_module_version": "1.1.0",
      "model_name": "LayoutModel",
      "state": {}
     },
     "a44382aa935141c49a9cd9e53c8a7a36": {
      "model_module": "@jupyter-widgets/controls",
      "model_module_version": "1.4.0",
      "model_name": "IntProgressModel",
      "state": {
       "bar_style": "success",
       "layout": "IPY_MODEL_65d471f158464f11aa44e41cdfbc298c",
       "max": 52363,
       "style": "IPY_MODEL_d5df47376d9443efad5ecb9099e0a051",
       "value": 52363
      }
     },
     "a8386310e4324e2c9dbec67a015ac62c": {
      "model_module": "@jupyter-widgets/controls",
      "model_module_version": "1.4.0",
      "model_name": "ProgressStyleModel",
      "state": {
       "description_width": ""
      }
     },
     "a8e594abbcb74b5f85c91cf465b37246": {
      "model_module": "@jupyter-widgets/controls",
      "model_module_version": "1.4.0",
      "model_name": "IntProgressModel",
      "state": {
       "bar_style": "success",
       "layout": "IPY_MODEL_631f3d11257c4dc1b60f7d74ddb8fd6c",
       "max": 52363,
       "style": "IPY_MODEL_e3b2192388604dc6bdb6e1fc07b9c9d0",
       "value": 52363
      }
     },
     "a98fdfe9982a40d2b678c72069250330": {
      "model_module": "@jupyter-widgets/controls",
      "model_module_version": "1.4.0",
      "model_name": "HTMLModel",
      "state": {
       "layout": "IPY_MODEL_cbba0641b7cf4bca989747b483aac18f",
       "style": "IPY_MODEL_0c8d03070b59407188b35a9f36c4edbe",
       "value": "100% 52363/52363 [01:04&lt;00:00, 812.06it/s]"
      }
     },
     "abcee073e3a84716aaa380fd629ad6e2": {
      "model_module": "@jupyter-widgets/controls",
      "model_module_version": "1.4.0",
      "model_name": "IntProgressModel",
      "state": {
       "bar_style": "success",
       "layout": "IPY_MODEL_936e5b795dca449585b19c8cb53da189",
       "max": 10000,
       "style": "IPY_MODEL_3bc0037adf7f455982cb6c93bef284a9",
       "value": 10000
      }
     },
     "ac2c49dacd77406383e8b9f1b09804e9": {
      "model_module": "@jupyter-widgets/base",
      "model_module_version": "1.1.0",
      "model_name": "LayoutModel",
      "state": {}
     },
     "ac4120af71f7485b8881f4f9799f5fad": {
      "model_module": "@jupyter-widgets/base",
      "model_module_version": "1.1.0",
      "model_name": "LayoutModel",
      "state": {}
     },
     "ac48eeee3d1a4cd2bba9f46e603f5639": {
      "model_module": "@jupyter-widgets/base",
      "model_module_version": "1.1.0",
      "model_name": "LayoutModel",
      "state": {}
     },
     "ad0050aa0ede41208b6d28c358be6aae": {
      "model_module": "@jupyter-widgets/controls",
      "model_module_version": "1.4.0",
      "model_name": "HBoxModel",
      "state": {
       "children": [
        "IPY_MODEL_85d0234885404787a2afe0725211fb24",
        "IPY_MODEL_5f2503192d8240b38aacfa679f7df34b"
       ],
       "layout": "IPY_MODEL_ddef709477554209bcfd20567932d4dd"
      }
     },
     "ad8ad70c5ad445f9bc38b45c66400dc3": {
      "model_module": "@jupyter-widgets/base",
      "model_module_version": "1.1.0",
      "model_name": "LayoutModel",
      "state": {}
     },
     "b14ce3af3c8f4fcc8819b7f17c40a52f": {
      "model_module": "@jupyter-widgets/controls",
      "model_module_version": "1.4.0",
      "model_name": "ProgressStyleModel",
      "state": {
       "description_width": ""
      }
     },
     "b6cafb3cda404903ab95147745a687cf": {
      "model_module": "@jupyter-widgets/controls",
      "model_module_version": "1.4.0",
      "model_name": "ProgressStyleModel",
      "state": {
       "description_width": ""
      }
     },
     "ba686b511fff479b9fa628897bee4f32": {
      "model_module": "@jupyter-widgets/controls",
      "model_module_version": "1.4.0",
      "model_name": "IntProgressModel",
      "state": {
       "bar_style": "success",
       "layout": "IPY_MODEL_bc08d76f3c9a41b5b566eb060a5f539d",
       "max": 52363,
       "style": "IPY_MODEL_cccf01ed670e469ea767c1591b8dea9b",
       "value": 52363
      }
     },
     "bae0f2000a66488ebf5c822b7058a91b": {
      "model_module": "@jupyter-widgets/controls",
      "model_module_version": "1.4.0",
      "model_name": "IntProgressModel",
      "state": {
       "bar_style": "success",
       "layout": "IPY_MODEL_25c18fe45ba34607afabf08f3cd9da34",
       "max": 52363,
       "style": "IPY_MODEL_a8386310e4324e2c9dbec67a015ac62c",
       "value": 52363
      }
     },
     "bc08d76f3c9a41b5b566eb060a5f539d": {
      "model_module": "@jupyter-widgets/base",
      "model_module_version": "1.1.0",
      "model_name": "LayoutModel",
      "state": {}
     },
     "bc8933cb89c74808b4844447330d8efc": {
      "model_module": "@jupyter-widgets/base",
      "model_module_version": "1.1.0",
      "model_name": "LayoutModel",
      "state": {}
     },
     "bdea0330fac044ae85f44a40989abe4a": {
      "model_module": "@jupyter-widgets/controls",
      "model_module_version": "1.4.0",
      "model_name": "ProgressStyleModel",
      "state": {
       "description_width": ""
      }
     },
     "bea0cbcddeab42b69a6b175c1ccd4218": {
      "model_module": "@jupyter-widgets/base",
      "model_module_version": "1.1.0",
      "model_name": "LayoutModel",
      "state": {}
     },
     "bf58e62cc6404556b6d5a1870e0e0719": {
      "model_module": "@jupyter-widgets/controls",
      "model_module_version": "1.4.0",
      "model_name": "HTMLModel",
      "state": {
       "layout": "IPY_MODEL_e122faa9071f4596b26267bf04c9eb9f",
       "style": "IPY_MODEL_6e7d70899c964f049bfb66ccfc6383a8",
       "value": "100% 10000/10000 [00:16&lt;00:00, 606.89it/s]"
      }
     },
     "c062c846b189425ab207132243d64209": {
      "model_module": "@jupyter-widgets/controls",
      "model_module_version": "1.4.0",
      "model_name": "IntProgressModel",
      "state": {
       "bar_style": "success",
       "layout": "IPY_MODEL_db62dac2037b43ddbe5bb126f129bb81",
       "max": 52363,
       "style": "IPY_MODEL_e79f732645984a409ba104df37fcdcc0",
       "value": 52363
      }
     },
     "c08fa202763d47ef9fc3adff60f6a7d0": {
      "model_module": "@jupyter-widgets/base",
      "model_module_version": "1.1.0",
      "model_name": "LayoutModel",
      "state": {}
     },
     "c149f3ffdae844008993375ab253436e": {
      "model_module": "@jupyter-widgets/controls",
      "model_module_version": "1.4.0",
      "model_name": "DescriptionStyleModel",
      "state": {
       "description_width": ""
      }
     },
     "c184871b187e46c9aec8f29a69bd9f23": {
      "model_module": "@jupyter-widgets/controls",
      "model_module_version": "1.4.0",
      "model_name": "HTMLModel",
      "state": {
       "layout": "IPY_MODEL_54407c963ee84fb1bf8960b6dc339ad9",
       "style": "IPY_MODEL_ec3288e6f341494d88035c5b155ef50b",
       "value": "100% 52363/52363 [19:39&lt;00:00, 44.41it/s]"
      }
     },
     "c3d36b69720b4fdebb319b9044bdec7b": {
      "model_module": "@jupyter-widgets/controls",
      "model_module_version": "1.4.0",
      "model_name": "ProgressStyleModel",
      "state": {
       "description_width": ""
      }
     },
     "c5f9cd0aacf74bfb8d8142d793e4275f": {
      "model_module": "@jupyter-widgets/controls",
      "model_module_version": "1.4.0",
      "model_name": "ProgressStyleModel",
      "state": {
       "description_width": ""
      }
     },
     "c77ed1793d674ccb9d0ee9ff29da2d72": {
      "model_module": "@jupyter-widgets/controls",
      "model_module_version": "1.4.0",
      "model_name": "IntProgressModel",
      "state": {
       "bar_style": "success",
       "layout": "IPY_MODEL_ad8ad70c5ad445f9bc38b45c66400dc3",
       "max": 52363,
       "style": "IPY_MODEL_d6cf7e43e232446e89eec932024cabdd",
       "value": 52363
      }
     },
     "cbba0641b7cf4bca989747b483aac18f": {
      "model_module": "@jupyter-widgets/base",
      "model_module_version": "1.1.0",
      "model_name": "LayoutModel",
      "state": {}
     },
     "cccf01ed670e469ea767c1591b8dea9b": {
      "model_module": "@jupyter-widgets/controls",
      "model_module_version": "1.4.0",
      "model_name": "ProgressStyleModel",
      "state": {
       "description_width": ""
      }
     },
     "ccf5a4986a8b42a986fff2fbeb3eee01": {
      "model_module": "@jupyter-widgets/controls",
      "model_module_version": "1.4.0",
      "model_name": "HTMLModel",
      "state": {
       "layout": "IPY_MODEL_e4b2337584044ad584481859f8d55732",
       "style": "IPY_MODEL_1c7a1e7165b2422f9f388196a7e0158e",
       "value": "100% 52363/52363 [03:34&lt;00:00, 244.21it/s]"
      }
     },
     "cd59b5eed3ce424db29f671cdffcbd53": {
      "model_module": "@jupyter-widgets/controls",
      "model_module_version": "1.4.0",
      "model_name": "HTMLModel",
      "state": {
       "layout": "IPY_MODEL_23edb68c77334ef2b14822fdf0f7bc23",
       "style": "IPY_MODEL_47fc29d65f284dea9938f1f3043ca650",
       "value": "100% 52363/52363 [19:04&lt;00:00, 45.76it/s]"
      }
     },
     "cf727a5b1b3f4db69cfc87f4b9368a2a": {
      "model_module": "@jupyter-widgets/controls",
      "model_module_version": "1.4.0",
      "model_name": "HBoxModel",
      "state": {
       "children": [
        "IPY_MODEL_ba686b511fff479b9fa628897bee4f32",
        "IPY_MODEL_232495d3f67a4004a69ab9a9a26fb8e6"
       ],
       "layout": "IPY_MODEL_976863ce9ebf44ec98aacd09c7c3e873"
      }
     },
     "d22efee107864d579bbcf3050026e54c": {
      "model_module": "@jupyter-widgets/controls",
      "model_module_version": "1.4.0",
      "model_name": "HBoxModel",
      "state": {
       "children": [
        "IPY_MODEL_7640724d2f8242bfbb389a992685dd33",
        "IPY_MODEL_42ba9029809c45ebbe9fe9ec330296c5"
       ],
       "layout": "IPY_MODEL_00224f5d58194e5ba9b773dd5352bd21"
      }
     },
     "d3c013f5cd1846f99471586383cd34d6": {
      "model_module": "@jupyter-widgets/controls",
      "model_module_version": "1.4.0",
      "model_name": "HTMLModel",
      "state": {
       "layout": "IPY_MODEL_4ff057a0af2541f9b819a07c63e61967",
       "style": "IPY_MODEL_44e480844981492d85e6658e7ff32014",
       "value": "100% 52363/52363 [19:05&lt;00:00, 29.88it/s]"
      }
     },
     "d5df47376d9443efad5ecb9099e0a051": {
      "model_module": "@jupyter-widgets/controls",
      "model_module_version": "1.4.0",
      "model_name": "ProgressStyleModel",
      "state": {
       "description_width": ""
      }
     },
     "d65a5e10d2304973ba68842c6741d8c1": {
      "model_module": "@jupyter-widgets/controls",
      "model_module_version": "1.4.0",
      "model_name": "IntProgressModel",
      "state": {
       "bar_style": "success",
       "layout": "IPY_MODEL_1275a08139e644bfbd0e02cd4ef6de01",
       "max": 10000,
       "style": "IPY_MODEL_0534d625f88b41eea7acbac638ec4976",
       "value": 10000
      }
     },
     "d6cd0cf7bc9b4f248a99ab5af23c11ac": {
      "model_module": "@jupyter-widgets/base",
      "model_module_version": "1.1.0",
      "model_name": "LayoutModel",
      "state": {}
     },
     "d6cf7e43e232446e89eec932024cabdd": {
      "model_module": "@jupyter-widgets/controls",
      "model_module_version": "1.4.0",
      "model_name": "ProgressStyleModel",
      "state": {
       "description_width": ""
      }
     },
     "d6d644c2fd2e4b57888cedb1a6906708": {
      "model_module": "@jupyter-widgets/base",
      "model_module_version": "1.1.0",
      "model_name": "LayoutModel",
      "state": {}
     },
     "da98583b44634efa823e909edb823946": {
      "model_module": "@jupyter-widgets/controls",
      "model_module_version": "1.4.0",
      "model_name": "DescriptionStyleModel",
      "state": {
       "description_width": ""
      }
     },
     "db62dac2037b43ddbe5bb126f129bb81": {
      "model_module": "@jupyter-widgets/base",
      "model_module_version": "1.1.0",
      "model_name": "LayoutModel",
      "state": {}
     },
     "dd2d45aadae14644be36732e7b70be53": {
      "model_module": "@jupyter-widgets/base",
      "model_module_version": "1.1.0",
      "model_name": "LayoutModel",
      "state": {}
     },
     "dd6ab7d3f64b4f00950fa3f7e975684b": {
      "model_module": "@jupyter-widgets/base",
      "model_module_version": "1.1.0",
      "model_name": "LayoutModel",
      "state": {}
     },
     "ddef709477554209bcfd20567932d4dd": {
      "model_module": "@jupyter-widgets/base",
      "model_module_version": "1.1.0",
      "model_name": "LayoutModel",
      "state": {}
     },
     "de2f5d081cc644e2a0afc54bb5751d1f": {
      "model_module": "@jupyter-widgets/controls",
      "model_module_version": "1.4.0",
      "model_name": "HTMLModel",
      "state": {
       "layout": "IPY_MODEL_bea0cbcddeab42b69a6b175c1ccd4218",
       "style": "IPY_MODEL_fa77632ec1564fdc8c7c9e0778159909",
       "value": "100% 52363/52363 [20:22&lt;00:00, 42.82it/s]"
      }
     },
     "e122faa9071f4596b26267bf04c9eb9f": {
      "model_module": "@jupyter-widgets/base",
      "model_module_version": "1.1.0",
      "model_name": "LayoutModel",
      "state": {}
     },
     "e174d7c1d50c401ba2592e5159d23537": {
      "model_module": "@jupyter-widgets/controls",
      "model_module_version": "1.4.0",
      "model_name": "HBoxModel",
      "state": {
       "children": [
        "IPY_MODEL_366e53c1c3ca4829abefe1c262472d24",
        "IPY_MODEL_75a5fe03c6b44f41a5425e686a001206"
       ],
       "layout": "IPY_MODEL_50876b2e3af34d8eb76491d72c5725fa"
      }
     },
     "e2981c7f77824eb5acc2f818940a31ae": {
      "model_module": "@jupyter-widgets/controls",
      "model_module_version": "1.4.0",
      "model_name": "HBoxModel",
      "state": {
       "children": [
        "IPY_MODEL_c062c846b189425ab207132243d64209",
        "IPY_MODEL_44a468997ff9452b857d73f81717b88e"
       ],
       "layout": "IPY_MODEL_9f56c9ee5acc49dc9166691d3167f6a1"
      }
     },
     "e355cea3927e49ef85bc2900d2d48c70": {
      "model_module": "@jupyter-widgets/controls",
      "model_module_version": "1.4.0",
      "model_name": "HBoxModel",
      "state": {
       "children": [
        "IPY_MODEL_d65a5e10d2304973ba68842c6741d8c1",
        "IPY_MODEL_4709dc18e61649caaa74f23c8bc0dfd6"
       ],
       "layout": "IPY_MODEL_340d6aaa714a4c76bf7bdf6adcd09475"
      }
     },
     "e3b2192388604dc6bdb6e1fc07b9c9d0": {
      "model_module": "@jupyter-widgets/controls",
      "model_module_version": "1.4.0",
      "model_name": "ProgressStyleModel",
      "state": {
       "description_width": ""
      }
     },
     "e4b2337584044ad584481859f8d55732": {
      "model_module": "@jupyter-widgets/base",
      "model_module_version": "1.1.0",
      "model_name": "LayoutModel",
      "state": {}
     },
     "e4c584ca3ae34bab8b48dfed8294fe0f": {
      "model_module": "@jupyter-widgets/controls",
      "model_module_version": "1.4.0",
      "model_name": "HBoxModel",
      "state": {
       "children": [
        "IPY_MODEL_80b7dfe1c1a0421cb6f4e4cefd0dda7b",
        "IPY_MODEL_fcf3cdc172c2462789a290fb33dc4f73"
       ],
       "layout": "IPY_MODEL_1bce1b1f768c4716a304183ccecf7e68"
      }
     },
     "e66aedbe502f455b8629355b3aad3b3b": {
      "model_module": "@jupyter-widgets/controls",
      "model_module_version": "1.4.0",
      "model_name": "DescriptionStyleModel",
      "state": {
       "description_width": ""
      }
     },
     "e69ecafec5c647918209366b039112eb": {
      "model_module": "@jupyter-widgets/base",
      "model_module_version": "1.1.0",
      "model_name": "LayoutModel",
      "state": {}
     },
     "e6bbf7ef1a1c44f3818b0590e39d6fd1": {
      "model_module": "@jupyter-widgets/controls",
      "model_module_version": "1.4.0",
      "model_name": "HBoxModel",
      "state": {
       "children": [
        "IPY_MODEL_5c86a83eeb6d4762a27c7ce9ca1d43c8",
        "IPY_MODEL_2990ff59d72c43f9ad6e9f930a3c8754"
       ],
       "layout": "IPY_MODEL_fa082fa838d74788aa8995cc1899bcd0"
      }
     },
     "e79f732645984a409ba104df37fcdcc0": {
      "model_module": "@jupyter-widgets/controls",
      "model_module_version": "1.4.0",
      "model_name": "ProgressStyleModel",
      "state": {
       "description_width": ""
      }
     },
     "e7cc3b2970ca4365bb38969c71f53576": {
      "model_module": "@jupyter-widgets/base",
      "model_module_version": "1.1.0",
      "model_name": "LayoutModel",
      "state": {}
     },
     "eba0c57d1d024660811676f0d71dda9e": {
      "model_module": "@jupyter-widgets/controls",
      "model_module_version": "1.4.0",
      "model_name": "DescriptionStyleModel",
      "state": {
       "description_width": ""
      }
     },
     "ec3288e6f341494d88035c5b155ef50b": {
      "model_module": "@jupyter-widgets/controls",
      "model_module_version": "1.4.0",
      "model_name": "DescriptionStyleModel",
      "state": {
       "description_width": ""
      }
     },
     "edfd92549d2a43deb349b6116e82b6e6": {
      "model_module": "@jupyter-widgets/controls",
      "model_module_version": "1.4.0",
      "model_name": "HBoxModel",
      "state": {
       "children": [
        "IPY_MODEL_c77ed1793d674ccb9d0ee9ff29da2d72",
        "IPY_MODEL_d3c013f5cd1846f99471586383cd34d6"
       ],
       "layout": "IPY_MODEL_e69ecafec5c647918209366b039112eb"
      }
     },
     "f038a59f4db745e3910159aae266a335": {
      "model_module": "@jupyter-widgets/controls",
      "model_module_version": "1.4.0",
      "model_name": "HBoxModel",
      "state": {
       "children": [
        "IPY_MODEL_a44382aa935141c49a9cd9e53c8a7a36",
        "IPY_MODEL_58359709730f4646b03a193d6c44cf22"
       ],
       "layout": "IPY_MODEL_4ca594ddd4fe49bb8f98329ff8e13c32"
      }
     },
     "f0f87e9531b24f099d9b813bb4fc6542": {
      "model_module": "@jupyter-widgets/base",
      "model_module_version": "1.1.0",
      "model_name": "LayoutModel",
      "state": {}
     },
     "f4821cd665614c3f8d113474bb1102d9": {
      "model_module": "@jupyter-widgets/controls",
      "model_module_version": "1.4.0",
      "model_name": "IntProgressModel",
      "state": {
       "bar_style": "success",
       "layout": "IPY_MODEL_feede59f11a04d69925cb40c671b900b",
       "max": 52363,
       "style": "IPY_MODEL_bdea0330fac044ae85f44a40989abe4a",
       "value": 52363
      }
     },
     "f4ff57dd330d41f8a0b7b57b17f020b5": {
      "model_module": "@jupyter-widgets/controls",
      "model_module_version": "1.4.0",
      "model_name": "IntProgressModel",
      "state": {
       "bar_style": "success",
       "layout": "IPY_MODEL_dd6ab7d3f64b4f00950fa3f7e975684b",
       "max": 52363,
       "style": "IPY_MODEL_6939e01ee3b1411ab3c2f69d360c2642",
       "value": 52363
      }
     },
     "f642a178548b4a0f85e8977cabb50be9": {
      "model_module": "@jupyter-widgets/controls",
      "model_module_version": "1.4.0",
      "model_name": "IntProgressModel",
      "state": {
       "bar_style": "success",
       "layout": "IPY_MODEL_bc8933cb89c74808b4844447330d8efc",
       "max": 52363,
       "style": "IPY_MODEL_b14ce3af3c8f4fcc8819b7f17c40a52f",
       "value": 52363
      }
     },
     "f7545da5edf1410cb0dc6a1da0644558": {
      "model_module": "@jupyter-widgets/base",
      "model_module_version": "1.1.0",
      "model_name": "LayoutModel",
      "state": {}
     },
     "fa082fa838d74788aa8995cc1899bcd0": {
      "model_module": "@jupyter-widgets/base",
      "model_module_version": "1.1.0",
      "model_name": "LayoutModel",
      "state": {}
     },
     "fa77632ec1564fdc8c7c9e0778159909": {
      "model_module": "@jupyter-widgets/controls",
      "model_module_version": "1.4.0",
      "model_name": "DescriptionStyleModel",
      "state": {
       "description_width": ""
      }
     },
     "fcf3cdc172c2462789a290fb33dc4f73": {
      "model_module": "@jupyter-widgets/controls",
      "model_module_version": "1.4.0",
      "model_name": "HTMLModel",
      "state": {
       "layout": "IPY_MODEL_ac48eeee3d1a4cd2bba9f46e603f5639",
       "style": "IPY_MODEL_0f5a75412a0240c29f4fd5ccc3adcadd",
       "value": "100% 52363/52363 [03:00&lt;00:00, 289.58it/s]"
      }
     },
     "fd45d73de21648eaa6c0481a6b72d19c": {
      "model_module": "@jupyter-widgets/base",
      "model_module_version": "1.1.0",
      "model_name": "LayoutModel",
      "state": {}
     },
     "feede59f11a04d69925cb40c671b900b": {
      "model_module": "@jupyter-widgets/base",
      "model_module_version": "1.1.0",
      "model_name": "LayoutModel",
      "state": {}
     }
    },
    "version_major": 2,
    "version_minor": 0
   }
  }
 },
 "nbformat": 4,
 "nbformat_minor": 2
}
