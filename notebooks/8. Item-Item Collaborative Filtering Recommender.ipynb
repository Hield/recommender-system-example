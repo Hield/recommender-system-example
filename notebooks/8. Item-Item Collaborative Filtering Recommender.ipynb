{
 "cells": [
  {
   "cell_type": "code",
   "execution_count": 1,
   "metadata": {
    "ExecuteTime": {
     "end_time": "2019-05-05T09:28:51.471489Z",
     "start_time": "2019-05-05T09:28:49.853994Z"
    }
   },
   "outputs": [],
   "source": [
    "%matplotlib inline\n",
    "%load_ext autoreload\n",
    "%autoreload 2\n",
    "\n",
    "import pandas as pd\n",
    "import numpy as np\n",
    "import feather\n",
    "from evaluator import Evaluator\n",
    "from sklearn.metrics.pairwise import cosine_similarity\n",
    "from sklearn import preprocessing\n",
    "from scipy.sparse import csr_matrix\n",
    "from pandas.api.types import CategoricalDtype\n",
    "from tqdm import tqdm_notebook as tqdm\n",
    "from scipy import sparse"
   ]
  },
  {
   "cell_type": "markdown",
   "metadata": {
    "hide_input": false
   },
   "source": [
    "# Load data"
   ]
  },
  {
   "cell_type": "code",
   "execution_count": 2,
   "metadata": {
    "ExecuteTime": {
     "end_time": "2019-05-05T09:28:53.841987Z",
     "start_time": "2019-05-05T09:28:52.063031Z"
    }
   },
   "outputs": [],
   "source": [
    "training_ratings = feather.read_dataframe('./feather/training_ratings')\n",
    "testing_ratings = feather.read_dataframe('./feather/testing_ratings')\n",
    "book_profiles = feather.read_dataframe('./feather/book_profiles').set_index('book_id').to_sparse(fill_value=0)\n",
    "novelty_scores = feather.read_dataframe('./feather/novelty_scores').set_index('book_id')\n",
    "books = feather.read_dataframe('./feather/books').set_index('book_id')"
   ]
  },
  {
   "cell_type": "code",
   "execution_count": 3,
   "metadata": {
    "ExecuteTime": {
     "end_time": "2019-05-05T09:29:11.478991Z",
     "start_time": "2019-05-05T09:28:54.868995Z"
    }
   },
   "outputs": [
    {
     "data": {
      "text/html": [
       "<div>\n",
       "<style scoped>\n",
       "    .dataframe tbody tr th:only-of-type {\n",
       "        vertical-align: middle;\n",
       "    }\n",
       "\n",
       "    .dataframe tbody tr th {\n",
       "        vertical-align: top;\n",
       "    }\n",
       "\n",
       "    .dataframe thead th {\n",
       "        text-align: right;\n",
       "    }\n",
       "</style>\n",
       "<table border=\"1\" class=\"dataframe\">\n",
       "  <thead>\n",
       "    <tr style=\"text-align: right;\">\n",
       "      <th>book_id</th>\n",
       "      <th>27</th>\n",
       "      <th>21</th>\n",
       "      <th>2</th>\n",
       "      <th>18</th>\n",
       "      <th>24</th>\n",
       "      <th>3275</th>\n",
       "      <th>3753</th>\n",
       "      <th>54</th>\n",
       "      <th>337</th>\n",
       "      <th>374</th>\n",
       "      <th>...</th>\n",
       "      <th>5111</th>\n",
       "      <th>5296</th>\n",
       "      <th>8713</th>\n",
       "      <th>7443</th>\n",
       "      <th>6428</th>\n",
       "      <th>7523</th>\n",
       "      <th>4594</th>\n",
       "      <th>9569</th>\n",
       "      <th>9580</th>\n",
       "      <th>8892</th>\n",
       "    </tr>\n",
       "    <tr>\n",
       "      <th>book_id</th>\n",
       "      <th></th>\n",
       "      <th></th>\n",
       "      <th></th>\n",
       "      <th></th>\n",
       "      <th></th>\n",
       "      <th></th>\n",
       "      <th></th>\n",
       "      <th></th>\n",
       "      <th></th>\n",
       "      <th></th>\n",
       "      <th></th>\n",
       "      <th></th>\n",
       "      <th></th>\n",
       "      <th></th>\n",
       "      <th></th>\n",
       "      <th></th>\n",
       "      <th></th>\n",
       "      <th></th>\n",
       "      <th></th>\n",
       "      <th></th>\n",
       "      <th></th>\n",
       "    </tr>\n",
       "  </thead>\n",
       "  <tbody>\n",
       "    <tr>\n",
       "      <th>27</th>\n",
       "      <td>1.000000</td>\n",
       "      <td>0.793039</td>\n",
       "      <td>0.967074</td>\n",
       "      <td>0.935959</td>\n",
       "      <td>0.932615</td>\n",
       "      <td>0.773161</td>\n",
       "      <td>0.826935</td>\n",
       "      <td>0.443948</td>\n",
       "      <td>0.383335</td>\n",
       "      <td>0.145548</td>\n",
       "      <td>...</td>\n",
       "      <td>0.191713</td>\n",
       "      <td>0.276920</td>\n",
       "      <td>0.220817</td>\n",
       "      <td>0.665664</td>\n",
       "      <td>0.613295</td>\n",
       "      <td>0.679846</td>\n",
       "      <td>0.121582</td>\n",
       "      <td>0.397349</td>\n",
       "      <td>0.165843</td>\n",
       "      <td>0.226996</td>\n",
       "    </tr>\n",
       "    <tr>\n",
       "      <th>21</th>\n",
       "      <td>0.793039</td>\n",
       "      <td>1.000000</td>\n",
       "      <td>0.781584</td>\n",
       "      <td>0.756703</td>\n",
       "      <td>0.802735</td>\n",
       "      <td>0.606846</td>\n",
       "      <td>0.642205</td>\n",
       "      <td>0.371239</td>\n",
       "      <td>0.290013</td>\n",
       "      <td>0.128655</td>\n",
       "      <td>...</td>\n",
       "      <td>0.132455</td>\n",
       "      <td>0.262205</td>\n",
       "      <td>0.181788</td>\n",
       "      <td>0.483300</td>\n",
       "      <td>0.445195</td>\n",
       "      <td>0.511246</td>\n",
       "      <td>0.116972</td>\n",
       "      <td>0.341285</td>\n",
       "      <td>0.114551</td>\n",
       "      <td>0.164359</td>\n",
       "    </tr>\n",
       "    <tr>\n",
       "      <th>2</th>\n",
       "      <td>0.967074</td>\n",
       "      <td>0.781584</td>\n",
       "      <td>1.000000</td>\n",
       "      <td>0.954254</td>\n",
       "      <td>0.951350</td>\n",
       "      <td>0.779767</td>\n",
       "      <td>0.838700</td>\n",
       "      <td>0.463165</td>\n",
       "      <td>0.400693</td>\n",
       "      <td>0.146866</td>\n",
       "      <td>...</td>\n",
       "      <td>0.159402</td>\n",
       "      <td>0.254301</td>\n",
       "      <td>0.199595</td>\n",
       "      <td>0.665316</td>\n",
       "      <td>0.612849</td>\n",
       "      <td>0.679313</td>\n",
       "      <td>0.122899</td>\n",
       "      <td>0.366076</td>\n",
       "      <td>0.148561</td>\n",
       "      <td>0.172504</td>\n",
       "    </tr>\n",
       "    <tr>\n",
       "      <th>18</th>\n",
       "      <td>0.935959</td>\n",
       "      <td>0.756703</td>\n",
       "      <td>0.954254</td>\n",
       "      <td>1.000000</td>\n",
       "      <td>0.919456</td>\n",
       "      <td>0.750132</td>\n",
       "      <td>0.813695</td>\n",
       "      <td>0.444069</td>\n",
       "      <td>0.384745</td>\n",
       "      <td>0.159378</td>\n",
       "      <td>...</td>\n",
       "      <td>0.153586</td>\n",
       "      <td>0.262145</td>\n",
       "      <td>0.192761</td>\n",
       "      <td>0.646410</td>\n",
       "      <td>0.607130</td>\n",
       "      <td>0.660081</td>\n",
       "      <td>0.135276</td>\n",
       "      <td>0.368633</td>\n",
       "      <td>0.142581</td>\n",
       "      <td>0.166399</td>\n",
       "    </tr>\n",
       "    <tr>\n",
       "      <th>24</th>\n",
       "      <td>0.932615</td>\n",
       "      <td>0.802735</td>\n",
       "      <td>0.951350</td>\n",
       "      <td>0.919456</td>\n",
       "      <td>1.000000</td>\n",
       "      <td>0.741594</td>\n",
       "      <td>0.802514</td>\n",
       "      <td>0.488001</td>\n",
       "      <td>0.413613</td>\n",
       "      <td>0.164158</td>\n",
       "      <td>...</td>\n",
       "      <td>0.157931</td>\n",
       "      <td>0.270466</td>\n",
       "      <td>0.198930</td>\n",
       "      <td>0.636164</td>\n",
       "      <td>0.583238</td>\n",
       "      <td>0.648697</td>\n",
       "      <td>0.139250</td>\n",
       "      <td>0.398710</td>\n",
       "      <td>0.146673</td>\n",
       "      <td>0.171259</td>\n",
       "    </tr>\n",
       "  </tbody>\n",
       "</table>\n",
       "<p>5 rows × 10000 columns</p>\n",
       "</div>"
      ],
      "text/plain": [
       "book_id      27        21        2         18        24        3275      3753  \\\n",
       "book_id                                                                         \n",
       "27       1.000000  0.793039  0.967074  0.935959  0.932615  0.773161  0.826935   \n",
       "21       0.793039  1.000000  0.781584  0.756703  0.802735  0.606846  0.642205   \n",
       "2        0.967074  0.781584  1.000000  0.954254  0.951350  0.779767  0.838700   \n",
       "18       0.935959  0.756703  0.954254  1.000000  0.919456  0.750132  0.813695   \n",
       "24       0.932615  0.802735  0.951350  0.919456  1.000000  0.741594  0.802514   \n",
       "\n",
       "book_id      54        337       374   ...      5111      5296      8713  \\\n",
       "book_id                                ...                                 \n",
       "27       0.443948  0.383335  0.145548  ...  0.191713  0.276920  0.220817   \n",
       "21       0.371239  0.290013  0.128655  ...  0.132455  0.262205  0.181788   \n",
       "2        0.463165  0.400693  0.146866  ...  0.159402  0.254301  0.199595   \n",
       "18       0.444069  0.384745  0.159378  ...  0.153586  0.262145  0.192761   \n",
       "24       0.488001  0.413613  0.164158  ...  0.157931  0.270466  0.198930   \n",
       "\n",
       "book_id      7443      6428      7523      4594      9569      9580      8892  \n",
       "book_id                                                                        \n",
       "27       0.665664  0.613295  0.679846  0.121582  0.397349  0.165843  0.226996  \n",
       "21       0.483300  0.445195  0.511246  0.116972  0.341285  0.114551  0.164359  \n",
       "2        0.665316  0.612849  0.679313  0.122899  0.366076  0.148561  0.172504  \n",
       "18       0.646410  0.607130  0.660081  0.135276  0.368633  0.142581  0.166399  \n",
       "24       0.636164  0.583238  0.648697  0.139250  0.398710  0.146673  0.171259  \n",
       "\n",
       "[5 rows x 10000 columns]"
      ]
     },
     "execution_count": 3,
     "metadata": {},
     "output_type": "execute_result"
    }
   ],
   "source": [
    "book_sim = pd.DataFrame(\n",
    "    data = cosine_similarity(book_profiles, book_profiles),\n",
    "    index = book_profiles.index,\n",
    "    columns = book_profiles.index\n",
    ")\n",
    "\n",
    "book_sim.head()"
   ]
  },
  {
   "cell_type": "code",
   "execution_count": 4,
   "metadata": {
    "ExecuteTime": {
     "end_time": "2019-05-05T09:30:46.725490Z",
     "start_time": "2019-05-05T09:29:13.165491Z"
    }
   },
   "outputs": [
    {
     "data": {
      "application/vnd.jupyter.widget-view+json": {
       "model_id": "548604101dcb48d5b96b3c710650dcc1",
       "version_major": 2,
       "version_minor": 0
      },
      "text/plain": [
       "HBox(children=(IntProgress(value=0, max=52363), HTML(value='')))"
      ]
     },
     "metadata": {},
     "output_type": "display_data"
    },
    {
     "name": "stdout",
     "output_type": "stream",
     "text": [
      "\n"
     ]
    }
   ],
   "source": [
    "evl = Evaluator(\n",
    "    k = 10,\n",
    "    training_ratings = training_ratings,\n",
    "    testing_ratings = testing_ratings,\n",
    "    book_sim = book_sim,\n",
    "    novelty_scores = novelty_scores\n",
    ")"
   ]
  },
  {
   "cell_type": "markdown",
   "metadata": {},
   "source": [
    "# Create CF similarity matrix"
   ]
  },
  {
   "cell_type": "code",
   "execution_count": 5,
   "metadata": {
    "ExecuteTime": {
     "end_time": "2019-05-05T09:36:13.173681Z",
     "start_time": "2019-05-05T09:36:13.015177Z"
    },
    "scrolled": true
   },
   "outputs": [
    {
     "data": {
      "text/html": [
       "<div>\n",
       "<style scoped>\n",
       "    .dataframe tbody tr th:only-of-type {\n",
       "        vertical-align: middle;\n",
       "    }\n",
       "\n",
       "    .dataframe tbody tr th {\n",
       "        vertical-align: top;\n",
       "    }\n",
       "\n",
       "    .dataframe thead th {\n",
       "        text-align: right;\n",
       "    }\n",
       "</style>\n",
       "<table border=\"1\" class=\"dataframe\">\n",
       "  <thead>\n",
       "    <tr style=\"text-align: right;\">\n",
       "      <th></th>\n",
       "      <th>user_id</th>\n",
       "      <th>book_id</th>\n",
       "      <th>rating</th>\n",
       "    </tr>\n",
       "  </thead>\n",
       "  <tbody>\n",
       "    <tr>\n",
       "      <th>0</th>\n",
       "      <td>2</td>\n",
       "      <td>4081</td>\n",
       "      <td>4</td>\n",
       "    </tr>\n",
       "    <tr>\n",
       "      <th>1</th>\n",
       "      <td>2</td>\n",
       "      <td>2318</td>\n",
       "      <td>3</td>\n",
       "    </tr>\n",
       "    <tr>\n",
       "      <th>2</th>\n",
       "      <td>2</td>\n",
       "      <td>26</td>\n",
       "      <td>4</td>\n",
       "    </tr>\n",
       "    <tr>\n",
       "      <th>3</th>\n",
       "      <td>2</td>\n",
       "      <td>315</td>\n",
       "      <td>3</td>\n",
       "    </tr>\n",
       "    <tr>\n",
       "      <th>4</th>\n",
       "      <td>2</td>\n",
       "      <td>33</td>\n",
       "      <td>4</td>\n",
       "    </tr>\n",
       "  </tbody>\n",
       "</table>\n",
       "</div>"
      ],
      "text/plain": [
       "   user_id  book_id  rating\n",
       "0        2     4081       4\n",
       "1        2     2318       3\n",
       "2        2       26       4\n",
       "3        2      315       3\n",
       "4        2       33       4"
      ]
     },
     "execution_count": 5,
     "metadata": {},
     "output_type": "execute_result"
    }
   ],
   "source": [
    "training_ratings.head()"
   ]
  },
  {
   "cell_type": "code",
   "execution_count": 6,
   "metadata": {
    "ExecuteTime": {
     "end_time": "2019-05-05T09:36:16.327675Z",
     "start_time": "2019-05-05T09:36:15.882177Z"
    }
   },
   "outputs": [
    {
     "data": {
      "text/html": [
       "<div>\n",
       "<style scoped>\n",
       "    .dataframe tbody tr th:only-of-type {\n",
       "        vertical-align: middle;\n",
       "    }\n",
       "\n",
       "    .dataframe tbody tr th {\n",
       "        vertical-align: top;\n",
       "    }\n",
       "\n",
       "    .dataframe thead th {\n",
       "        text-align: right;\n",
       "    }\n",
       "</style>\n",
       "<table border=\"1\" class=\"dataframe\">\n",
       "  <thead>\n",
       "    <tr style=\"text-align: right;\">\n",
       "      <th></th>\n",
       "      <th>rating</th>\n",
       "    </tr>\n",
       "    <tr>\n",
       "      <th>user_id</th>\n",
       "      <th></th>\n",
       "    </tr>\n",
       "  </thead>\n",
       "  <tbody>\n",
       "    <tr>\n",
       "      <th>1</th>\n",
       "      <td>3.500000</td>\n",
       "    </tr>\n",
       "    <tr>\n",
       "      <th>2</th>\n",
       "      <td>4.269231</td>\n",
       "    </tr>\n",
       "    <tr>\n",
       "      <th>4</th>\n",
       "      <td>3.669355</td>\n",
       "    </tr>\n",
       "    <tr>\n",
       "      <th>5</th>\n",
       "      <td>3.945055</td>\n",
       "    </tr>\n",
       "    <tr>\n",
       "      <th>6</th>\n",
       "      <td>4.175676</td>\n",
       "    </tr>\n",
       "  </tbody>\n",
       "</table>\n",
       "</div>"
      ],
      "text/plain": [
       "           rating\n",
       "user_id          \n",
       "1        3.500000\n",
       "2        4.269231\n",
       "4        3.669355\n",
       "5        3.945055\n",
       "6        4.175676"
      ]
     },
     "execution_count": 6,
     "metadata": {},
     "output_type": "execute_result"
    }
   ],
   "source": [
    "users_mean_rating = training_ratings.groupby('user_id').mean()[['rating']]\n",
    "users_mean_rating.head()"
   ]
  },
  {
   "cell_type": "code",
   "execution_count": 7,
   "metadata": {
    "ExecuteTime": {
     "end_time": "2019-05-05T09:36:18.052677Z",
     "start_time": "2019-05-05T09:36:17.677677Z"
    }
   },
   "outputs": [
    {
     "data": {
      "text/html": [
       "<div>\n",
       "<style scoped>\n",
       "    .dataframe tbody tr th:only-of-type {\n",
       "        vertical-align: middle;\n",
       "    }\n",
       "\n",
       "    .dataframe tbody tr th {\n",
       "        vertical-align: top;\n",
       "    }\n",
       "\n",
       "    .dataframe thead th {\n",
       "        text-align: right;\n",
       "    }\n",
       "</style>\n",
       "<table border=\"1\" class=\"dataframe\">\n",
       "  <thead>\n",
       "    <tr style=\"text-align: right;\">\n",
       "      <th></th>\n",
       "      <th>user_id</th>\n",
       "      <th>book_id</th>\n",
       "      <th>rating</th>\n",
       "      <th>adjusted_rating</th>\n",
       "    </tr>\n",
       "  </thead>\n",
       "  <tbody>\n",
       "    <tr>\n",
       "      <th>0</th>\n",
       "      <td>2</td>\n",
       "      <td>4081</td>\n",
       "      <td>4</td>\n",
       "      <td>-0.269231</td>\n",
       "    </tr>\n",
       "    <tr>\n",
       "      <th>1</th>\n",
       "      <td>2</td>\n",
       "      <td>2318</td>\n",
       "      <td>3</td>\n",
       "      <td>-1.269231</td>\n",
       "    </tr>\n",
       "    <tr>\n",
       "      <th>2</th>\n",
       "      <td>2</td>\n",
       "      <td>26</td>\n",
       "      <td>4</td>\n",
       "      <td>-0.269231</td>\n",
       "    </tr>\n",
       "    <tr>\n",
       "      <th>3</th>\n",
       "      <td>2</td>\n",
       "      <td>315</td>\n",
       "      <td>3</td>\n",
       "      <td>-1.269231</td>\n",
       "    </tr>\n",
       "    <tr>\n",
       "      <th>4</th>\n",
       "      <td>2</td>\n",
       "      <td>33</td>\n",
       "      <td>4</td>\n",
       "      <td>-0.269231</td>\n",
       "    </tr>\n",
       "  </tbody>\n",
       "</table>\n",
       "</div>"
      ],
      "text/plain": [
       "   user_id  book_id  rating  adjusted_rating\n",
       "0        2     4081       4        -0.269231\n",
       "1        2     2318       3        -1.269231\n",
       "2        2       26       4        -0.269231\n",
       "3        2      315       3        -1.269231\n",
       "4        2       33       4        -0.269231"
      ]
     },
     "execution_count": 7,
     "metadata": {},
     "output_type": "execute_result"
    }
   ],
   "source": [
    "training_ratings['adjusted_rating'] = training_ratings[['rating']] - users_mean_rating.loc[training_ratings.user_id].values\n",
    "training_ratings.head()"
   ]
  },
  {
   "cell_type": "code",
   "execution_count": 8,
   "metadata": {
    "ExecuteTime": {
     "end_time": "2019-05-05T09:36:22.228176Z",
     "start_time": "2019-05-05T09:36:21.507177Z"
    }
   },
   "outputs": [
    {
     "data": {
      "text/plain": [
       "<52363x10000 sparse matrix of type '<class 'numpy.float64'>'\n",
       "\twith 5206758 stored elements in Compressed Sparse Row format>"
      ]
     },
     "execution_count": 8,
     "metadata": {},
     "output_type": "execute_result"
    }
   ],
   "source": [
    "user_c = CategoricalDtype(sorted(training_ratings.user_id.unique()), ordered=True)\n",
    "book_c = CategoricalDtype(sorted(training_ratings.book_id.unique()), ordered=True)\n",
    "\n",
    "row = training_ratings.user_id.astype(user_c).cat.codes\n",
    "col = training_ratings.book_id.astype(book_c).cat.codes\n",
    "sparse_matrix = csr_matrix((training_ratings[\"adjusted_rating\"], (row, col)), \\\n",
    "                           shape=(user_c.categories.size, book_c.categories.size))\n",
    "\n",
    "sparse_matrix"
   ]
  },
  {
   "cell_type": "code",
   "execution_count": 9,
   "metadata": {
    "ExecuteTime": {
     "end_time": "2019-05-05T09:36:28.353176Z",
     "start_time": "2019-05-05T09:36:23.494676Z"
    }
   },
   "outputs": [
    {
     "data": {
      "text/plain": [
       "(10000, 10000)"
      ]
     },
     "execution_count": 9,
     "metadata": {},
     "output_type": "execute_result"
    }
   ],
   "source": [
    "cf_sim = pd.DataFrame(\n",
    "    data = cosine_similarity(sparse_matrix.T, sparse_matrix.T),\n",
    "    index = book_c.categories,\n",
    "    columns = book_c.categories)\n",
    "cf_sim.shape"
   ]
  },
  {
   "cell_type": "code",
   "execution_count": 10,
   "metadata": {
    "ExecuteTime": {
     "end_time": "2019-05-05T09:36:30.520676Z",
     "start_time": "2019-05-05T09:36:30.355177Z"
    }
   },
   "outputs": [
    {
     "data": {
      "text/html": [
       "<div>\n",
       "<style scoped>\n",
       "    .dataframe tbody tr th:only-of-type {\n",
       "        vertical-align: middle;\n",
       "    }\n",
       "\n",
       "    .dataframe tbody tr th {\n",
       "        vertical-align: top;\n",
       "    }\n",
       "\n",
       "    .dataframe thead th {\n",
       "        text-align: right;\n",
       "    }\n",
       "</style>\n",
       "<table border=\"1\" class=\"dataframe\">\n",
       "  <thead>\n",
       "    <tr style=\"text-align: right;\">\n",
       "      <th></th>\n",
       "      <th>1</th>\n",
       "      <th>2</th>\n",
       "      <th>3</th>\n",
       "      <th>4</th>\n",
       "      <th>5</th>\n",
       "      <th>6</th>\n",
       "      <th>7</th>\n",
       "      <th>8</th>\n",
       "      <th>9</th>\n",
       "      <th>10</th>\n",
       "      <th>...</th>\n",
       "      <th>9991</th>\n",
       "      <th>9992</th>\n",
       "      <th>9993</th>\n",
       "      <th>9994</th>\n",
       "      <th>9995</th>\n",
       "      <th>9996</th>\n",
       "      <th>9997</th>\n",
       "      <th>9998</th>\n",
       "      <th>9999</th>\n",
       "      <th>10000</th>\n",
       "    </tr>\n",
       "  </thead>\n",
       "  <tbody>\n",
       "    <tr>\n",
       "      <th>1</th>\n",
       "      <td>1.000000</td>\n",
       "      <td>0.160908</td>\n",
       "      <td>-0.031925</td>\n",
       "      <td>0.057201</td>\n",
       "      <td>-0.032354</td>\n",
       "      <td>0.097614</td>\n",
       "      <td>0.003601</td>\n",
       "      <td>-0.033949</td>\n",
       "      <td>0.019652</td>\n",
       "      <td>0.062751</td>\n",
       "      <td>...</td>\n",
       "      <td>0.000213</td>\n",
       "      <td>-0.000544</td>\n",
       "      <td>-0.002776</td>\n",
       "      <td>0.006636</td>\n",
       "      <td>-0.001584</td>\n",
       "      <td>-0.004744</td>\n",
       "      <td>-0.003601</td>\n",
       "      <td>-0.001484</td>\n",
       "      <td>-0.008362</td>\n",
       "      <td>-0.001154</td>\n",
       "    </tr>\n",
       "    <tr>\n",
       "      <th>2</th>\n",
       "      <td>0.160908</td>\n",
       "      <td>1.000000</td>\n",
       "      <td>-0.140739</td>\n",
       "      <td>0.077358</td>\n",
       "      <td>-0.041489</td>\n",
       "      <td>0.055014</td>\n",
       "      <td>0.070666</td>\n",
       "      <td>-0.055633</td>\n",
       "      <td>0.000736</td>\n",
       "      <td>0.079883</td>\n",
       "      <td>...</td>\n",
       "      <td>-0.003834</td>\n",
       "      <td>-0.002613</td>\n",
       "      <td>0.003130</td>\n",
       "      <td>0.008077</td>\n",
       "      <td>-0.000640</td>\n",
       "      <td>-0.003086</td>\n",
       "      <td>0.001596</td>\n",
       "      <td>0.001712</td>\n",
       "      <td>-0.002568</td>\n",
       "      <td>0.001918</td>\n",
       "    </tr>\n",
       "    <tr>\n",
       "      <th>3</th>\n",
       "      <td>-0.031925</td>\n",
       "      <td>-0.140739</td>\n",
       "      <td>1.000000</td>\n",
       "      <td>-0.102555</td>\n",
       "      <td>0.018040</td>\n",
       "      <td>-0.030820</td>\n",
       "      <td>-0.074245</td>\n",
       "      <td>0.045801</td>\n",
       "      <td>0.092864</td>\n",
       "      <td>-0.042211</td>\n",
       "      <td>...</td>\n",
       "      <td>0.000588</td>\n",
       "      <td>0.000722</td>\n",
       "      <td>-0.001307</td>\n",
       "      <td>-0.012517</td>\n",
       "      <td>0.005616</td>\n",
       "      <td>-0.004577</td>\n",
       "      <td>-0.002103</td>\n",
       "      <td>-0.007541</td>\n",
       "      <td>-0.005134</td>\n",
       "      <td>-0.005772</td>\n",
       "    </tr>\n",
       "    <tr>\n",
       "      <th>4</th>\n",
       "      <td>0.057201</td>\n",
       "      <td>0.077358</td>\n",
       "      <td>-0.102555</td>\n",
       "      <td>1.000000</td>\n",
       "      <td>0.059419</td>\n",
       "      <td>0.029309</td>\n",
       "      <td>0.040175</td>\n",
       "      <td>0.021020</td>\n",
       "      <td>-0.066932</td>\n",
       "      <td>0.104644</td>\n",
       "      <td>...</td>\n",
       "      <td>-0.003452</td>\n",
       "      <td>-0.002976</td>\n",
       "      <td>0.003553</td>\n",
       "      <td>-0.007009</td>\n",
       "      <td>-0.010980</td>\n",
       "      <td>0.001920</td>\n",
       "      <td>0.001449</td>\n",
       "      <td>0.005182</td>\n",
       "      <td>-0.004473</td>\n",
       "      <td>0.002732</td>\n",
       "    </tr>\n",
       "    <tr>\n",
       "      <th>5</th>\n",
       "      <td>-0.032354</td>\n",
       "      <td>-0.041489</td>\n",
       "      <td>0.018040</td>\n",
       "      <td>0.059419</td>\n",
       "      <td>1.000000</td>\n",
       "      <td>0.002683</td>\n",
       "      <td>-0.022331</td>\n",
       "      <td>0.143918</td>\n",
       "      <td>-0.009220</td>\n",
       "      <td>0.022881</td>\n",
       "      <td>...</td>\n",
       "      <td>-0.003136</td>\n",
       "      <td>0.001688</td>\n",
       "      <td>-0.004796</td>\n",
       "      <td>0.002315</td>\n",
       "      <td>0.011939</td>\n",
       "      <td>-0.005000</td>\n",
       "      <td>0.004715</td>\n",
       "      <td>0.005097</td>\n",
       "      <td>-0.001746</td>\n",
       "      <td>0.007714</td>\n",
       "    </tr>\n",
       "  </tbody>\n",
       "</table>\n",
       "<p>5 rows × 10000 columns</p>\n",
       "</div>"
      ],
      "text/plain": [
       "      1         2         3         4         5         6         7      \\\n",
       "1  1.000000  0.160908 -0.031925  0.057201 -0.032354  0.097614  0.003601   \n",
       "2  0.160908  1.000000 -0.140739  0.077358 -0.041489  0.055014  0.070666   \n",
       "3 -0.031925 -0.140739  1.000000 -0.102555  0.018040 -0.030820 -0.074245   \n",
       "4  0.057201  0.077358 -0.102555  1.000000  0.059419  0.029309  0.040175   \n",
       "5 -0.032354 -0.041489  0.018040  0.059419  1.000000  0.002683 -0.022331   \n",
       "\n",
       "      8         9         10     ...     9991      9992      9993      9994   \\\n",
       "1 -0.033949  0.019652  0.062751  ...  0.000213 -0.000544 -0.002776  0.006636   \n",
       "2 -0.055633  0.000736  0.079883  ... -0.003834 -0.002613  0.003130  0.008077   \n",
       "3  0.045801  0.092864 -0.042211  ...  0.000588  0.000722 -0.001307 -0.012517   \n",
       "4  0.021020 -0.066932  0.104644  ... -0.003452 -0.002976  0.003553 -0.007009   \n",
       "5  0.143918 -0.009220  0.022881  ... -0.003136  0.001688 -0.004796  0.002315   \n",
       "\n",
       "      9995      9996      9997      9998      9999      10000  \n",
       "1 -0.001584 -0.004744 -0.003601 -0.001484 -0.008362 -0.001154  \n",
       "2 -0.000640 -0.003086  0.001596  0.001712 -0.002568  0.001918  \n",
       "3  0.005616 -0.004577 -0.002103 -0.007541 -0.005134 -0.005772  \n",
       "4 -0.010980  0.001920  0.001449  0.005182 -0.004473  0.002732  \n",
       "5  0.011939 -0.005000  0.004715  0.005097 -0.001746  0.007714  \n",
       "\n",
       "[5 rows x 10000 columns]"
      ]
     },
     "execution_count": 10,
     "metadata": {},
     "output_type": "execute_result"
    }
   ],
   "source": [
    "cf_sim.head()"
   ]
  },
  {
   "cell_type": "markdown",
   "metadata": {},
   "source": [
    "# Item-Item CF RecSys"
   ]
  },
  {
   "cell_type": "markdown",
   "metadata": {},
   "source": [
    "Paper:\n",
    "- Item-based Collaborative Filtering Recommendation Algorithms published by GroupLens\n",
    "- Amazon. com recommendations: Item-to-item collaborative filtering"
   ]
  },
  {
   "cell_type": "code",
   "execution_count": 11,
   "metadata": {
    "ExecuteTime": {
     "end_time": "2019-05-05T09:36:38.684715Z",
     "start_time": "2019-05-05T09:36:38.543179Z"
    }
   },
   "outputs": [
    {
     "data": {
      "text/plain": [
       "\"Harry Potter and the Sorcerer's Stone (Harry Potter, #1)\""
      ]
     },
     "execution_count": 11,
     "metadata": {},
     "output_type": "execute_result"
    }
   ],
   "source": [
    "books.loc[2].title"
   ]
  },
  {
   "cell_type": "code",
   "execution_count": 12,
   "metadata": {
    "ExecuteTime": {
     "end_time": "2019-05-05T09:36:40.532676Z",
     "start_time": "2019-05-05T09:36:40.345179Z"
    }
   },
   "outputs": [
    {
     "data": {
      "text/plain": [
       "23     Harry Potter and the Chamber of Secrets (Harry...\n",
       "18     Harry Potter and the Prisoner of Azkaban (Harr...\n",
       "24     Harry Potter and the Goblet of Fire (Harry Pot...\n",
       "27     Harry Potter and the Half-Blood Prince (Harry ...\n",
       "25     Harry Potter and the Deathly Hallows (Harry Po...\n",
       "21     Harry Potter and the Order of the Phoenix (Har...\n",
       "1                The Hunger Games (The Hunger Games, #1)\n",
       "31                                              The Help\n",
       "17                  Catching Fire (The Hunger Games, #2)\n",
       "422             Harry Potter Boxset (Harry Potter, #1-7)\n",
       "Name: title, dtype: object"
      ]
     },
     "execution_count": 12,
     "metadata": {},
     "output_type": "execute_result"
    }
   ],
   "source": [
    "books.loc[cf_sim.loc[2].sort_values(ascending=False)[1:11].index].title"
   ]
  },
  {
   "cell_type": "code",
   "execution_count": 13,
   "metadata": {
    "ExecuteTime": {
     "end_time": "2019-05-05T09:36:56.588177Z",
     "start_time": "2019-05-05T09:36:42.217676Z"
    }
   },
   "outputs": [
    {
     "data": {
      "application/vnd.jupyter.widget-view+json": {
       "model_id": "3b38bdc23b1f40e4a2e9f8d768256320",
       "version_major": 2,
       "version_minor": 0
      },
      "text/plain": [
       "HBox(children=(IntProgress(value=0, max=10000), HTML(value='')))"
      ]
     },
     "metadata": {},
     "output_type": "display_data"
    },
    {
     "name": "stdout",
     "output_type": "stream",
     "text": [
      "\n"
     ]
    }
   ],
   "source": [
    "top_sim_books = {}\n",
    "book_ids = cf_sim.index\n",
    "for book_id in tqdm(book_ids):\n",
    "    top_sim_books[book_id] = cf_sim.loc[book_id].sort_values(ascending=False)[1:51]"
   ]
  },
  {
   "cell_type": "code",
   "execution_count": 14,
   "metadata": {
    "ExecuteTime": {
     "end_time": "2019-05-05T09:37:23.904178Z",
     "start_time": "2019-05-05T09:37:18.517182Z"
    }
   },
   "outputs": [],
   "source": [
    "list_of_5_ratings = training_ratings[training_ratings.rating==5].groupby('user_id')['book_id'].apply(list)"
   ]
  },
  {
   "cell_type": "code",
   "execution_count": 15,
   "metadata": {
    "ExecuteTime": {
     "end_time": "2019-05-05T09:37:42.836718Z",
     "start_time": "2019-05-05T09:37:42.675178Z"
    }
   },
   "outputs": [],
   "source": [
    "class ItemCFRecommender:\n",
    "    name = \"Item-based CF RS\"\n",
    "    preds = {}\n",
    "    \n",
    "    def fit(self, training_ratings):\n",
    "        user_ids = training_ratings.user_id.unique().tolist()\n",
    "        self.preds = {}\n",
    "        for user_id in tqdm(user_ids):\n",
    "            excluded_books = training_ratings[training_ratings.user_id==user_id].book_id.unique().tolist()\n",
    "            most_similar_books = pd.Series([])\n",
    "            for book_id in list_of_5_ratings[user_id]:\n",
    "                most_similar_books = most_similar_books.append(top_sim_books[book_id])\n",
    "            \n",
    "            most_similar_books = np.array(most_similar_books.groupby(most_similar_books.index).sum().sort_values(ascending=False).index)\n",
    "            recommendable = most_similar_books[~np.in1d(most_similar_books, excluded_books)]\n",
    "\n",
    "            self.preds[user_id] = recommendable[:10].tolist()\n",
    "    def recommendation_for_user(self, user_id):\n",
    "        if user_id not in self.preds:\n",
    "            return []\n",
    "        return self.preds[user_id]\n",
    "    \n",
    "    def all_recommendation(self):\n",
    "        return self.preds"
   ]
  },
  {
   "cell_type": "code",
   "execution_count": 16,
   "metadata": {
    "ExecuteTime": {
     "end_time": "2019-05-05T09:54:24.004286Z",
     "start_time": "2019-05-05T09:38:02.452676Z"
    }
   },
   "outputs": [
    {
     "name": "stdout",
     "output_type": "stream",
     "text": [
      "Calculating recommendations:\n"
     ]
    },
    {
     "data": {
      "application/vnd.jupyter.widget-view+json": {
       "model_id": "d89ce52f08a741a385a1809bebf0f613",
       "version_major": 2,
       "version_minor": 0
      },
      "text/plain": [
       "HBox(children=(IntProgress(value=0, max=52363), HTML(value='')))"
      ]
     },
     "metadata": {},
     "output_type": "display_data"
    },
    {
     "name": "stdout",
     "output_type": "stream",
     "text": [
      "\n",
      "Calculating metrics:\n"
     ]
    },
    {
     "data": {
      "application/vnd.jupyter.widget-view+json": {
       "model_id": "c483453671d6459e9df8dd1fcdc263da",
       "version_major": 2,
       "version_minor": 0
      },
      "text/plain": [
       "HBox(children=(IntProgress(value=0, max=52363), HTML(value='')))"
      ]
     },
     "metadata": {},
     "output_type": "display_data"
    },
    {
     "name": "stdout",
     "output_type": "stream",
     "text": [
      "\n",
      "                       Item-based CF RS\n",
      "Mean Average Precision           22.64%\n",
      "Coverage                         85.54%\n",
      "Novelty Score                      4.84\n",
      "Diversity Score                    4.49\n",
      "Personalization Score              9.58\n"
     ]
    }
   ],
   "source": [
    "icf_rec = ItemCFRecommender()\n",
    "evl.evaluate(icf_rec)\n",
    "evl.print_result()"
   ]
  },
  {
   "cell_type": "markdown",
   "metadata": {},
   "source": [
    "# Inspection"
   ]
  },
  {
   "cell_type": "code",
   "execution_count": 17,
   "metadata": {
    "ExecuteTime": {
     "end_time": "2019-05-05T09:58:08.714903Z",
     "start_time": "2019-05-05T09:56:40.374907Z"
    }
   },
   "outputs": [
    {
     "data": {
      "application/vnd.jupyter.widget-view+json": {
       "model_id": "e16e70deb19743bbb5f00818348a962e",
       "version_major": 2,
       "version_minor": 0
      },
      "text/plain": [
       "HBox(children=(IntProgress(value=0, max=52363), HTML(value='')))"
      ]
     },
     "metadata": {},
     "output_type": "display_data"
    },
    {
     "name": "stdout",
     "output_type": "stream",
     "text": [
      "\n"
     ]
    }
   ],
   "source": [
    "def get_inspection(model):\n",
    "    inspection = pd.DataFrame(columns=['5_counts', 'MAP'])\n",
    "    preds = model.all_recommendation()\n",
    "    for user_id in tqdm(preds.keys()):\n",
    "        pred = preds[user_id]\n",
    "        truth = evl.testing_idx[user_id]\n",
    "        inspection.loc[user_id] = [len(list_of_5_ratings[user_id]), evl._average_precision(pred, truth)]\n",
    "        \n",
    "    return inspection\n",
    "\n",
    "inspection = get_inspection(icf_rec)"
   ]
  },
  {
   "cell_type": "code",
   "execution_count": 18,
   "metadata": {
    "ExecuteTime": {
     "end_time": "2019-05-05T09:58:24.957398Z",
     "start_time": "2019-05-05T09:58:24.800403Z"
    }
   },
   "outputs": [
    {
     "data": {
      "text/html": [
       "<div>\n",
       "<style scoped>\n",
       "    .dataframe tbody tr th:only-of-type {\n",
       "        vertical-align: middle;\n",
       "    }\n",
       "\n",
       "    .dataframe tbody tr th {\n",
       "        vertical-align: top;\n",
       "    }\n",
       "\n",
       "    .dataframe thead th {\n",
       "        text-align: right;\n",
       "    }\n",
       "</style>\n",
       "<table border=\"1\" class=\"dataframe\">\n",
       "  <thead>\n",
       "    <tr style=\"text-align: right;\">\n",
       "      <th></th>\n",
       "      <th>5_counts</th>\n",
       "      <th>MAP</th>\n",
       "    </tr>\n",
       "  </thead>\n",
       "  <tbody>\n",
       "    <tr>\n",
       "      <th>2</th>\n",
       "      <td>27.0</td>\n",
       "      <td>0.344444</td>\n",
       "    </tr>\n",
       "    <tr>\n",
       "      <th>4</th>\n",
       "      <td>21.0</td>\n",
       "      <td>0.237500</td>\n",
       "    </tr>\n",
       "    <tr>\n",
       "      <th>6</th>\n",
       "      <td>31.0</td>\n",
       "      <td>0.400000</td>\n",
       "    </tr>\n",
       "    <tr>\n",
       "      <th>8</th>\n",
       "      <td>15.0</td>\n",
       "      <td>0.017857</td>\n",
       "    </tr>\n",
       "    <tr>\n",
       "      <th>1</th>\n",
       "      <td>15.0</td>\n",
       "      <td>0.014286</td>\n",
       "    </tr>\n",
       "  </tbody>\n",
       "</table>\n",
       "</div>"
      ],
      "text/plain": [
       "   5_counts       MAP\n",
       "2      27.0  0.344444\n",
       "4      21.0  0.237500\n",
       "6      31.0  0.400000\n",
       "8      15.0  0.017857\n",
       "1      15.0  0.014286"
      ]
     },
     "execution_count": 18,
     "metadata": {},
     "output_type": "execute_result"
    }
   ],
   "source": [
    "inspection.head()"
   ]
  },
  {
   "cell_type": "code",
   "execution_count": 23,
   "metadata": {
    "ExecuteTime": {
     "end_time": "2019-05-05T10:00:59.546579Z",
     "start_time": "2019-05-05T10:00:59.271579Z"
    }
   },
   "outputs": [
    {
     "data": {
      "text/plain": [
       "<matplotlib.axes._subplots.AxesSubplot at 0x1828b174f60>"
      ]
     },
     "execution_count": 23,
     "metadata": {},
     "output_type": "execute_result"
    },
    {
     "data": {
      "image/png": "[encoded data removed]",
      "text/plain": [
       "<Figure size 432x288 with 1 Axes>"
      ]
     },
     "metadata": {
      "needs_background": "light"
     },
     "output_type": "display_data"
    }
   ],
   "source": [
    "inspection.groupby('5_counts').count().plot()"
   ]
  },
  {
   "cell_type": "code",
   "execution_count": 19,
   "metadata": {
    "ExecuteTime": {
     "end_time": "2019-05-05T09:58:41.817711Z",
     "start_time": "2019-05-05T09:58:41.506902Z"
    }
   },
   "outputs": [
    {
     "data": {
      "text/plain": [
       "<matplotlib.axes._subplots.AxesSubplot at 0x18281fc6b70>"
      ]
     },
     "execution_count": 19,
     "metadata": {},
     "output_type": "execute_result"
    },
    {
     "data": {
      "image/png": "[encoded data removed]",
      "text/plain": [
       "<Figure size 432x288 with 1 Axes>"
      ]
     },
     "metadata": {
      "needs_background": "light"
     },
     "output_type": "display_data"
    }
   ],
   "source": [
    "inspection.groupby('5_counts').mean().plot()"
   ]
  }
 ],
 "metadata": {
  "kernelspec": {
   "display_name": "Python 3",
   "language": "python",
   "name": "python3"
  },
  "language_info": {
   "codemirror_mode": {
    "name": "ipython",
    "version": 3
   },
   "file_extension": ".py",
   "mimetype": "text/x-python",
   "name": "python",
   "nbconvert_exporter": "python",
   "pygments_lexer": "ipython3",
   "version": "3.7.3"
  },
  "toc": {
   "base_numbering": 1,
   "nav_menu": {},
   "number_sections": true,
   "sideBar": true,
   "skip_h1_title": false,
   "title_cell": "Table of Contents",
   "title_sidebar": "Contents",
   "toc_cell": false,
   "toc_position": {
    "height": "calc(100% - 180px)",
    "left": "10px",
    "top": "150px",
    "width": "289px"
   },
   "toc_section_display": true,
   "toc_window_display": false
  },
  "varInspector": {
   "cols": {
    "lenName": 16,
    "lenType": 16,
    "lenVar": 40
   },
   "kernels_config": {
    "python": {
     "delete_cmd_postfix": "",
     "delete_cmd_prefix": "del ",
     "library": "var_list.py",
     "varRefreshCmd": "print(var_dic_list())"
    },
    "r": {
     "delete_cmd_postfix": ") ",
     "delete_cmd_prefix": "rm(",
     "library": "var_list.r",
     "varRefreshCmd": "cat(var_dic_list()) "
    }
   },
   "types_to_exclude": [
    "module",
    "function",
    "builtin_function_or_method",
    "instance",
    "_Feature"
   ],
   "window_display": false
  },
  "widgets": {
   "application/vnd.jupyter.widget-state+json": {
    "state": {
     "00d52daa155549eca6b83a4fa32e02e6": {
      "model_module": "@jupyter-widgets/controls",
      "model_module_version": "1.4.0",
      "model_name": "ProgressStyleModel",
      "state": {
       "description_width": ""
      }
     },
     "02cd96f450ae45e4bc8a9ad4662fbe5f": {
      "model_module": "@jupyter-widgets/base",
      "model_module_version": "1.1.0",
      "model_name": "LayoutModel",
      "state": {}
     },
     "061d9b9ab4c54f65a10c25390b327b06": {
      "model_module": "@jupyter-widgets/controls",
      "model_module_version": "1.4.0",
      "model_name": "DescriptionStyleModel",
      "state": {
       "description_width": ""
      }
     },
     "06826f997fd745b6a61df191cb462217": {
      "model_module": "@jupyter-widgets/controls",
      "model_module_version": "1.4.0",
      "model_name": "HTMLModel",
      "state": {
       "layout": "IPY_MODEL_540dce9700c24e72905e85fdec1e7157",
       "style": "IPY_MODEL_5e869421e8ab4a2c83127c95fce9b144",
       "value": "100% 52363/52363 [13:01&lt;00:00, 66.98it/s]"
      }
     },
     "06a4fb9070194cff89f25562300961e8": {
      "model_module": "@jupyter-widgets/base",
      "model_module_version": "1.1.0",
      "model_name": "LayoutModel",
      "state": {}
     },
     "0e1d223323e14cc89d26f2fa9f7ba1e1": {
      "model_module": "@jupyter-widgets/controls",
      "model_module_version": "1.4.0",
      "model_name": "DescriptionStyleModel",
      "state": {
       "description_width": ""
      }
     },
     "0ef4945a43e44ba0bd6ac4928f883d3c": {
      "model_module": "@jupyter-widgets/base",
      "model_module_version": "1.1.0",
      "model_name": "LayoutModel",
      "state": {}
     },
     "165b758cad644b30a5154694a19cd6c0": {
      "model_module": "@jupyter-widgets/base",
      "model_module_version": "1.1.0",
      "model_name": "LayoutModel",
      "state": {}
     },
     "1a109b3222414eb6a683ec7713564b9e": {
      "model_module": "@jupyter-widgets/base",
      "model_module_version": "1.1.0",
      "model_name": "LayoutModel",
      "state": {}
     },
     "20f3b239a34b4e1fb29e21bb0b7151f0": {
      "model_module": "@jupyter-widgets/base",
      "model_module_version": "1.1.0",
      "model_name": "LayoutModel",
      "state": {}
     },
     "2872e4ae3499430eb133341350b8722b": {
      "model_module": "@jupyter-widgets/base",
      "model_module_version": "1.1.0",
      "model_name": "LayoutModel",
      "state": {}
     },
     "2bd1520c6fbf4df49094668e7df8a838": {
      "model_module": "@jupyter-widgets/controls",
      "model_module_version": "1.4.0",
      "model_name": "HTMLModel",
      "state": {
       "layout": "IPY_MODEL_78f2ca125613405abe0ead925ccccad9",
       "style": "IPY_MODEL_0e1d223323e14cc89d26f2fa9f7ba1e1",
       "value": "100% 100/100 [00:01&lt;00:00, 71.89it/s]"
      }
     },
     "333877bd70c14f68a2c67e2409b28a96": {
      "model_module": "@jupyter-widgets/base",
      "model_module_version": "1.1.0",
      "model_name": "LayoutModel",
      "state": {}
     },
     "37a99262e6d04198b87f92b89d727375": {
      "model_module": "@jupyter-widgets/base",
      "model_module_version": "1.1.0",
      "model_name": "LayoutModel",
      "state": {}
     },
     "397445da68554f3b8d4eb252f2f80006": {
      "model_module": "@jupyter-widgets/controls",
      "model_module_version": "1.4.0",
      "model_name": "DescriptionStyleModel",
      "state": {
       "description_width": ""
      }
     },
     "39c33407a9514e0ba15b583fd87fe657": {
      "model_module": "@jupyter-widgets/controls",
      "model_module_version": "1.4.0",
      "model_name": "ProgressStyleModel",
      "state": {
       "description_width": ""
      }
     },
     "3b38bdc23b1f40e4a2e9f8d768256320": {
      "model_module": "@jupyter-widgets/controls",
      "model_module_version": "1.4.0",
      "model_name": "HBoxModel",
      "state": {
       "children": [
        "IPY_MODEL_6f5f41e769e14c99a1d2c34264ea8d85",
        "IPY_MODEL_db61bfe8307a460bbb1c1a27cff9b5ab"
       ],
       "layout": "IPY_MODEL_94192f9c579f4a7f852290b5b82f1579"
      }
     },
     "3b95ca02099d46778e92c7407edf2729": {
      "model_module": "@jupyter-widgets/controls",
      "model_module_version": "1.4.0",
      "model_name": "ProgressStyleModel",
      "state": {
       "description_width": ""
      }
     },
     "3e00c18ae6564045a2ef595bb3cd52b6": {
      "model_module": "@jupyter-widgets/controls",
      "model_module_version": "1.4.0",
      "model_name": "HTMLModel",
      "state": {
       "layout": "IPY_MODEL_333877bd70c14f68a2c67e2409b28a96",
       "style": "IPY_MODEL_397445da68554f3b8d4eb252f2f80006",
       "value": "  0% 0/100 [00:00&lt;?, ?it/s]"
      }
     },
     "43c8f1dbac4e449a9c2cf3205fefd00b": {
      "model_module": "@jupyter-widgets/controls",
      "model_module_version": "1.4.0",
      "model_name": "ProgressStyleModel",
      "state": {
       "description_width": ""
      }
     },
     "4487bff9a8554120aca29b552845fe51": {
      "model_module": "@jupyter-widgets/base",
      "model_module_version": "1.1.0",
      "model_name": "LayoutModel",
      "state": {}
     },
     "44dee1b53b4d4c038db33c8e5f7bf33f": {
      "model_module": "@jupyter-widgets/base",
      "model_module_version": "1.1.0",
      "model_name": "LayoutModel",
      "state": {}
     },
     "45f2a95d28524a86a3c17b23723d12cf": {
      "model_module": "@jupyter-widgets/controls",
      "model_module_version": "1.4.0",
      "model_name": "IntProgressModel",
      "state": {
       "bar_style": "success",
       "layout": "IPY_MODEL_2872e4ae3499430eb133341350b8722b",
       "max": 52363,
       "style": "IPY_MODEL_39c33407a9514e0ba15b583fd87fe657",
       "value": 52363
      }
     },
     "477562e6136e42438f234e5126cad77b": {
      "model_module": "@jupyter-widgets/controls",
      "model_module_version": "1.4.0",
      "model_name": "HTMLModel",
      "state": {
       "layout": "IPY_MODEL_4487bff9a8554120aca29b552845fe51",
       "style": "IPY_MODEL_d1ef292f32bc4b4f9023390769299b9a",
       "value": "100% 52363/52363 [13:07&lt;00:00, 66.49it/s]"
      }
     },
     "4a3b8d796ba142bbbda852192876d615": {
      "model_module": "@jupyter-widgets/controls",
      "model_module_version": "1.4.0",
      "model_name": "HBoxModel",
      "state": {
       "children": [
        "IPY_MODEL_cf74f8e3877b42b7b43dc0d6dae98c36",
        "IPY_MODEL_2bd1520c6fbf4df49094668e7df8a838"
       ],
       "layout": "IPY_MODEL_623452012fd7457881c2fea0685374ef"
      }
     },
     "50fc4bfb1cc4435d83f0ad604cc7ceb8": {
      "model_module": "@jupyter-widgets/controls",
      "model_module_version": "1.4.0",
      "model_name": "IntProgressModel",
      "state": {
       "bar_style": "success",
       "layout": "IPY_MODEL_bda3ca7073574a419c4457e7c3991b29",
       "max": 52363,
       "style": "IPY_MODEL_526c9765210845b99b8ff777782d0cf5",
       "value": 52363
      }
     },
     "515381aa67ef4c5097efdb9522512355": {
      "model_module": "@jupyter-widgets/controls",
      "model_module_version": "1.4.0",
      "model_name": "HTMLModel",
      "state": {
       "layout": "IPY_MODEL_9363b4033dd34daca393526905d61652",
       "style": "IPY_MODEL_061d9b9ab4c54f65a10c25390b327b06",
       "value": "100% 52363/52363 [01:10&lt;00:00, 743.32it/s]"
      }
     },
     "526c9765210845b99b8ff777782d0cf5": {
      "model_module": "@jupyter-widgets/controls",
      "model_module_version": "1.4.0",
      "model_name": "ProgressStyleModel",
      "state": {
       "description_width": ""
      }
     },
     "537cdee518ee47379fd88d509dc0c822": {
      "model_module": "@jupyter-widgets/base",
      "model_module_version": "1.1.0",
      "model_name": "LayoutModel",
      "state": {}
     },
     "540dce9700c24e72905e85fdec1e7157": {
      "model_module": "@jupyter-widgets/base",
      "model_module_version": "1.1.0",
      "model_name": "LayoutModel",
      "state": {}
     },
     "548604101dcb48d5b96b3c710650dcc1": {
      "model_module": "@jupyter-widgets/controls",
      "model_module_version": "1.4.0",
      "model_name": "HBoxModel",
      "state": {
       "children": [
        "IPY_MODEL_e070aaa976fd430b8fb3c4b0b7362979",
        "IPY_MODEL_b031271a5ce949e58c16b059f9d693cc"
       ],
       "layout": "IPY_MODEL_beeb9e4ccb8e4bc3a707de12003d3b12"
      }
     },
     "587b53a2639e49dc9540447bb3223acc": {
      "model_module": "@jupyter-widgets/controls",
      "model_module_version": "1.4.0",
      "model_name": "HTMLModel",
      "state": {
       "layout": "IPY_MODEL_c012b66b038c40e0a95b26135acb0260",
       "style": "IPY_MODEL_b1c96d370c2443c18cfa987e681cbeef",
       "value": "100% 52363/52363 [01:28&lt;00:00, 593.83it/s]"
      }
     },
     "589d0dcbeb134173add50415dd388fb3": {
      "model_module": "@jupyter-widgets/controls",
      "model_module_version": "1.4.0",
      "model_name": "ProgressStyleModel",
      "state": {
       "description_width": ""
      }
     },
     "5ab6809fb68742aea78d4ac6876479c1": {
      "model_module": "@jupyter-widgets/controls",
      "model_module_version": "1.4.0",
      "model_name": "DescriptionStyleModel",
      "state": {
       "description_width": ""
      }
     },
     "5c131f2478d24fb0b63c9edd79974f5a": {
      "model_module": "@jupyter-widgets/controls",
      "model_module_version": "1.4.0",
      "model_name": "IntProgressModel",
      "state": {
       "bar_style": "success",
       "layout": "IPY_MODEL_b0d6fe2f4d584b2ca97cba8a780dfab6",
       "max": 10000,
       "style": "IPY_MODEL_958e4168b60d48f08c401d4ebf123340",
       "value": 10000
      }
     },
     "5e869421e8ab4a2c83127c95fce9b144": {
      "model_module": "@jupyter-widgets/controls",
      "model_module_version": "1.4.0",
      "model_name": "DescriptionStyleModel",
      "state": {
       "description_width": ""
      }
     },
     "623452012fd7457881c2fea0685374ef": {
      "model_module": "@jupyter-widgets/base",
      "model_module_version": "1.1.0",
      "model_name": "LayoutModel",
      "state": {}
     },
     "6319bd30aa074b85a2d9ffe777557436": {
      "model_module": "@jupyter-widgets/base",
      "model_module_version": "1.1.0",
      "model_name": "LayoutModel",
      "state": {}
     },
     "64fc5ae01b374c94a18a8baa365036fe": {
      "model_module": "@jupyter-widgets/controls",
      "model_module_version": "1.4.0",
      "model_name": "IntProgressModel",
      "state": {
       "bar_style": "success",
       "layout": "IPY_MODEL_6319bd30aa074b85a2d9ffe777557436",
       "max": 52363,
       "style": "IPY_MODEL_00d52daa155549eca6b83a4fa32e02e6",
       "value": 52363
      }
     },
     "65fd8d88153f446bbd98cfa27d3966d9": {
      "model_module": "@jupyter-widgets/controls",
      "model_module_version": "1.4.0",
      "model_name": "DescriptionStyleModel",
      "state": {
       "description_width": ""
      }
     },
     "6b128ffdae6f4d9085b1502d202b061a": {
      "model_module": "@jupyter-widgets/base",
      "model_module_version": "1.1.0",
      "model_name": "LayoutModel",
      "state": {}
     },
     "6dd1cbb0fa7348518c54663e3f0b0da0": {
      "model_module": "@jupyter-widgets/base",
      "model_module_version": "1.1.0",
      "model_name": "LayoutModel",
      "state": {}
     },
     "6f5f41e769e14c99a1d2c34264ea8d85": {
      "model_module": "@jupyter-widgets/controls",
      "model_module_version": "1.4.0",
      "model_name": "IntProgressModel",
      "state": {
       "bar_style": "success",
       "layout": "IPY_MODEL_ed0eb8e599174ae9a7a6c41a031fcdd3",
       "max": 10000,
       "style": "IPY_MODEL_f4fc877098504b37b61bcba18093faa1",
       "value": 10000
      }
     },
     "6fa8d60ddc0b4e1ab13050cc8fd8e374": {
      "model_module": "@jupyter-widgets/controls",
      "model_module_version": "1.4.0",
      "model_name": "HBoxModel",
      "state": {
       "children": [
        "IPY_MODEL_5c131f2478d24fb0b63c9edd79974f5a",
        "IPY_MODEL_7a1eca9c6d81496ea17374f5d9b96bb1"
       ],
       "layout": "IPY_MODEL_44dee1b53b4d4c038db33c8e5f7bf33f"
      }
     },
     "78f2ca125613405abe0ead925ccccad9": {
      "model_module": "@jupyter-widgets/base",
      "model_module_version": "1.1.0",
      "model_name": "LayoutModel",
      "state": {}
     },
     "7a1eca9c6d81496ea17374f5d9b96bb1": {
      "model_module": "@jupyter-widgets/controls",
      "model_module_version": "1.4.0",
      "model_name": "HTMLModel",
      "state": {
       "layout": "IPY_MODEL_20f3b239a34b4e1fb29e21bb0b7151f0",
       "style": "IPY_MODEL_9c5a660b19d040c98f46831b9b7e67e1",
       "value": "100% 10000/10000 [00:13&lt;00:00, 759.73it/s]"
      }
     },
     "82626b21412c4c9188cabb6ddf232289": {
      "model_module": "@jupyter-widgets/controls",
      "model_module_version": "1.4.0",
      "model_name": "HTMLModel",
      "state": {
       "layout": "IPY_MODEL_f34fd0f502ab4b599b8ddf7f22a290fc",
       "style": "IPY_MODEL_5ab6809fb68742aea78d4ac6876479c1",
       "value": "100% 100/100 [00:01&lt;00:00, 56.72it/s]"
      }
     },
     "865c425229c44ace836989eb12069cfb": {
      "model_module": "@jupyter-widgets/base",
      "model_module_version": "1.1.0",
      "model_name": "LayoutModel",
      "state": {}
     },
     "89e45a95a3e8432891b09b87ee22b668": {
      "model_module": "@jupyter-widgets/base",
      "model_module_version": "1.1.0",
      "model_name": "LayoutModel",
      "state": {}
     },
     "8b835f7cb2d04c0bb2b498a1b3ab5d83": {
      "model_module": "@jupyter-widgets/controls",
      "model_module_version": "1.4.0",
      "model_name": "DescriptionStyleModel",
      "state": {
       "description_width": ""
      }
     },
     "8b9bc6d881eb490c85af181cc491f989": {
      "model_module": "@jupyter-widgets/controls",
      "model_module_version": "1.4.0",
      "model_name": "HBoxModel",
      "state": {
       "children": [
        "IPY_MODEL_df604ece6e464a74b9787884ea7d1485",
        "IPY_MODEL_8e931369c76945598de80e327f20ddb5"
       ],
       "layout": "IPY_MODEL_abccaad2617145419e8f822515c7b015"
      }
     },
     "8e931369c76945598de80e327f20ddb5": {
      "model_module": "@jupyter-widgets/controls",
      "model_module_version": "1.4.0",
      "model_name": "HTMLModel",
      "state": {
       "layout": "IPY_MODEL_a806ebeffd5a4736b8649efe0092ce5c",
       "style": "IPY_MODEL_8b835f7cb2d04c0bb2b498a1b3ab5d83",
       "value": "100% 52363/52363 [03:25&lt;00:00, 255.30it/s]"
      }
     },
     "8ee12ca1dbb547daacd95ea082844fd5": {
      "model_module": "@jupyter-widgets/controls",
      "model_module_version": "1.4.0",
      "model_name": "ProgressStyleModel",
      "state": {
       "description_width": ""
      }
     },
     "8f5db0f9f25345cf8c1c2d38a85c35ed": {
      "model_module": "@jupyter-widgets/controls",
      "model_module_version": "1.4.0",
      "model_name": "IntProgressModel",
      "state": {
       "bar_style": "danger",
       "layout": "IPY_MODEL_865c425229c44ace836989eb12069cfb",
       "style": "IPY_MODEL_ebae807e88fb4456b1de8f2d90db9ca8"
      }
     },
     "9363b4033dd34daca393526905d61652": {
      "model_module": "@jupyter-widgets/base",
      "model_module_version": "1.1.0",
      "model_name": "LayoutModel",
      "state": {}
     },
     "94192f9c579f4a7f852290b5b82f1579": {
      "model_module": "@jupyter-widgets/base",
      "model_module_version": "1.1.0",
      "model_name": "LayoutModel",
      "state": {}
     },
     "958e4168b60d48f08c401d4ebf123340": {
      "model_module": "@jupyter-widgets/controls",
      "model_module_version": "1.4.0",
      "model_name": "ProgressStyleModel",
      "state": {
       "description_width": ""
      }
     },
     "99b38101a70e409cbfc9d30e17b816af": {
      "model_module": "@jupyter-widgets/base",
      "model_module_version": "1.1.0",
      "model_name": "LayoutModel",
      "state": {}
     },
     "9c5a660b19d040c98f46831b9b7e67e1": {
      "model_module": "@jupyter-widgets/controls",
      "model_module_version": "1.4.0",
      "model_name": "DescriptionStyleModel",
      "state": {
       "description_width": ""
      }
     },
     "9e52f3c8ed0448ec9a7aefe7d4dba682": {
      "model_module": "@jupyter-widgets/controls",
      "model_module_version": "1.4.0",
      "model_name": "DescriptionStyleModel",
      "state": {
       "description_width": ""
      }
     },
     "a806ebeffd5a4736b8649efe0092ce5c": {
      "model_module": "@jupyter-widgets/base",
      "model_module_version": "1.1.0",
      "model_name": "LayoutModel",
      "state": {}
     },
     "a9512305b19e4afaa19a4b8eb44e976b": {
      "model_module": "@jupyter-widgets/controls",
      "model_module_version": "1.4.0",
      "model_name": "HBoxModel",
      "state": {
       "children": [
        "IPY_MODEL_fb860b686b094a148dc9e5064c4e4c5b",
        "IPY_MODEL_477562e6136e42438f234e5126cad77b"
       ],
       "layout": "IPY_MODEL_99b38101a70e409cbfc9d30e17b816af"
      }
     },
     "abccaad2617145419e8f822515c7b015": {
      "model_module": "@jupyter-widgets/base",
      "model_module_version": "1.1.0",
      "model_name": "LayoutModel",
      "state": {}
     },
     "b031271a5ce949e58c16b059f9d693cc": {
      "model_module": "@jupyter-widgets/controls",
      "model_module_version": "1.4.0",
      "model_name": "HTMLModel",
      "state": {
       "layout": "IPY_MODEL_537cdee518ee47379fd88d509dc0c822",
       "style": "IPY_MODEL_9e52f3c8ed0448ec9a7aefe7d4dba682",
       "value": "100% 52363/52363 [01:33&lt;00:00, 562.50it/s]"
      }
     },
     "b0d6fe2f4d584b2ca97cba8a780dfab6": {
      "model_module": "@jupyter-widgets/base",
      "model_module_version": "1.1.0",
      "model_name": "LayoutModel",
      "state": {}
     },
     "b177da360c0f49ccb16e061cffbca1f1": {
      "model_module": "@jupyter-widgets/controls",
      "model_module_version": "1.4.0",
      "model_name": "IntProgressModel",
      "state": {
       "bar_style": "success",
       "layout": "IPY_MODEL_37a99262e6d04198b87f92b89d727375",
       "style": "IPY_MODEL_8ee12ca1dbb547daacd95ea082844fd5",
       "value": 100
      }
     },
     "b1c96d370c2443c18cfa987e681cbeef": {
      "model_module": "@jupyter-widgets/controls",
      "model_module_version": "1.4.0",
      "model_name": "DescriptionStyleModel",
      "state": {
       "description_width": ""
      }
     },
     "bda3ca7073574a419c4457e7c3991b29": {
      "model_module": "@jupyter-widgets/base",
      "model_module_version": "1.1.0",
      "model_name": "LayoutModel",
      "state": {}
     },
     "beeb9e4ccb8e4bc3a707de12003d3b12": {
      "model_module": "@jupyter-widgets/base",
      "model_module_version": "1.1.0",
      "model_name": "LayoutModel",
      "state": {}
     },
     "c012b66b038c40e0a95b26135acb0260": {
      "model_module": "@jupyter-widgets/base",
      "model_module_version": "1.1.0",
      "model_name": "LayoutModel",
      "state": {}
     },
     "c483453671d6459e9df8dd1fcdc263da": {
      "model_module": "@jupyter-widgets/controls",
      "model_module_version": "1.4.0",
      "model_name": "HBoxModel",
      "state": {
       "children": [
        "IPY_MODEL_45f2a95d28524a86a3c17b23723d12cf",
        "IPY_MODEL_dc5b5705d7e8434b8c56170337dacc6c"
       ],
       "layout": "IPY_MODEL_6b128ffdae6f4d9085b1502d202b061a"
      }
     },
     "c8b6cedb3ff04c9bb836a5aa13c02ed2": {
      "model_module": "@jupyter-widgets/base",
      "model_module_version": "1.1.0",
      "model_name": "LayoutModel",
      "state": {}
     },
     "c954b7dc424948208422949c04f92f00": {
      "model_module": "@jupyter-widgets/base",
      "model_module_version": "1.1.0",
      "model_name": "LayoutModel",
      "state": {}
     },
     "cd0013856e98424397cf14e281f222e9": {
      "model_module": "@jupyter-widgets/base",
      "model_module_version": "1.1.0",
      "model_name": "LayoutModel",
      "state": {}
     },
     "ce7e4e61a27d4ca19fab8728a4748cd6": {
      "model_module": "@jupyter-widgets/controls",
      "model_module_version": "1.4.0",
      "model_name": "ProgressStyleModel",
      "state": {
       "description_width": ""
      }
     },
     "cf74f8e3877b42b7b43dc0d6dae98c36": {
      "model_module": "@jupyter-widgets/controls",
      "model_module_version": "1.4.0",
      "model_name": "IntProgressModel",
      "state": {
       "bar_style": "success",
       "layout": "IPY_MODEL_89e45a95a3e8432891b09b87ee22b668",
       "style": "IPY_MODEL_ea1635868be0470eb4fddec9f16e50e8",
       "value": 100
      }
     },
     "d1ef292f32bc4b4f9023390769299b9a": {
      "model_module": "@jupyter-widgets/controls",
      "model_module_version": "1.4.0",
      "model_name": "DescriptionStyleModel",
      "state": {
       "description_width": ""
      }
     },
     "d3a57675670c4ca3b142453399e590b4": {
      "model_module": "@jupyter-widgets/controls",
      "model_module_version": "1.4.0",
      "model_name": "HBoxModel",
      "state": {
       "children": [
        "IPY_MODEL_50fc4bfb1cc4435d83f0ad604cc7ceb8",
        "IPY_MODEL_515381aa67ef4c5097efdb9522512355"
       ],
       "layout": "IPY_MODEL_fa867ff7b8744cebbedc80b3ba28329d"
      }
     },
     "d89ce52f08a741a385a1809bebf0f613": {
      "model_module": "@jupyter-widgets/controls",
      "model_module_version": "1.4.0",
      "model_name": "HBoxModel",
      "state": {
       "children": [
        "IPY_MODEL_ec8c155abdf84f78ae56df5f1fee4d36",
        "IPY_MODEL_06826f997fd745b6a61df191cb462217"
       ],
       "layout": "IPY_MODEL_1a109b3222414eb6a683ec7713564b9e"
      }
     },
     "db61bfe8307a460bbb1c1a27cff9b5ab": {
      "model_module": "@jupyter-widgets/controls",
      "model_module_version": "1.4.0",
      "model_name": "HTMLModel",
      "state": {
       "layout": "IPY_MODEL_cd0013856e98424397cf14e281f222e9",
       "style": "IPY_MODEL_65fd8d88153f446bbd98cfa27d3966d9",
       "value": "100% 10000/10000 [00:14&lt;00:00, 703.98it/s]"
      }
     },
     "dc5b5705d7e8434b8c56170337dacc6c": {
      "model_module": "@jupyter-widgets/controls",
      "model_module_version": "1.4.0",
      "model_name": "HTMLModel",
      "state": {
       "layout": "IPY_MODEL_c8b6cedb3ff04c9bb836a5aa13c02ed2",
       "style": "IPY_MODEL_e1be508dc17f451186e1f5e920ac543e",
       "value": "100% 52363/52363 [03:15&lt;00:00, 268.12it/s]"
      }
     },
     "dea61dc5f04c4cb3a90296659fae21ae": {
      "model_module": "@jupyter-widgets/controls",
      "model_module_version": "1.4.0",
      "model_name": "HBoxModel",
      "state": {
       "children": [
        "IPY_MODEL_8f5db0f9f25345cf8c1c2d38a85c35ed",
        "IPY_MODEL_3e00c18ae6564045a2ef595bb3cd52b6"
       ],
       "layout": "IPY_MODEL_6dd1cbb0fa7348518c54663e3f0b0da0"
      }
     },
     "df604ece6e464a74b9787884ea7d1485": {
      "model_module": "@jupyter-widgets/controls",
      "model_module_version": "1.4.0",
      "model_name": "IntProgressModel",
      "state": {
       "bar_style": "success",
       "layout": "IPY_MODEL_06a4fb9070194cff89f25562300961e8",
       "max": 52363,
       "style": "IPY_MODEL_43c8f1dbac4e449a9c2cf3205fefd00b",
       "value": 52363
      }
     },
     "df8f9185e89e4e3895f3de2a54010ce8": {
      "model_module": "@jupyter-widgets/base",
      "model_module_version": "1.1.0",
      "model_name": "LayoutModel",
      "state": {}
     },
     "e03ee3b5615b4837a9ca114749055da3": {
      "model_module": "@jupyter-widgets/controls",
      "model_module_version": "1.4.0",
      "model_name": "HBoxModel",
      "state": {
       "children": [
        "IPY_MODEL_b177da360c0f49ccb16e061cffbca1f1",
        "IPY_MODEL_82626b21412c4c9188cabb6ddf232289"
       ],
       "layout": "IPY_MODEL_02cd96f450ae45e4bc8a9ad4662fbe5f"
      }
     },
     "e070aaa976fd430b8fb3c4b0b7362979": {
      "model_module": "@jupyter-widgets/controls",
      "model_module_version": "1.4.0",
      "model_name": "IntProgressModel",
      "state": {
       "bar_style": "success",
       "layout": "IPY_MODEL_0ef4945a43e44ba0bd6ac4928f883d3c",
       "max": 52363,
       "style": "IPY_MODEL_589d0dcbeb134173add50415dd388fb3",
       "value": 52363
      }
     },
     "e16e70deb19743bbb5f00818348a962e": {
      "model_module": "@jupyter-widgets/controls",
      "model_module_version": "1.4.0",
      "model_name": "HBoxModel",
      "state": {
       "children": [
        "IPY_MODEL_64fc5ae01b374c94a18a8baa365036fe",
        "IPY_MODEL_587b53a2639e49dc9540447bb3223acc"
       ],
       "layout": "IPY_MODEL_df8f9185e89e4e3895f3de2a54010ce8"
      }
     },
     "e1be508dc17f451186e1f5e920ac543e": {
      "model_module": "@jupyter-widgets/controls",
      "model_module_version": "1.4.0",
      "model_name": "DescriptionStyleModel",
      "state": {
       "description_width": ""
      }
     },
     "ea1635868be0470eb4fddec9f16e50e8": {
      "model_module": "@jupyter-widgets/controls",
      "model_module_version": "1.4.0",
      "model_name": "ProgressStyleModel",
      "state": {
       "description_width": ""
      }
     },
     "ebae807e88fb4456b1de8f2d90db9ca8": {
      "model_module": "@jupyter-widgets/controls",
      "model_module_version": "1.4.0",
      "model_name": "ProgressStyleModel",
      "state": {
       "description_width": ""
      }
     },
     "ec8c155abdf84f78ae56df5f1fee4d36": {
      "model_module": "@jupyter-widgets/controls",
      "model_module_version": "1.4.0",
      "model_name": "IntProgressModel",
      "state": {
       "bar_style": "success",
       "layout": "IPY_MODEL_c954b7dc424948208422949c04f92f00",
       "max": 52363,
       "style": "IPY_MODEL_ce7e4e61a27d4ca19fab8728a4748cd6",
       "value": 52363
      }
     },
     "ed0eb8e599174ae9a7a6c41a031fcdd3": {
      "model_module": "@jupyter-widgets/base",
      "model_module_version": "1.1.0",
      "model_name": "LayoutModel",
      "state": {}
     },
     "f34fd0f502ab4b599b8ddf7f22a290fc": {
      "model_module": "@jupyter-widgets/base",
      "model_module_version": "1.1.0",
      "model_name": "LayoutModel",
      "state": {}
     },
     "f4fc877098504b37b61bcba18093faa1": {
      "model_module": "@jupyter-widgets/controls",
      "model_module_version": "1.4.0",
      "model_name": "ProgressStyleModel",
      "state": {
       "description_width": ""
      }
     },
     "fa867ff7b8744cebbedc80b3ba28329d": {
      "model_module": "@jupyter-widgets/base",
      "model_module_version": "1.1.0",
      "model_name": "LayoutModel",
      "state": {}
     },
     "fb860b686b094a148dc9e5064c4e4c5b": {
      "model_module": "@jupyter-widgets/controls",
      "model_module_version": "1.4.0",
      "model_name": "IntProgressModel",
      "state": {
       "bar_style": "success",
       "layout": "IPY_MODEL_165b758cad644b30a5154694a19cd6c0",
       "max": 52363,
       "style": "IPY_MODEL_3b95ca02099d46778e92c7407edf2729",
       "value": 52363
      }
     }
    },
    "version_major": 2,
    "version_minor": 0
   }
  }
 },
 "nbformat": 4,
 "nbformat_minor": 2
}
