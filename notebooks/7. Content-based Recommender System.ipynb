{
 "cells": [
  {
   "cell_type": "code",
   "execution_count": 1,
   "metadata": {
    "ExecuteTime": {
     "end_time": "2019-05-05T08:55:45.870657Z",
     "start_time": "2019-05-05T08:55:44.037659Z"
    }
   },
   "outputs": [],
   "source": [
    "%matplotlib inline\n",
    "%load_ext autoreload\n",
    "%autoreload 2\n",
    "\n",
    "import pandas as pd\n",
    "import numpy as np\n",
    "import feather\n",
    "from evaluator import Evaluator\n",
    "from sklearn.metrics.pairwise import cosine_similarity\n",
    "from sklearn import preprocessing\n",
    "from tqdm import tqdm_notebook as tqdm"
   ]
  },
  {
   "cell_type": "code",
   "execution_count": 2,
   "metadata": {
    "ExecuteTime": {
     "end_time": "2019-05-05T08:55:54.762158Z",
     "start_time": "2019-05-05T08:55:54.061657Z"
    }
   },
   "outputs": [],
   "source": [
    "training_ratings = feather.read_dataframe('./feather/training_ratings')\n",
    "testing_ratings = feather.read_dataframe('./feather/testing_ratings')\n",
    "book_profiles = feather.read_dataframe('./feather/book_profiles').set_index('book_id')\n",
    "novelty_scores = feather.read_dataframe('./feather/novelty_scores').set_index('book_id')\n",
    "books = feather.read_dataframe('./feather/books').set_index('book_id')"
   ]
  },
  {
   "cell_type": "code",
   "execution_count": 3,
   "metadata": {
    "ExecuteTime": {
     "end_time": "2019-05-05T08:56:15.422156Z",
     "start_time": "2019-05-05T08:55:55.911662Z"
    }
   },
   "outputs": [
    {
     "data": {
      "text/html": [
       "<div>\n",
       "<style scoped>\n",
       "    .dataframe tbody tr th:only-of-type {\n",
       "        vertical-align: middle;\n",
       "    }\n",
       "\n",
       "    .dataframe tbody tr th {\n",
       "        vertical-align: top;\n",
       "    }\n",
       "\n",
       "    .dataframe thead th {\n",
       "        text-align: right;\n",
       "    }\n",
       "</style>\n",
       "<table border=\"1\" class=\"dataframe\">\n",
       "  <thead>\n",
       "    <tr style=\"text-align: right;\">\n",
       "      <th>book_id</th>\n",
       "      <th>27</th>\n",
       "      <th>21</th>\n",
       "      <th>2</th>\n",
       "      <th>18</th>\n",
       "      <th>24</th>\n",
       "      <th>3275</th>\n",
       "      <th>3753</th>\n",
       "      <th>54</th>\n",
       "      <th>337</th>\n",
       "      <th>374</th>\n",
       "      <th>...</th>\n",
       "      <th>5111</th>\n",
       "      <th>5296</th>\n",
       "      <th>8713</th>\n",
       "      <th>7443</th>\n",
       "      <th>6428</th>\n",
       "      <th>7523</th>\n",
       "      <th>4594</th>\n",
       "      <th>9569</th>\n",
       "      <th>9580</th>\n",
       "      <th>8892</th>\n",
       "    </tr>\n",
       "    <tr>\n",
       "      <th>book_id</th>\n",
       "      <th></th>\n",
       "      <th></th>\n",
       "      <th></th>\n",
       "      <th></th>\n",
       "      <th></th>\n",
       "      <th></th>\n",
       "      <th></th>\n",
       "      <th></th>\n",
       "      <th></th>\n",
       "      <th></th>\n",
       "      <th></th>\n",
       "      <th></th>\n",
       "      <th></th>\n",
       "      <th></th>\n",
       "      <th></th>\n",
       "      <th></th>\n",
       "      <th></th>\n",
       "      <th></th>\n",
       "      <th></th>\n",
       "      <th></th>\n",
       "      <th></th>\n",
       "    </tr>\n",
       "  </thead>\n",
       "  <tbody>\n",
       "    <tr>\n",
       "      <th>27</th>\n",
       "      <td>1.000000</td>\n",
       "      <td>0.793039</td>\n",
       "      <td>0.967074</td>\n",
       "      <td>0.935959</td>\n",
       "      <td>0.932615</td>\n",
       "      <td>0.773161</td>\n",
       "      <td>0.826935</td>\n",
       "      <td>0.443948</td>\n",
       "      <td>0.383335</td>\n",
       "      <td>0.145548</td>\n",
       "      <td>...</td>\n",
       "      <td>0.191713</td>\n",
       "      <td>0.276920</td>\n",
       "      <td>0.220817</td>\n",
       "      <td>0.665664</td>\n",
       "      <td>0.613295</td>\n",
       "      <td>0.679846</td>\n",
       "      <td>0.121582</td>\n",
       "      <td>0.397349</td>\n",
       "      <td>0.165843</td>\n",
       "      <td>0.226996</td>\n",
       "    </tr>\n",
       "    <tr>\n",
       "      <th>21</th>\n",
       "      <td>0.793039</td>\n",
       "      <td>1.000000</td>\n",
       "      <td>0.781584</td>\n",
       "      <td>0.756703</td>\n",
       "      <td>0.802735</td>\n",
       "      <td>0.606846</td>\n",
       "      <td>0.642205</td>\n",
       "      <td>0.371239</td>\n",
       "      <td>0.290013</td>\n",
       "      <td>0.128655</td>\n",
       "      <td>...</td>\n",
       "      <td>0.132455</td>\n",
       "      <td>0.262205</td>\n",
       "      <td>0.181788</td>\n",
       "      <td>0.483300</td>\n",
       "      <td>0.445195</td>\n",
       "      <td>0.511246</td>\n",
       "      <td>0.116972</td>\n",
       "      <td>0.341285</td>\n",
       "      <td>0.114551</td>\n",
       "      <td>0.164359</td>\n",
       "    </tr>\n",
       "    <tr>\n",
       "      <th>2</th>\n",
       "      <td>0.967074</td>\n",
       "      <td>0.781584</td>\n",
       "      <td>1.000000</td>\n",
       "      <td>0.954254</td>\n",
       "      <td>0.951350</td>\n",
       "      <td>0.779767</td>\n",
       "      <td>0.838700</td>\n",
       "      <td>0.463165</td>\n",
       "      <td>0.400693</td>\n",
       "      <td>0.146866</td>\n",
       "      <td>...</td>\n",
       "      <td>0.159402</td>\n",
       "      <td>0.254301</td>\n",
       "      <td>0.199595</td>\n",
       "      <td>0.665316</td>\n",
       "      <td>0.612849</td>\n",
       "      <td>0.679313</td>\n",
       "      <td>0.122899</td>\n",
       "      <td>0.366076</td>\n",
       "      <td>0.148561</td>\n",
       "      <td>0.172504</td>\n",
       "    </tr>\n",
       "    <tr>\n",
       "      <th>18</th>\n",
       "      <td>0.935959</td>\n",
       "      <td>0.756703</td>\n",
       "      <td>0.954254</td>\n",
       "      <td>1.000000</td>\n",
       "      <td>0.919456</td>\n",
       "      <td>0.750132</td>\n",
       "      <td>0.813695</td>\n",
       "      <td>0.444069</td>\n",
       "      <td>0.384745</td>\n",
       "      <td>0.159378</td>\n",
       "      <td>...</td>\n",
       "      <td>0.153586</td>\n",
       "      <td>0.262145</td>\n",
       "      <td>0.192761</td>\n",
       "      <td>0.646410</td>\n",
       "      <td>0.607130</td>\n",
       "      <td>0.660081</td>\n",
       "      <td>0.135276</td>\n",
       "      <td>0.368633</td>\n",
       "      <td>0.142581</td>\n",
       "      <td>0.166399</td>\n",
       "    </tr>\n",
       "    <tr>\n",
       "      <th>24</th>\n",
       "      <td>0.932615</td>\n",
       "      <td>0.802735</td>\n",
       "      <td>0.951350</td>\n",
       "      <td>0.919456</td>\n",
       "      <td>1.000000</td>\n",
       "      <td>0.741594</td>\n",
       "      <td>0.802514</td>\n",
       "      <td>0.488001</td>\n",
       "      <td>0.413613</td>\n",
       "      <td>0.164158</td>\n",
       "      <td>...</td>\n",
       "      <td>0.157931</td>\n",
       "      <td>0.270466</td>\n",
       "      <td>0.198930</td>\n",
       "      <td>0.636164</td>\n",
       "      <td>0.583238</td>\n",
       "      <td>0.648697</td>\n",
       "      <td>0.139250</td>\n",
       "      <td>0.398710</td>\n",
       "      <td>0.146673</td>\n",
       "      <td>0.171259</td>\n",
       "    </tr>\n",
       "  </tbody>\n",
       "</table>\n",
       "<p>5 rows × 10000 columns</p>\n",
       "</div>"
      ],
      "text/plain": [
       "book_id      27        21        2         18        24        3275      3753  \\\n",
       "book_id                                                                         \n",
       "27       1.000000  0.793039  0.967074  0.935959  0.932615  0.773161  0.826935   \n",
       "21       0.793039  1.000000  0.781584  0.756703  0.802735  0.606846  0.642205   \n",
       "2        0.967074  0.781584  1.000000  0.954254  0.951350  0.779767  0.838700   \n",
       "18       0.935959  0.756703  0.954254  1.000000  0.919456  0.750132  0.813695   \n",
       "24       0.932615  0.802735  0.951350  0.919456  1.000000  0.741594  0.802514   \n",
       "\n",
       "book_id      54        337       374   ...      5111      5296      8713  \\\n",
       "book_id                                ...                                 \n",
       "27       0.443948  0.383335  0.145548  ...  0.191713  0.276920  0.220817   \n",
       "21       0.371239  0.290013  0.128655  ...  0.132455  0.262205  0.181788   \n",
       "2        0.463165  0.400693  0.146866  ...  0.159402  0.254301  0.199595   \n",
       "18       0.444069  0.384745  0.159378  ...  0.153586  0.262145  0.192761   \n",
       "24       0.488001  0.413613  0.164158  ...  0.157931  0.270466  0.198930   \n",
       "\n",
       "book_id      7443      6428      7523      4594      9569      9580      8892  \n",
       "book_id                                                                        \n",
       "27       0.665664  0.613295  0.679846  0.121582  0.397349  0.165843  0.226996  \n",
       "21       0.483300  0.445195  0.511246  0.116972  0.341285  0.114551  0.164359  \n",
       "2        0.665316  0.612849  0.679313  0.122899  0.366076  0.148561  0.172504  \n",
       "18       0.646410  0.607130  0.660081  0.135276  0.368633  0.142581  0.166399  \n",
       "24       0.636164  0.583238  0.648697  0.139250  0.398710  0.146673  0.171259  \n",
       "\n",
       "[5 rows x 10000 columns]"
      ]
     },
     "execution_count": 3,
     "metadata": {},
     "output_type": "execute_result"
    }
   ],
   "source": [
    "book_sim = pd.DataFrame(\n",
    "    data = cosine_similarity(book_profiles, book_profiles),\n",
    "    index = book_profiles.index,\n",
    "    columns = book_profiles.index\n",
    ")\n",
    "\n",
    "book_sim.head()"
   ]
  },
  {
   "cell_type": "code",
   "execution_count": 4,
   "metadata": {
    "ExecuteTime": {
     "end_time": "2019-05-05T08:57:51.262156Z",
     "start_time": "2019-05-05T08:56:17.762157Z"
    }
   },
   "outputs": [
    {
     "data": {
      "application/vnd.jupyter.widget-view+json": {
       "model_id": "68f1abd3c77f49df80399c13472a7e1f",
       "version_major": 2,
       "version_minor": 0
      },
      "text/plain": [
       "HBox(children=(IntProgress(value=0, max=52363), HTML(value='')))"
      ]
     },
     "metadata": {},
     "output_type": "display_data"
    },
    {
     "name": "stdout",
     "output_type": "stream",
     "text": [
      "\n"
     ]
    }
   ],
   "source": [
    "evl = Evaluator(\n",
    "    k = 10,\n",
    "    training_ratings = training_ratings,\n",
    "    testing_ratings = testing_ratings,\n",
    "    book_sim = book_sim,\n",
    "    novelty_scores = novelty_scores\n",
    ")"
   ]
  },
  {
   "cell_type": "markdown",
   "metadata": {},
   "source": [
    "# Content-based recommender system"
   ]
  },
  {
   "cell_type": "code",
   "execution_count": 5,
   "metadata": {
    "ExecuteTime": {
     "end_time": "2019-05-05T08:58:33.844159Z",
     "start_time": "2019-05-05T08:58:16.266159Z"
    }
   },
   "outputs": [
    {
     "data": {
      "application/vnd.jupyter.widget-view+json": {
       "model_id": "ce5bf798487d4f268068ff261799563b",
       "version_major": 2,
       "version_minor": 0
      },
      "text/plain": [
       "HBox(children=(IntProgress(value=0, max=10000), HTML(value='')))"
      ]
     },
     "metadata": {},
     "output_type": "display_data"
    },
    {
     "name": "stdout",
     "output_type": "stream",
     "text": [
      "\n"
     ]
    }
   ],
   "source": [
    "top_sim_books = {}\n",
    "book_ids = book_sim.index\n",
    "for book_id in tqdm(book_ids):\n",
    "    top_sim_books[book_id] = book_sim.loc[book_id].sort_values(ascending=False)[1:51]"
   ]
  },
  {
   "cell_type": "code",
   "execution_count": 6,
   "metadata": {
    "ExecuteTime": {
     "end_time": "2019-05-05T08:58:58.944161Z",
     "start_time": "2019-05-05T08:58:52.641155Z"
    }
   },
   "outputs": [],
   "source": [
    "list_of_5_ratings = training_ratings[training_ratings.rating==5].groupby('user_id')['book_id'].apply(list)"
   ]
  },
  {
   "cell_type": "code",
   "execution_count": 7,
   "metadata": {
    "ExecuteTime": {
     "end_time": "2019-05-05T08:59:25.566158Z",
     "start_time": "2019-05-05T08:59:25.418159Z"
    }
   },
   "outputs": [
    {
     "data": {
      "text/plain": [
       "user_id\n",
       "1    [1644, 258, 1187, 1521, 2535, 1796, 421, 45, 1...\n",
       "2    [2, 211, 3753, 8519, 236, 630, 301, 10, 114, 7...\n",
       "4    [102, 693, 18, 8464, 87, 1237, 325, 1380, 81, ...\n",
       "5    [451, 7891, 5167, 6404, 1182, 5117, 1345, 4344...\n",
       "6    [6825, 181, 115, 4050, 688, 65, 328, 82, 5723,...\n",
       "Name: book_id, dtype: object"
      ]
     },
     "execution_count": 7,
     "metadata": {},
     "output_type": "execute_result"
    }
   ],
   "source": [
    "list_of_5_ratings.head()"
   ]
  },
  {
   "cell_type": "code",
   "execution_count": 8,
   "metadata": {
    "ExecuteTime": {
     "end_time": "2019-05-05T09:00:07.726764Z",
     "start_time": "2019-05-05T09:00:07.559264Z"
    }
   },
   "outputs": [],
   "source": [
    "class ContentBasedRecommender():\n",
    "    name = \"Content-based RS\"\n",
    "    preds = {}\n",
    "    \n",
    "    def fit(self, training_ratings):\n",
    "        user_ids = training_ratings.user_id.unique().tolist()\n",
    "        self.preds = {}\n",
    "        for user_id in tqdm(user_ids):\n",
    "            excluded_books = training_ratings[training_ratings.user_id==user_id].book_id.unique().tolist()\n",
    "            most_similar_books = pd.Series([])\n",
    "            for book_id in list_of_5_ratings[user_id]:\n",
    "                most_similar_books = most_similar_books.append(top_sim_books[book_id])\n",
    "            \n",
    "            most_similar_books = np.array(most_similar_books.groupby(most_similar_books.index).sum().sort_values(ascending=False).index)\n",
    "            recommendable = most_similar_books[~np.in1d(most_similar_books, excluded_books)]\n",
    "            \n",
    "            self.preds[user_id] = recommendable[:10]\n",
    "        \n",
    "    def recommendation_for_user(self, user_id):\n",
    "        if user_id not in self.preds:\n",
    "            return []\n",
    "        return self.preds[user_id]\n",
    "    \n",
    "    def all_recommendation(self):\n",
    "        return self.preds"
   ]
  },
  {
   "cell_type": "code",
   "execution_count": 9,
   "metadata": {
    "ExecuteTime": {
     "end_time": "2019-05-05T09:16:58.867230Z",
     "start_time": "2019-05-05T09:00:26.539264Z"
    },
    "scrolled": true
   },
   "outputs": [
    {
     "name": "stdout",
     "output_type": "stream",
     "text": [
      "Calculating recommendations:\n"
     ]
    },
    {
     "data": {
      "application/vnd.jupyter.widget-view+json": {
       "model_id": "50c87dc02af54ce28f858a13bb254663",
       "version_major": 2,
       "version_minor": 0
      },
      "text/plain": [
       "HBox(children=(IntProgress(value=0, max=52363), HTML(value='')))"
      ]
     },
     "metadata": {},
     "output_type": "display_data"
    },
    {
     "name": "stdout",
     "output_type": "stream",
     "text": [
      "\n",
      "Calculating metrics:\n"
     ]
    },
    {
     "data": {
      "application/vnd.jupyter.widget-view+json": {
       "model_id": "3b0b03acc6f749cda92892accbe757c9",
       "version_major": 2,
       "version_minor": 0
      },
      "text/plain": [
       "HBox(children=(IntProgress(value=0, max=52363), HTML(value='')))"
      ]
     },
     "metadata": {},
     "output_type": "display_data"
    },
    {
     "name": "stdout",
     "output_type": "stream",
     "text": [
      "\n",
      "                       Content-based RS\n",
      "Mean Average Precision            7.18%\n",
      "Coverage                         80.10%\n",
      "Novelty Score                      6.31\n",
      "Diversity Score                    2.47\n",
      "Personalization Score              9.88\n"
     ]
    }
   ],
   "source": [
    "ctb_rec = ContentBasedRecommender()\n",
    "evl.evaluate(ctb_rec)\n",
    "evl.print_result()"
   ]
  },
  {
   "cell_type": "markdown",
   "metadata": {},
   "source": [
    "# Inspect"
   ]
  },
  {
   "cell_type": "code",
   "execution_count": 21,
   "metadata": {
    "ExecuteTime": {
     "end_time": "2019-05-05T10:06:14.594506Z",
     "start_time": "2019-05-05T10:06:14.212543Z"
    }
   },
   "outputs": [
    {
     "data": {
      "text/html": [
       "<div>\n",
       "<style scoped>\n",
       "    .dataframe tbody tr th:only-of-type {\n",
       "        vertical-align: middle;\n",
       "    }\n",
       "\n",
       "    .dataframe tbody tr th {\n",
       "        vertical-align: top;\n",
       "    }\n",
       "\n",
       "    .dataframe thead th {\n",
       "        text-align: right;\n",
       "    }\n",
       "</style>\n",
       "<table border=\"1\" class=\"dataframe\">\n",
       "  <thead>\n",
       "    <tr style=\"text-align: right;\">\n",
       "      <th></th>\n",
       "      <th>ratings_count</th>\n",
       "    </tr>\n",
       "    <tr>\n",
       "      <th>user_id</th>\n",
       "      <th></th>\n",
       "    </tr>\n",
       "  </thead>\n",
       "  <tbody>\n",
       "    <tr>\n",
       "      <th>1</th>\n",
       "      <td>110</td>\n",
       "    </tr>\n",
       "    <tr>\n",
       "      <th>2</th>\n",
       "      <td>52</td>\n",
       "    </tr>\n",
       "    <tr>\n",
       "      <th>4</th>\n",
       "      <td>124</td>\n",
       "    </tr>\n",
       "    <tr>\n",
       "      <th>5</th>\n",
       "      <td>91</td>\n",
       "    </tr>\n",
       "    <tr>\n",
       "      <th>6</th>\n",
       "      <td>74</td>\n",
       "    </tr>\n",
       "    <tr>\n",
       "      <th>7</th>\n",
       "      <td>142</td>\n",
       "    </tr>\n",
       "    <tr>\n",
       "      <th>8</th>\n",
       "      <td>90</td>\n",
       "    </tr>\n",
       "    <tr>\n",
       "      <th>9</th>\n",
       "      <td>124</td>\n",
       "    </tr>\n",
       "    <tr>\n",
       "      <th>10</th>\n",
       "      <td>117</td>\n",
       "    </tr>\n",
       "    <tr>\n",
       "      <th>11</th>\n",
       "      <td>112</td>\n",
       "    </tr>\n",
       "  </tbody>\n",
       "</table>\n",
       "</div>"
      ],
      "text/plain": [
       "         ratings_count\n",
       "user_id               \n",
       "1                  110\n",
       "2                   52\n",
       "4                  124\n",
       "5                   91\n",
       "6                   74\n",
       "7                  142\n",
       "8                   90\n",
       "9                  124\n",
       "10                 117\n",
       "11                 112"
      ]
     },
     "execution_count": 21,
     "metadata": {},
     "output_type": "execute_result"
    }
   ],
   "source": [
    "ratings_count_for_users = training_ratings.groupby('user_id').count()[['rating']].rename(columns={'rating': 'ratings_count'})\n",
    "ratings_count_for_users.head(10)"
   ]
  },
  {
   "cell_type": "code",
   "execution_count": 25,
   "metadata": {
    "ExecuteTime": {
     "end_time": "2019-05-05T10:08:51.077421Z",
     "start_time": "2019-05-05T10:07:18.590419Z"
    }
   },
   "outputs": [
    {
     "data": {
      "application/vnd.jupyter.widget-view+json": {
       "model_id": "eb54a429cbef4ded8e87bd694b5225be",
       "version_major": 2,
       "version_minor": 0
      },
      "text/plain": [
       "HBox(children=(IntProgress(value=0, max=52363), HTML(value='')))"
      ]
     },
     "metadata": {},
     "output_type": "display_data"
    },
    {
     "name": "stdout",
     "output_type": "stream",
     "text": [
      "\n"
     ]
    }
   ],
   "source": [
    "def get_inspection(model):\n",
    "    inspection = pd.DataFrame(columns=['ratings_count', '5_count', 'MAP'])\n",
    "    preds = model.all_recommendation()\n",
    "    for user_id in tqdm(preds.keys()):\n",
    "        pred = preds[user_id]\n",
    "        truth = evl.testing_idx[user_id]\n",
    "        inspection.loc[user_id] = [ratings_count_for_users.loc[user_id, 'ratings_count'], len(list_of_5_ratings[user_id]), evl._average_precision(pred, truth)]\n",
    "        \n",
    "    return inspection\n",
    "\n",
    "inspection = get_inspection(ctb_rec)"
   ]
  },
  {
   "cell_type": "code",
   "execution_count": 26,
   "metadata": {
    "ExecuteTime": {
     "end_time": "2019-05-05T10:09:04.623878Z",
     "start_time": "2019-05-05T10:09:04.472348Z"
    }
   },
   "outputs": [
    {
     "data": {
      "text/html": [
       "<div>\n",
       "<style scoped>\n",
       "    .dataframe tbody tr th:only-of-type {\n",
       "        vertical-align: middle;\n",
       "    }\n",
       "\n",
       "    .dataframe tbody tr th {\n",
       "        vertical-align: top;\n",
       "    }\n",
       "\n",
       "    .dataframe thead th {\n",
       "        text-align: right;\n",
       "    }\n",
       "</style>\n",
       "<table border=\"1\" class=\"dataframe\">\n",
       "  <thead>\n",
       "    <tr style=\"text-align: right;\">\n",
       "      <th></th>\n",
       "      <th>ratings_count</th>\n",
       "      <th>5_count</th>\n",
       "      <th>MAP</th>\n",
       "    </tr>\n",
       "  </thead>\n",
       "  <tbody>\n",
       "    <tr>\n",
       "      <th>2</th>\n",
       "      <td>52.0</td>\n",
       "      <td>27.0</td>\n",
       "      <td>0.010000</td>\n",
       "    </tr>\n",
       "    <tr>\n",
       "      <th>4</th>\n",
       "      <td>124.0</td>\n",
       "      <td>21.0</td>\n",
       "      <td>0.200000</td>\n",
       "    </tr>\n",
       "    <tr>\n",
       "      <th>6</th>\n",
       "      <td>74.0</td>\n",
       "      <td>31.0</td>\n",
       "      <td>0.012500</td>\n",
       "    </tr>\n",
       "    <tr>\n",
       "      <th>8</th>\n",
       "      <td>90.0</td>\n",
       "      <td>15.0</td>\n",
       "      <td>0.041667</td>\n",
       "    </tr>\n",
       "    <tr>\n",
       "      <th>1</th>\n",
       "      <td>110.0</td>\n",
       "      <td>15.0</td>\n",
       "      <td>0.000000</td>\n",
       "    </tr>\n",
       "  </tbody>\n",
       "</table>\n",
       "</div>"
      ],
      "text/plain": [
       "   ratings_count  5_count       MAP\n",
       "2           52.0     27.0  0.010000\n",
       "4          124.0     21.0  0.200000\n",
       "6           74.0     31.0  0.012500\n",
       "8           90.0     15.0  0.041667\n",
       "1          110.0     15.0  0.000000"
      ]
     },
     "execution_count": 26,
     "metadata": {},
     "output_type": "execute_result"
    }
   ],
   "source": [
    "inspection.head()"
   ]
  },
  {
   "cell_type": "code",
   "execution_count": 28,
   "metadata": {
    "ExecuteTime": {
     "end_time": "2019-05-05T10:09:44.590759Z",
     "start_time": "2019-05-05T10:09:44.309230Z"
    }
   },
   "outputs": [
    {
     "data": {
      "text/plain": [
       "<matplotlib.axes._subplots.AxesSubplot at 0x21075e5a4e0>"
      ]
     },
     "execution_count": 28,
     "metadata": {},
     "output_type": "execute_result"
    },
    {
     "data": {
      "image/png": "[encoded data removed]",
      "text/plain": [
       "<Figure size 432x288 with 1 Axes>"
      ]
     },
     "metadata": {
      "needs_background": "light"
     },
     "output_type": "display_data"
    }
   ],
   "source": [
    "inspection.groupby('ratings_count').mean()['MAP'].plot()"
   ]
  },
  {
   "cell_type": "code",
   "execution_count": 17,
   "metadata": {
    "ExecuteTime": {
     "end_time": "2019-05-05T09:27:43.804989Z",
     "start_time": "2019-05-05T09:27:43.483488Z"
    }
   },
   "outputs": [
    {
     "data": {
      "text/plain": [
       "<matplotlib.axes._subplots.AxesSubplot at 0x20f966b3240>"
      ]
     },
     "execution_count": 17,
     "metadata": {},
     "output_type": "execute_result"
    },
    {
     "data": {
      "image/png": "[encoded data removed]",
      "text/plain": [
       "<Figure size 432x288 with 1 Axes>"
      ]
     },
     "metadata": {
      "needs_background": "light"
     },
     "output_type": "display_data"
    }
   ],
   "source": [
    "inspection.groupby('5_counts').mean().plot()"
   ]
  },
  {
   "cell_type": "markdown",
   "metadata": {},
   "source": [
    "# Alternative version"
   ]
  },
  {
   "cell_type": "code",
   "execution_count": 18,
   "metadata": {},
   "outputs": [
    {
     "data": {
      "application/vnd.jupyter.widget-view+json": {
       "model_id": "6227a59155d242a88e75b4603bb3d1a8",
       "version_major": 2,
       "version_minor": 0
      },
      "text/plain": [
       "HBox(children=(IntProgress(value=0, max=52363), HTML(value='')))"
      ]
     },
     "metadata": {},
     "output_type": "display_data"
    },
    {
     "name": "stdout",
     "output_type": "stream",
     "text": [
      "\n"
     ]
    }
   ],
   "source": [
    "def build_user_profiles(training_ratings, book_profiles):\n",
    "    user_profiles = pd.DataFrame(columns=book_profiles.columns)\n",
    "    user_ids = training_ratings.user_id.unique()\n",
    "    list_of_5_ratings = training_ratings[training_ratings.rating==5].groupby('user_id')['book_id'].apply(list)\n",
    "    for user_id in tqdm(user_ids):\n",
    "        user_profiles.loc[user_id] = book_profiles.loc[list_of_5_ratings.loc[user_id]].sum()\n",
    "    return pd.DataFrame(\n",
    "        data = preprocessing.normalize(user_profiles.values),\n",
    "        columns = user_profiles.columns,\n",
    "        index = user_profiles.index\n",
    "    )\n",
    "\n",
    "user_profiles = build_user_profiles(training_ratings, book_profiles)"
   ]
  },
  {
   "cell_type": "code",
   "execution_count": 20,
   "metadata": {},
   "outputs": [
    {
     "data": {
      "text/html": [
       "<div>\n",
       "<style scoped>\n",
       "    .dataframe tbody tr th:only-of-type {\n",
       "        vertical-align: middle;\n",
       "    }\n",
       "\n",
       "    .dataframe tbody tr th {\n",
       "        vertical-align: top;\n",
       "    }\n",
       "\n",
       "    .dataframe thead th {\n",
       "        text-align: right;\n",
       "    }\n",
       "</style>\n",
       "<table border=\"1\" class=\"dataframe\">\n",
       "  <thead>\n",
       "    <tr style=\"text-align: right;\">\n",
       "      <th></th>\n",
       "      <th>19th-century</th>\n",
       "      <th>20th-century</th>\n",
       "      <th>abandoned</th>\n",
       "      <th>action</th>\n",
       "      <th>action-adventure</th>\n",
       "      <th>adult</th>\n",
       "      <th>adult-fiction</th>\n",
       "      <th>adventure</th>\n",
       "      <th>africa</th>\n",
       "      <th>agatha-christie</th>\n",
       "      <th>...</th>\n",
       "      <th>PeterMatthiessen</th>\n",
       "      <th>StevePieczenik</th>\n",
       "      <th>TerriBlackstock</th>\n",
       "      <th>JohnRawls</th>\n",
       "      <th>OscarHijuelos</th>\n",
       "      <th>BenOkri</th>\n",
       "      <th>MilesCameron</th>\n",
       "      <th>IanMortimer</th>\n",
       "      <th>PeggyOrenstein</th>\n",
       "      <th>JohnKeegan</th>\n",
       "    </tr>\n",
       "  </thead>\n",
       "  <tbody>\n",
       "    <tr>\n",
       "      <th>2</th>\n",
       "      <td>0.028589</td>\n",
       "      <td>0.066172</td>\n",
       "      <td>0.141562</td>\n",
       "      <td>0.000000</td>\n",
       "      <td>0.005125</td>\n",
       "      <td>0.144807</td>\n",
       "      <td>0.066242</td>\n",
       "      <td>0.115813</td>\n",
       "      <td>0.011281</td>\n",
       "      <td>0.0</td>\n",
       "      <td>...</td>\n",
       "      <td>0.0</td>\n",
       "      <td>0.0</td>\n",
       "      <td>0.0</td>\n",
       "      <td>0.0</td>\n",
       "      <td>0.0</td>\n",
       "      <td>0.0</td>\n",
       "      <td>0.0</td>\n",
       "      <td>0.0</td>\n",
       "      <td>0.0</td>\n",
       "      <td>0.0</td>\n",
       "    </tr>\n",
       "    <tr>\n",
       "      <th>4</th>\n",
       "      <td>0.021587</td>\n",
       "      <td>0.069988</td>\n",
       "      <td>0.055620</td>\n",
       "      <td>0.017669</td>\n",
       "      <td>0.017218</td>\n",
       "      <td>0.109091</td>\n",
       "      <td>0.082970</td>\n",
       "      <td>0.126721</td>\n",
       "      <td>0.000000</td>\n",
       "      <td>0.0</td>\n",
       "      <td>...</td>\n",
       "      <td>0.0</td>\n",
       "      <td>0.0</td>\n",
       "      <td>0.0</td>\n",
       "      <td>0.0</td>\n",
       "      <td>0.0</td>\n",
       "      <td>0.0</td>\n",
       "      <td>0.0</td>\n",
       "      <td>0.0</td>\n",
       "      <td>0.0</td>\n",
       "      <td>0.0</td>\n",
       "    </tr>\n",
       "    <tr>\n",
       "      <th>6</th>\n",
       "      <td>0.006820</td>\n",
       "      <td>0.078175</td>\n",
       "      <td>0.205910</td>\n",
       "      <td>0.000000</td>\n",
       "      <td>0.000000</td>\n",
       "      <td>0.233628</td>\n",
       "      <td>0.083925</td>\n",
       "      <td>0.052193</td>\n",
       "      <td>0.008954</td>\n",
       "      <td>0.0</td>\n",
       "      <td>...</td>\n",
       "      <td>0.0</td>\n",
       "      <td>0.0</td>\n",
       "      <td>0.0</td>\n",
       "      <td>0.0</td>\n",
       "      <td>0.0</td>\n",
       "      <td>0.0</td>\n",
       "      <td>0.0</td>\n",
       "      <td>0.0</td>\n",
       "      <td>0.0</td>\n",
       "      <td>0.0</td>\n",
       "    </tr>\n",
       "    <tr>\n",
       "      <th>8</th>\n",
       "      <td>0.064613</td>\n",
       "      <td>0.122277</td>\n",
       "      <td>0.143215</td>\n",
       "      <td>0.000000</td>\n",
       "      <td>0.000000</td>\n",
       "      <td>0.171791</td>\n",
       "      <td>0.140650</td>\n",
       "      <td>0.027678</td>\n",
       "      <td>0.000000</td>\n",
       "      <td>0.0</td>\n",
       "      <td>...</td>\n",
       "      <td>0.0</td>\n",
       "      <td>0.0</td>\n",
       "      <td>0.0</td>\n",
       "      <td>0.0</td>\n",
       "      <td>0.0</td>\n",
       "      <td>0.0</td>\n",
       "      <td>0.0</td>\n",
       "      <td>0.0</td>\n",
       "      <td>0.0</td>\n",
       "      <td>0.0</td>\n",
       "    </tr>\n",
       "    <tr>\n",
       "      <th>1</th>\n",
       "      <td>0.036461</td>\n",
       "      <td>0.032356</td>\n",
       "      <td>0.153009</td>\n",
       "      <td>0.010785</td>\n",
       "      <td>0.000000</td>\n",
       "      <td>0.198777</td>\n",
       "      <td>0.191284</td>\n",
       "      <td>0.070179</td>\n",
       "      <td>0.000000</td>\n",
       "      <td>0.0</td>\n",
       "      <td>...</td>\n",
       "      <td>0.0</td>\n",
       "      <td>0.0</td>\n",
       "      <td>0.0</td>\n",
       "      <td>0.0</td>\n",
       "      <td>0.0</td>\n",
       "      <td>0.0</td>\n",
       "      <td>0.0</td>\n",
       "      <td>0.0</td>\n",
       "      <td>0.0</td>\n",
       "      <td>0.0</td>\n",
       "    </tr>\n",
       "  </tbody>\n",
       "</table>\n",
       "<p>5 rows × 6053 columns</p>\n",
       "</div>"
      ],
      "text/plain": [
       "   19th-century  20th-century  abandoned    action  action-adventure  \\\n",
       "2      0.028589      0.066172   0.141562  0.000000          0.005125   \n",
       "4      0.021587      0.069988   0.055620  0.017669          0.017218   \n",
       "6      0.006820      0.078175   0.205910  0.000000          0.000000   \n",
       "8      0.064613      0.122277   0.143215  0.000000          0.000000   \n",
       "1      0.036461      0.032356   0.153009  0.010785          0.000000   \n",
       "\n",
       "      adult  adult-fiction  adventure    africa  agatha-christie  ...  \\\n",
       "2  0.144807       0.066242   0.115813  0.011281              0.0  ...   \n",
       "4  0.109091       0.082970   0.126721  0.000000              0.0  ...   \n",
       "6  0.233628       0.083925   0.052193  0.008954              0.0  ...   \n",
       "8  0.171791       0.140650   0.027678  0.000000              0.0  ...   \n",
       "1  0.198777       0.191284   0.070179  0.000000              0.0  ...   \n",
       "\n",
       "   PeterMatthiessen  StevePieczenik  TerriBlackstock  JohnRawls  \\\n",
       "2               0.0             0.0              0.0        0.0   \n",
       "4               0.0             0.0              0.0        0.0   \n",
       "6               0.0             0.0              0.0        0.0   \n",
       "8               0.0             0.0              0.0        0.0   \n",
       "1               0.0             0.0              0.0        0.0   \n",
       "\n",
       "   OscarHijuelos  BenOkri  MilesCameron  IanMortimer  PeggyOrenstein  \\\n",
       "2            0.0      0.0           0.0          0.0             0.0   \n",
       "4            0.0      0.0           0.0          0.0             0.0   \n",
       "6            0.0      0.0           0.0          0.0             0.0   \n",
       "8            0.0      0.0           0.0          0.0             0.0   \n",
       "1            0.0      0.0           0.0          0.0             0.0   \n",
       "\n",
       "   JohnKeegan  \n",
       "2         0.0  \n",
       "4         0.0  \n",
       "6         0.0  \n",
       "8         0.0  \n",
       "1         0.0  \n",
       "\n",
       "[5 rows x 6053 columns]"
      ]
     },
     "execution_count": 20,
     "metadata": {},
     "output_type": "execute_result"
    }
   ],
   "source": [
    "user_profiles.head()"
   ]
  },
  {
   "cell_type": "code",
   "execution_count": 23,
   "metadata": {},
   "outputs": [],
   "source": [
    "class AltContentBasedRecommender():\n",
    "    name = \"Alt Content-based RS\"\n",
    "    preds = {}\n",
    "\n",
    "    def __init__(self, item_profiles):\n",
    "        self.item_profiles = item_profiles\n",
    "\n",
    "    def fit(self, training_ratings):\n",
    "        user_ids = training_ratings.user_id.unique().tolist()\n",
    "        sim = pd.DataFrame(\n",
    "            data=cosine_similarity(user_profiles, self.item_profiles),\n",
    "            index=user_profiles.index,\n",
    "            columns=self.item_profiles.index\n",
    "        )\n",
    "        self.preds = {}\n",
    "        for user_id in tqdm(user_ids):\n",
    "            book_ids = np.array(\n",
    "                sim.loc[user_id].sort_values(ascending=False).index)\n",
    "            excluded_books = training_ratings[training_ratings.user_id == user_id].book_id.unique(\n",
    "            ).tolist()\n",
    "            recommendable = book_ids[~np.in1d(book_ids, excluded_books)]\n",
    "            self.preds[user_id] = recommendable[:10]\n",
    "\n",
    "    def recommendation_for_user(self, user_id):\n",
    "        if user_id not in self.preds:\n",
    "            return []\n",
    "        return self.preds[user_id]\n",
    "\n",
    "    def all_recommendation(self):\n",
    "        return self.preds"
   ]
  },
  {
   "cell_type": "code",
   "execution_count": 24,
   "metadata": {},
   "outputs": [
    {
     "name": "stdout",
     "output_type": "stream",
     "text": [
      "Calculating recommendations:\n"
     ]
    },
    {
     "data": {
      "application/vnd.jupyter.widget-view+json": {
       "model_id": "d94d4b30e1194996bd9ec79780f6b22e",
       "version_major": 2,
       "version_minor": 0
      },
      "text/plain": [
       "HBox(children=(IntProgress(value=0, max=52363), HTML(value='')))"
      ]
     },
     "metadata": {},
     "output_type": "display_data"
    },
    {
     "name": "stdout",
     "output_type": "stream",
     "text": [
      "\n",
      "Calculating metrics:\n"
     ]
    },
    {
     "data": {
      "application/vnd.jupyter.widget-view+json": {
       "model_id": "d5e05b1506f1499b80c00e2a3d706ad7",
       "version_major": 2,
       "version_minor": 0
      },
      "text/plain": [
       "HBox(children=(IntProgress(value=0, max=52363), HTML(value='')))"
      ]
     },
     "metadata": {},
     "output_type": "display_data"
    },
    {
     "name": "stdout",
     "output_type": "stream",
     "text": [
      "\n",
      "                       Content-based RS Alt Content-based RS\n",
      "Mean Average Precision            7.18%                7.43%\n",
      "Coverage                         80.10%               70.68%\n",
      "Novelty Score                      6.31                 5.88\n",
      "Diversity Score                    2.47                 2.47\n",
      "Personalization Score              9.88                 9.85\n"
     ]
    }
   ],
   "source": [
    "alt_ctb_rec = AltContentBasedRecommender(book_profiles)\n",
    "evl.evaluate(alt_ctb_rec)\n",
    "evl.print_result()"
   ]
  },
  {
   "cell_type": "markdown",
   "metadata": {},
   "source": [
    "The results are similar. But the first version of Content-based RS is much simpler to build."
   ]
  },
  {
   "cell_type": "code",
   "execution_count": 28,
   "metadata": {},
   "outputs": [
    {
     "data": {
      "text/plain": [
       "(52363, 6053)"
      ]
     },
     "execution_count": 28,
     "metadata": {},
     "output_type": "execute_result"
    }
   ],
   "source": [
    "user_profiles.shape"
   ]
  },
  {
   "cell_type": "code",
   "execution_count": 29,
   "metadata": {},
   "outputs": [],
   "source": [
    "user_profiles.reset_index().rename(columns={'index': 'user_id'}).to_feather('./feather/user_profiles')"
   ]
  }
 ],
 "metadata": {
  "kernelspec": {
   "display_name": "Python 3",
   "language": "python",
   "name": "python3"
  },
  "language_info": {
   "codemirror_mode": {
    "name": "ipython",
    "version": 3
   },
   "file_extension": ".py",
   "mimetype": "text/x-python",
   "name": "python",
   "nbconvert_exporter": "python",
   "pygments_lexer": "ipython3",
   "version": "3.7.3"
  },
  "toc": {
   "base_numbering": 1,
   "nav_menu": {},
   "number_sections": true,
   "sideBar": true,
   "skip_h1_title": false,
   "title_cell": "Table of Contents",
   "title_sidebar": "Contents",
   "toc_cell": false,
   "toc_position": {},
   "toc_section_display": true,
   "toc_window_display": false
  },
  "varInspector": {
   "cols": {
    "lenName": 16,
    "lenType": 16,
    "lenVar": 40
   },
   "kernels_config": {
    "python": {
     "delete_cmd_postfix": "",
     "delete_cmd_prefix": "del ",
     "library": "var_list.py",
     "varRefreshCmd": "print(var_dic_list())"
    },
    "r": {
     "delete_cmd_postfix": ") ",
     "delete_cmd_prefix": "rm(",
     "library": "var_list.r",
     "varRefreshCmd": "cat(var_dic_list()) "
    }
   },
   "types_to_exclude": [
    "module",
    "function",
    "builtin_function_or_method",
    "instance",
    "_Feature"
   ],
   "window_display": false
  },
  "widgets": {
   "application/vnd.jupyter.widget-state+json": {
    "state": {
     "00426faf8e6c4c5bb46dec04e18a84d5": {
      "model_module": "@jupyter-widgets/base",
      "model_module_version": "1.1.0",
      "model_name": "LayoutModel",
      "state": {}
     },
     "04ad9df043dd4cada0aafae0f5c95512": {
      "model_module": "@jupyter-widgets/controls",
      "model_module_version": "1.4.0",
      "model_name": "ProgressStyleModel",
      "state": {
       "description_width": ""
      }
     },
     "19013abf74c64175a691c9fc8f6380ac": {
      "model_module": "@jupyter-widgets/base",
      "model_module_version": "1.1.0",
      "model_name": "LayoutModel",
      "state": {}
     },
     "19ed4657a8074a6abd0f80c65d14894b": {
      "model_module": "@jupyter-widgets/controls",
      "model_module_version": "1.4.0",
      "model_name": "ProgressStyleModel",
      "state": {
       "description_width": ""
      }
     },
     "27e4102f38204d139254fec880bb4cc7": {
      "model_module": "@jupyter-widgets/base",
      "model_module_version": "1.1.0",
      "model_name": "LayoutModel",
      "state": {}
     },
     "348099f93a0445cab11dbc63462dad1a": {
      "model_module": "@jupyter-widgets/controls",
      "model_module_version": "1.4.0",
      "model_name": "ProgressStyleModel",
      "state": {
       "description_width": ""
      }
     },
     "35d23e8e6260476093a11db0c49f7893": {
      "model_module": "@jupyter-widgets/base",
      "model_module_version": "1.1.0",
      "model_name": "LayoutModel",
      "state": {}
     },
     "3639a08105b6438394460d0f9ba9fa29": {
      "model_module": "@jupyter-widgets/controls",
      "model_module_version": "1.4.0",
      "model_name": "IntProgressModel",
      "state": {
       "bar_style": "success",
       "layout": "IPY_MODEL_5bba4d85b25e48b79087c95d815b19cb",
       "max": 52363,
       "style": "IPY_MODEL_5f2f568f38474d10ab582e24f0587876",
       "value": 52363
      }
     },
     "37f41e52fa7b4a16937da38470f51c05": {
      "model_module": "@jupyter-widgets/controls",
      "model_module_version": "1.4.0",
      "model_name": "HBoxModel",
      "state": {
       "children": [
        "IPY_MODEL_3639a08105b6438394460d0f9ba9fa29",
        "IPY_MODEL_9ae4875f91884d9cb99530391a5d0e0f"
       ],
       "layout": "IPY_MODEL_27e4102f38204d139254fec880bb4cc7"
      }
     },
     "3b0b03acc6f749cda92892accbe757c9": {
      "model_module": "@jupyter-widgets/controls",
      "model_module_version": "1.4.0",
      "model_name": "HBoxModel",
      "state": {
       "children": [
        "IPY_MODEL_f51f0f7a0d434eb69abbb297a782db3b",
        "IPY_MODEL_a973d14f6bd54a7997bc7b8494555ba5"
       ],
       "layout": "IPY_MODEL_789031da99d945319e01fcbd2b55b6c7"
      }
     },
     "3d573112ec3d4ace85065e6dc1857166": {
      "model_module": "@jupyter-widgets/controls",
      "model_module_version": "1.4.0",
      "model_name": "DescriptionStyleModel",
      "state": {
       "description_width": ""
      }
     },
     "4eca0512de5b473cbeaef48b08a787db": {
      "model_module": "@jupyter-widgets/base",
      "model_module_version": "1.1.0",
      "model_name": "LayoutModel",
      "state": {}
     },
     "4ee843025a74417a9f1636fcbb26b0a9": {
      "model_module": "@jupyter-widgets/controls",
      "model_module_version": "1.4.0",
      "model_name": "HTMLModel",
      "state": {
       "layout": "IPY_MODEL_9af18682136b4557af9bcdeec9c4c0ac",
       "style": "IPY_MODEL_b93cf5adb6ec41b3bc1516746fb3e596",
       "value": "100% 52363/52363 [01:33&lt;00:00, 562.45it/s]"
      }
     },
     "50c87dc02af54ce28f858a13bb254663": {
      "model_module": "@jupyter-widgets/controls",
      "model_module_version": "1.4.0",
      "model_name": "HBoxModel",
      "state": {
       "children": [
        "IPY_MODEL_b216b2a5eace48388323a1d1fff6f97a",
        "IPY_MODEL_56c7ca421bd548849b88cfe95cd4239e"
       ],
       "layout": "IPY_MODEL_eb9900ace0b1459b9ac076e760eae209"
      }
     },
     "56c7ca421bd548849b88cfe95cd4239e": {
      "model_module": "@jupyter-widgets/controls",
      "model_module_version": "1.4.0",
      "model_name": "HTMLModel",
      "state": {
       "layout": "IPY_MODEL_00426faf8e6c4c5bb46dec04e18a84d5",
       "style": "IPY_MODEL_8ab96085e7a542b9a963a5c45a35cd78",
       "value": "100% 52363/52363 [13:33&lt;00:00, 64.37it/s]"
      }
     },
     "5bba4d85b25e48b79087c95d815b19cb": {
      "model_module": "@jupyter-widgets/base",
      "model_module_version": "1.1.0",
      "model_name": "LayoutModel",
      "state": {}
     },
     "5c38279bd14541aa93a12def6b242424": {
      "model_module": "@jupyter-widgets/controls",
      "model_module_version": "1.4.0",
      "model_name": "DescriptionStyleModel",
      "state": {
       "description_width": ""
      }
     },
     "5d7fc8b05c9b4384a494f3b605c84fe7": {
      "model_module": "@jupyter-widgets/controls",
      "model_module_version": "1.4.0",
      "model_name": "HTMLModel",
      "state": {
       "layout": "IPY_MODEL_35d23e8e6260476093a11db0c49f7893",
       "style": "IPY_MODEL_5c38279bd14541aa93a12def6b242424",
       "value": "  0% 0/52363 [00:00&lt;?, ?it/s]"
      }
     },
     "5f2f568f38474d10ab582e24f0587876": {
      "model_module": "@jupyter-widgets/controls",
      "model_module_version": "1.4.0",
      "model_name": "ProgressStyleModel",
      "state": {
       "description_width": ""
      }
     },
     "60b88b78f0f34d29805da5ca518aa800": {
      "model_module": "@jupyter-widgets/controls",
      "model_module_version": "1.4.0",
      "model_name": "HBoxModel",
      "state": {
       "children": [
        "IPY_MODEL_66c3090576f741818768a40377345da8",
        "IPY_MODEL_5d7fc8b05c9b4384a494f3b605c84fe7"
       ],
       "layout": "IPY_MODEL_78ecaeedf38941ef9fcc63509e291766"
      }
     },
     "64dcdf25d8ef460c968181c46ca32d55": {
      "model_module": "@jupyter-widgets/controls",
      "model_module_version": "1.4.0",
      "model_name": "IntProgressModel",
      "state": {
       "bar_style": "success",
       "layout": "IPY_MODEL_db3c24e793e44a05914faa9ebbdb9b20",
       "max": 52363,
       "style": "IPY_MODEL_19ed4657a8074a6abd0f80c65d14894b",
       "value": 52363
      }
     },
     "65bca531b3de4ded8a9a1b4f69c66580": {
      "model_module": "@jupyter-widgets/base",
      "model_module_version": "1.1.0",
      "model_name": "LayoutModel",
      "state": {}
     },
     "66c3090576f741818768a40377345da8": {
      "model_module": "@jupyter-widgets/controls",
      "model_module_version": "1.4.0",
      "model_name": "IntProgressModel",
      "state": {
       "bar_style": "danger",
       "layout": "IPY_MODEL_e735e840bc4a47e38b584d5a41897402",
       "max": 52363,
       "style": "IPY_MODEL_e57e276affbc43a89ed6f398a03f623c"
      }
     },
     "68f1abd3c77f49df80399c13472a7e1f": {
      "model_module": "@jupyter-widgets/controls",
      "model_module_version": "1.4.0",
      "model_name": "HBoxModel",
      "state": {
       "children": [
        "IPY_MODEL_64dcdf25d8ef460c968181c46ca32d55",
        "IPY_MODEL_4ee843025a74417a9f1636fcbb26b0a9"
       ],
       "layout": "IPY_MODEL_b1a74ad5443a47b1b32307bb8567d23b"
      }
     },
     "698ff844f62c46fe8a10663ec33e1247": {
      "model_module": "@jupyter-widgets/controls",
      "model_module_version": "1.4.0",
      "model_name": "HTMLModel",
      "state": {
       "layout": "IPY_MODEL_d6821ef8daf74797bf8f61b56f309a77",
       "style": "IPY_MODEL_fc435d32489e4a5fba04fd2dc3fa942e",
       "value": "100% 52363/52363 [01:32&lt;00:00, 567.07it/s]"
      }
     },
     "6bfce5109b5c4132bfc219ac720b62f1": {
      "model_module": "@jupyter-widgets/base",
      "model_module_version": "1.1.0",
      "model_name": "LayoutModel",
      "state": {}
     },
     "789031da99d945319e01fcbd2b55b6c7": {
      "model_module": "@jupyter-widgets/base",
      "model_module_version": "1.1.0",
      "model_name": "LayoutModel",
      "state": {}
     },
     "78ecaeedf38941ef9fcc63509e291766": {
      "model_module": "@jupyter-widgets/base",
      "model_module_version": "1.1.0",
      "model_name": "LayoutModel",
      "state": {}
     },
     "7bc063dd413442a1ae7bbcccc3be96a9": {
      "model_module": "@jupyter-widgets/controls",
      "model_module_version": "1.4.0",
      "model_name": "ProgressStyleModel",
      "state": {
       "description_width": ""
      }
     },
     "80862d586b85489dac2006e8b846904e": {
      "model_module": "@jupyter-widgets/base",
      "model_module_version": "1.1.0",
      "model_name": "LayoutModel",
      "state": {}
     },
     "8ab96085e7a542b9a963a5c45a35cd78": {
      "model_module": "@jupyter-widgets/controls",
      "model_module_version": "1.4.0",
      "model_name": "DescriptionStyleModel",
      "state": {
       "description_width": ""
      }
     },
     "90f3a26bec29492f86b896f7977b0ba0": {
      "model_module": "@jupyter-widgets/controls",
      "model_module_version": "1.4.0",
      "model_name": "HTMLModel",
      "state": {
       "layout": "IPY_MODEL_c96355a10d8845428f9ae52a999a6621",
       "style": "IPY_MODEL_f94d6c0046cb4d19a4020d5add36f8d9",
       "value": "100% 10000/10000 [00:17&lt;00:00, 573.89it/s]"
      }
     },
     "9ae4875f91884d9cb99530391a5d0e0f": {
      "model_module": "@jupyter-widgets/controls",
      "model_module_version": "1.4.0",
      "model_name": "HTMLModel",
      "state": {
       "layout": "IPY_MODEL_80862d586b85489dac2006e8b846904e",
       "style": "IPY_MODEL_f9487ddc97f14fa8b0bd90ba64f8b3c3",
       "value": "100% 52363/52363 [01:51&lt;00:00, 471.56it/s]"
      }
     },
     "9af18682136b4557af9bcdeec9c4c0ac": {
      "model_module": "@jupyter-widgets/base",
      "model_module_version": "1.1.0",
      "model_name": "LayoutModel",
      "state": {}
     },
     "a630dc221c2d45cbbc3d892762bc4356": {
      "model_module": "@jupyter-widgets/controls",
      "model_module_version": "1.4.0",
      "model_name": "IntProgressModel",
      "state": {
       "bar_style": "success",
       "layout": "IPY_MODEL_19013abf74c64175a691c9fc8f6380ac",
       "max": 52363,
       "style": "IPY_MODEL_348099f93a0445cab11dbc63462dad1a",
       "value": 52363
      }
     },
     "a973d14f6bd54a7997bc7b8494555ba5": {
      "model_module": "@jupyter-widgets/controls",
      "model_module_version": "1.4.0",
      "model_name": "HTMLModel",
      "state": {
       "layout": "IPY_MODEL_4eca0512de5b473cbeaef48b08a787db",
       "style": "IPY_MODEL_3d573112ec3d4ace85065e6dc1857166",
       "value": "100% 52363/52363 [02:55&lt;00:00, 297.62it/s]"
      }
     },
     "b1a74ad5443a47b1b32307bb8567d23b": {
      "model_module": "@jupyter-widgets/base",
      "model_module_version": "1.1.0",
      "model_name": "LayoutModel",
      "state": {}
     },
     "b216b2a5eace48388323a1d1fff6f97a": {
      "model_module": "@jupyter-widgets/controls",
      "model_module_version": "1.4.0",
      "model_name": "IntProgressModel",
      "state": {
       "bar_style": "success",
       "layout": "IPY_MODEL_d6aed54ecee7486a91ca36dfe27bc6ee",
       "max": 52363,
       "style": "IPY_MODEL_04ad9df043dd4cada0aafae0f5c95512",
       "value": 52363
      }
     },
     "b93cf5adb6ec41b3bc1516746fb3e596": {
      "model_module": "@jupyter-widgets/controls",
      "model_module_version": "1.4.0",
      "model_name": "DescriptionStyleModel",
      "state": {
       "description_width": ""
      }
     },
     "c96355a10d8845428f9ae52a999a6621": {
      "model_module": "@jupyter-widgets/base",
      "model_module_version": "1.1.0",
      "model_name": "LayoutModel",
      "state": {}
     },
     "ce5bf798487d4f268068ff261799563b": {
      "model_module": "@jupyter-widgets/controls",
      "model_module_version": "1.4.0",
      "model_name": "HBoxModel",
      "state": {
       "children": [
        "IPY_MODEL_e5832f7774534064b4b6303fca5da513",
        "IPY_MODEL_90f3a26bec29492f86b896f7977b0ba0"
       ],
       "layout": "IPY_MODEL_f139df1c16604df48e1929d014333900"
      }
     },
     "d6821ef8daf74797bf8f61b56f309a77": {
      "model_module": "@jupyter-widgets/base",
      "model_module_version": "1.1.0",
      "model_name": "LayoutModel",
      "state": {}
     },
     "d6aed54ecee7486a91ca36dfe27bc6ee": {
      "model_module": "@jupyter-widgets/base",
      "model_module_version": "1.1.0",
      "model_name": "LayoutModel",
      "state": {}
     },
     "db3c24e793e44a05914faa9ebbdb9b20": {
      "model_module": "@jupyter-widgets/base",
      "model_module_version": "1.1.0",
      "model_name": "LayoutModel",
      "state": {}
     },
     "e57e276affbc43a89ed6f398a03f623c": {
      "model_module": "@jupyter-widgets/controls",
      "model_module_version": "1.4.0",
      "model_name": "ProgressStyleModel",
      "state": {
       "description_width": ""
      }
     },
     "e5832f7774534064b4b6303fca5da513": {
      "model_module": "@jupyter-widgets/controls",
      "model_module_version": "1.4.0",
      "model_name": "IntProgressModel",
      "state": {
       "bar_style": "success",
       "layout": "IPY_MODEL_fa07af49b1e548b5aef5ab810350770d",
       "max": 10000,
       "style": "IPY_MODEL_7bc063dd413442a1ae7bbcccc3be96a9",
       "value": 10000
      }
     },
     "e735e840bc4a47e38b584d5a41897402": {
      "model_module": "@jupyter-widgets/base",
      "model_module_version": "1.1.0",
      "model_name": "LayoutModel",
      "state": {}
     },
     "eb54a429cbef4ded8e87bd694b5225be": {
      "model_module": "@jupyter-widgets/controls",
      "model_module_version": "1.4.0",
      "model_name": "HBoxModel",
      "state": {
       "children": [
        "IPY_MODEL_a630dc221c2d45cbbc3d892762bc4356",
        "IPY_MODEL_698ff844f62c46fe8a10663ec33e1247"
       ],
       "layout": "IPY_MODEL_65bca531b3de4ded8a9a1b4f69c66580"
      }
     },
     "eb9900ace0b1459b9ac076e760eae209": {
      "model_module": "@jupyter-widgets/base",
      "model_module_version": "1.1.0",
      "model_name": "LayoutModel",
      "state": {}
     },
     "ef38b2f397ce4158bce392a2c83ac755": {
      "model_module": "@jupyter-widgets/controls",
      "model_module_version": "1.4.0",
      "model_name": "ProgressStyleModel",
      "state": {
       "description_width": ""
      }
     },
     "f139df1c16604df48e1929d014333900": {
      "model_module": "@jupyter-widgets/base",
      "model_module_version": "1.1.0",
      "model_name": "LayoutModel",
      "state": {}
     },
     "f51f0f7a0d434eb69abbb297a782db3b": {
      "model_module": "@jupyter-widgets/controls",
      "model_module_version": "1.4.0",
      "model_name": "IntProgressModel",
      "state": {
       "bar_style": "success",
       "layout": "IPY_MODEL_6bfce5109b5c4132bfc219ac720b62f1",
       "max": 52363,
       "style": "IPY_MODEL_ef38b2f397ce4158bce392a2c83ac755",
       "value": 52363
      }
     },
     "f9487ddc97f14fa8b0bd90ba64f8b3c3": {
      "model_module": "@jupyter-widgets/controls",
      "model_module_version": "1.4.0",
      "model_name": "DescriptionStyleModel",
      "state": {
       "description_width": ""
      }
     },
     "f94d6c0046cb4d19a4020d5add36f8d9": {
      "model_module": "@jupyter-widgets/controls",
      "model_module_version": "1.4.0",
      "model_name": "DescriptionStyleModel",
      "state": {
       "description_width": ""
      }
     },
     "fa07af49b1e548b5aef5ab810350770d": {
      "model_module": "@jupyter-widgets/base",
      "model_module_version": "1.1.0",
      "model_name": "LayoutModel",
      "state": {}
     },
     "fc435d32489e4a5fba04fd2dc3fa942e": {
      "model_module": "@jupyter-widgets/controls",
      "model_module_version": "1.4.0",
      "model_name": "DescriptionStyleModel",
      "state": {
       "description_width": ""
      }
     }
    },
    "version_major": 2,
    "version_minor": 0
   }
  }
 },
 "nbformat": 4,
 "nbformat_minor": 2
}
