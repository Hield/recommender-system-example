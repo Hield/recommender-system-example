{
 "cells": [
  {
   "cell_type": "code",
   "execution_count": 1,
   "metadata": {},
   "outputs": [],
   "source": [
    "%matplotlib inline\n",
    "%load_ext autoreload\n",
    "%autoreload 2\n",
    "\n",
    "import pandas as pd\n",
    "import numpy as np"
   ]
  },
  {
   "cell_type": "markdown",
   "metadata": {},
   "source": [
    "The project will focus on the top-k recommendation problem, that is the evaluation will only apply to the first k items that our recommender systems suggest.\n",
    "\n",
    "It's useful to create some synthetic dataset to test our evaluator. For simplicity, only one user is sufficient.\n",
    "\n",
    "We only need a synthetic test dataset since our dummy recommender systems won't have any actual implementation. It's worth noting that the test_ratings will only contain 5-rating, since that's what we did when we split the dataset into training set and testing set (get only 5-rating into our testing set). This methodology has been used in most papers."
   ]
  },
  {
   "cell_type": "code",
   "execution_count": 12,
   "metadata": {},
   "outputs": [],
   "source": [
    "training_ratings = pd.DataFrame({\n",
    "    'user_id': [1],\n",
    "    'book_id': [123],\n",
    "    'rating': [1]\n",
    "})"
   ]
  },
  {
   "cell_type": "code",
   "execution_count": 3,
   "metadata": {},
   "outputs": [
    {
     "data": {
      "text/html": [
       "<div>\n",
       "<style scoped>\n",
       "    .dataframe tbody tr th:only-of-type {\n",
       "        vertical-align: middle;\n",
       "    }\n",
       "\n",
       "    .dataframe tbody tr th {\n",
       "        vertical-align: top;\n",
       "    }\n",
       "\n",
       "    .dataframe thead th {\n",
       "        text-align: right;\n",
       "    }\n",
       "</style>\n",
       "<table border=\"1\" class=\"dataframe\">\n",
       "  <thead>\n",
       "    <tr style=\"text-align: right;\">\n",
       "      <th></th>\n",
       "      <th>user_id</th>\n",
       "      <th>book_id</th>\n",
       "      <th>rating</th>\n",
       "    </tr>\n",
       "  </thead>\n",
       "  <tbody>\n",
       "    <tr>\n",
       "      <th>0</th>\n",
       "      <td>1</td>\n",
       "      <td>1</td>\n",
       "      <td>5</td>\n",
       "    </tr>\n",
       "    <tr>\n",
       "      <th>1</th>\n",
       "      <td>1</td>\n",
       "      <td>2</td>\n",
       "      <td>5</td>\n",
       "    </tr>\n",
       "    <tr>\n",
       "      <th>2</th>\n",
       "      <td>1</td>\n",
       "      <td>3</td>\n",
       "      <td>5</td>\n",
       "    </tr>\n",
       "    <tr>\n",
       "      <th>3</th>\n",
       "      <td>1</td>\n",
       "      <td>4</td>\n",
       "      <td>5</td>\n",
       "    </tr>\n",
       "  </tbody>\n",
       "</table>\n",
       "</div>"
      ],
      "text/plain": [
       "   user_id  book_id  rating\n",
       "0        1        1       5\n",
       "1        1        2       5\n",
       "2        1        3       5\n",
       "3        1        4       5"
      ]
     },
     "execution_count": 3,
     "metadata": {},
     "output_type": "execute_result"
    }
   ],
   "source": [
    "testing_ratings = pd.DataFrame({\n",
    "    'user_id': [1, 1, 1, 1],\n",
    "    'book_id': [1, 2, 3, 4],\n",
    "    'rating': [5, 5, 5, 5]\n",
    "})\n",
    "testing_ratings"
   ]
  },
  {
   "cell_type": "markdown",
   "metadata": {},
   "source": [
    "And our dummer recommender\n",
    "\n",
    "The expected output of our recommender system should be a dataframe linking our user_id to the top-k items that it suggests. For simplicity, k=3 is assumed here, although k=10 will be our main focus."
   ]
  },
  {
   "cell_type": "code",
   "execution_count": 14,
   "metadata": {},
   "outputs": [],
   "source": [
    "class DummyRecommender():\n",
    "    name = 'Dummy RS'\n",
    "    \n",
    "    def fit(self, training_ratings):\n",
    "        pass\n",
    "    \n",
    "    def all_recommendation(self):\n",
    "        return {1: [6, 5, 1]}"
   ]
  },
  {
   "cell_type": "markdown",
   "metadata": {},
   "source": [
    "The dummy recommender will recommend item 6, 5 and 1 to user 1"
   ]
  },
  {
   "cell_type": "code",
   "execution_count": 16,
   "metadata": {},
   "outputs": [
    {
     "data": {
      "text/plain": [
       "{1: [6, 5, 1]}"
      ]
     },
     "execution_count": 16,
     "metadata": {},
     "output_type": "execute_result"
    }
   ],
   "source": [
    "model = DummyRecommender()\n",
    "model.fit(_)\n",
    "model.all_recommendation()"
   ]
  },
  {
   "cell_type": "markdown",
   "metadata": {},
   "source": [
    "## The evaluator"
   ]
  },
  {
   "cell_type": "code",
   "execution_count": 19,
   "metadata": {},
   "outputs": [],
   "source": [
    "class Evaluator():\n",
    "    def __init__(self, k=10, training_ratings=None, testing_ratings=None):\n",
    "        self.k = k\n",
    "        if training_ratings is not None:\n",
    "            self.training_ratings = training_ratings\n",
    "            self.num_users = len(self.training_ratings.user_id.unique())\n",
    "            self.num_books = len(self.training_ratings.book_id.unique())\n",
    "        if testing_ratings is not None:\n",
    "            self.testing_ratings = testing_ratings\n",
    "            self.testing_idx = {}\n",
    "            for user_id in testing_ratings.user_id.unique():\n",
    "                self.testing_idx[user_id] = testing_ratings[testing_ratings.user_id==user_id].book_id.values\n",
    "        self.result = {}\n",
    "    \n",
    "    def _average_precision(self, pred, truth):\n",
    "        in_arr = np.in1d(pred, truth)\n",
    "        score = 0.0\n",
    "        num_hits = 0.0\n",
    "        for idx, correct in enumerate(in_arr):\n",
    "            if correct:\n",
    "                num_hits += 1\n",
    "                score += num_hits / (idx + 1)\n",
    "        return score / min(len(truth), self.k)\n",
    "    \n",
    "    def evaluate(self, model):\n",
    "        model.fit(self.training_ratings)\n",
    "        preds = model.all_recommendation()\n",
    "        user_ids = list(preds.keys())\n",
    "        ap_sum = 0\n",
    "        for user_id in preds.keys():\n",
    "            pred = preds[user_id][:self.k]\n",
    "            truth = self.testing_idx[user_id]\n",
    "            ap_sum += self._average_precision(pred, truth)\n",
    "        \n",
    "        self.result[model.name] = {}\n",
    "        self.result[model.name]['Mean Average Precision'] = \"%.2f%%\" % (ap_sum / self.num_users * 100)\n",
    "        \n",
    "    def print_result(self):\n",
    "        print(pd.DataFrame(self.result).loc[['Mean Average Precision']])"
   ]
  },
  {
   "cell_type": "markdown",
   "metadata": {},
   "source": [
    "We'll be using average precision for now as starters. This project will focus on other metrics which will show more about other qualities instead of simply effectiveness."
   ]
  },
  {
   "cell_type": "markdown",
   "metadata": {},
   "source": [
    "Let's test our synthetic testing ratings"
   ]
  },
  {
   "cell_type": "code",
   "execution_count": 22,
   "metadata": {},
   "outputs": [
    {
     "name": "stdout",
     "output_type": "stream",
     "text": [
      "                       Dummy RS\n",
      "Mean Average Precision   11.11%\n"
     ]
    }
   ],
   "source": [
    "evl = Evaluator(k=3, training_ratings=training_ratings, testing_ratings=testing_ratings)\n",
    "evl.evaluate(model)\n",
    "evl.print_result()"
   ]
  },
  {
   "cell_type": "markdown",
   "metadata": {},
   "source": [
    "The dummy prediction is [6, 5, 1]\n",
    "\n",
    "The truth ratings is [1, 2, 3, 4]\n",
    "\n",
    "In the truth array, only item 1 at position 3 is retrieved by our dummy model => average precision = 1 / 3 * 1 / 3 = 1 / 9\n",
    "\n",
    "Our evaluator is working as intended.\n",
    "\n",
    "For the next 2-3 notebooks this evaluator will be copied over to test it (before making it into its own file)"
   ]
  }
 ],
 "metadata": {
  "kernelspec": {
   "display_name": "Python 3",
   "language": "python",
   "name": "python3"
  },
  "language_info": {
   "codemirror_mode": {
    "name": "ipython",
    "version": 3
   },
   "file_extension": ".py",
   "mimetype": "text/x-python",
   "name": "python",
   "nbconvert_exporter": "python",
   "pygments_lexer": "ipython3",
   "version": "3.7.3"
  }
 },
 "nbformat": 4,
 "nbformat_minor": 2
}
