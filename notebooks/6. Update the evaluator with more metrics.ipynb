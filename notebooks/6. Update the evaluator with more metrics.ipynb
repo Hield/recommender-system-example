{
 "cells": [
  {
   "cell_type": "code",
   "execution_count": 1,
   "metadata": {},
   "outputs": [],
   "source": [
    "%matplotlib inline\n",
    "%load_ext autoreload\n",
    "%autoreload 2\n",
    "\n",
    "import pandas as pd\n",
    "import numpy as np\n",
    "import feather\n",
    "import scipy.sparse as sp\n",
    "from sklearn.metrics.pairwise import cosine_similarity\n",
    "from tqdm import tqdm_notebook as tqdm"
   ]
  },
  {
   "cell_type": "code",
   "execution_count": 2,
   "metadata": {},
   "outputs": [],
   "source": [
    "book_profiles = feather.read_dataframe('./feather/book_profiles').set_index('book_id')\n",
    "books = feather.read_dataframe('./feather/books').set_index('book_id')\n",
    "training_ratings = feather.read_dataframe('./feather/training_ratings')\n",
    "testing_ratings = feather.read_dataframe('./feather/testing_ratings')"
   ]
  },
  {
   "cell_type": "code",
   "execution_count": 3,
   "metadata": {},
   "outputs": [
    {
     "data": {
      "text/html": [
       "<div>\n",
       "<style scoped>\n",
       "    .dataframe tbody tr th:only-of-type {\n",
       "        vertical-align: middle;\n",
       "    }\n",
       "\n",
       "    .dataframe tbody tr th {\n",
       "        vertical-align: top;\n",
       "    }\n",
       "\n",
       "    .dataframe thead th {\n",
       "        text-align: right;\n",
       "    }\n",
       "</style>\n",
       "<table border=\"1\" class=\"dataframe\">\n",
       "  <thead>\n",
       "    <tr style=\"text-align: right;\">\n",
       "      <th>book_id</th>\n",
       "      <th>27</th>\n",
       "      <th>21</th>\n",
       "      <th>2</th>\n",
       "      <th>18</th>\n",
       "      <th>24</th>\n",
       "      <th>3275</th>\n",
       "      <th>3753</th>\n",
       "      <th>54</th>\n",
       "      <th>337</th>\n",
       "      <th>374</th>\n",
       "      <th>...</th>\n",
       "      <th>5111</th>\n",
       "      <th>5296</th>\n",
       "      <th>8713</th>\n",
       "      <th>7443</th>\n",
       "      <th>6428</th>\n",
       "      <th>7523</th>\n",
       "      <th>4594</th>\n",
       "      <th>9569</th>\n",
       "      <th>9580</th>\n",
       "      <th>8892</th>\n",
       "    </tr>\n",
       "    <tr>\n",
       "      <th>book_id</th>\n",
       "      <th></th>\n",
       "      <th></th>\n",
       "      <th></th>\n",
       "      <th></th>\n",
       "      <th></th>\n",
       "      <th></th>\n",
       "      <th></th>\n",
       "      <th></th>\n",
       "      <th></th>\n",
       "      <th></th>\n",
       "      <th></th>\n",
       "      <th></th>\n",
       "      <th></th>\n",
       "      <th></th>\n",
       "      <th></th>\n",
       "      <th></th>\n",
       "      <th></th>\n",
       "      <th></th>\n",
       "      <th></th>\n",
       "      <th></th>\n",
       "      <th></th>\n",
       "    </tr>\n",
       "  </thead>\n",
       "  <tbody>\n",
       "    <tr>\n",
       "      <th>27</th>\n",
       "      <td>1.000000</td>\n",
       "      <td>0.793039</td>\n",
       "      <td>0.967074</td>\n",
       "      <td>0.935959</td>\n",
       "      <td>0.932615</td>\n",
       "      <td>0.773161</td>\n",
       "      <td>0.826935</td>\n",
       "      <td>0.443948</td>\n",
       "      <td>0.383335</td>\n",
       "      <td>0.145548</td>\n",
       "      <td>...</td>\n",
       "      <td>0.191713</td>\n",
       "      <td>0.276920</td>\n",
       "      <td>0.220817</td>\n",
       "      <td>0.665664</td>\n",
       "      <td>0.613295</td>\n",
       "      <td>0.679846</td>\n",
       "      <td>0.121582</td>\n",
       "      <td>0.397349</td>\n",
       "      <td>0.165843</td>\n",
       "      <td>0.226996</td>\n",
       "    </tr>\n",
       "    <tr>\n",
       "      <th>21</th>\n",
       "      <td>0.793039</td>\n",
       "      <td>1.000000</td>\n",
       "      <td>0.781584</td>\n",
       "      <td>0.756703</td>\n",
       "      <td>0.802735</td>\n",
       "      <td>0.606846</td>\n",
       "      <td>0.642205</td>\n",
       "      <td>0.371239</td>\n",
       "      <td>0.290013</td>\n",
       "      <td>0.128655</td>\n",
       "      <td>...</td>\n",
       "      <td>0.132455</td>\n",
       "      <td>0.262205</td>\n",
       "      <td>0.181788</td>\n",
       "      <td>0.483300</td>\n",
       "      <td>0.445195</td>\n",
       "      <td>0.511246</td>\n",
       "      <td>0.116972</td>\n",
       "      <td>0.341285</td>\n",
       "      <td>0.114551</td>\n",
       "      <td>0.164359</td>\n",
       "    </tr>\n",
       "    <tr>\n",
       "      <th>2</th>\n",
       "      <td>0.967074</td>\n",
       "      <td>0.781584</td>\n",
       "      <td>1.000000</td>\n",
       "      <td>0.954254</td>\n",
       "      <td>0.951350</td>\n",
       "      <td>0.779767</td>\n",
       "      <td>0.838700</td>\n",
       "      <td>0.463165</td>\n",
       "      <td>0.400693</td>\n",
       "      <td>0.146866</td>\n",
       "      <td>...</td>\n",
       "      <td>0.159402</td>\n",
       "      <td>0.254301</td>\n",
       "      <td>0.199595</td>\n",
       "      <td>0.665316</td>\n",
       "      <td>0.612849</td>\n",
       "      <td>0.679313</td>\n",
       "      <td>0.122899</td>\n",
       "      <td>0.366076</td>\n",
       "      <td>0.148561</td>\n",
       "      <td>0.172504</td>\n",
       "    </tr>\n",
       "    <tr>\n",
       "      <th>18</th>\n",
       "      <td>0.935959</td>\n",
       "      <td>0.756703</td>\n",
       "      <td>0.954254</td>\n",
       "      <td>1.000000</td>\n",
       "      <td>0.919456</td>\n",
       "      <td>0.750132</td>\n",
       "      <td>0.813695</td>\n",
       "      <td>0.444069</td>\n",
       "      <td>0.384745</td>\n",
       "      <td>0.159378</td>\n",
       "      <td>...</td>\n",
       "      <td>0.153586</td>\n",
       "      <td>0.262145</td>\n",
       "      <td>0.192761</td>\n",
       "      <td>0.646410</td>\n",
       "      <td>0.607130</td>\n",
       "      <td>0.660081</td>\n",
       "      <td>0.135276</td>\n",
       "      <td>0.368633</td>\n",
       "      <td>0.142581</td>\n",
       "      <td>0.166399</td>\n",
       "    </tr>\n",
       "    <tr>\n",
       "      <th>24</th>\n",
       "      <td>0.932615</td>\n",
       "      <td>0.802735</td>\n",
       "      <td>0.951350</td>\n",
       "      <td>0.919456</td>\n",
       "      <td>1.000000</td>\n",
       "      <td>0.741594</td>\n",
       "      <td>0.802514</td>\n",
       "      <td>0.488001</td>\n",
       "      <td>0.413613</td>\n",
       "      <td>0.164158</td>\n",
       "      <td>...</td>\n",
       "      <td>0.157931</td>\n",
       "      <td>0.270466</td>\n",
       "      <td>0.198930</td>\n",
       "      <td>0.636164</td>\n",
       "      <td>0.583238</td>\n",
       "      <td>0.648697</td>\n",
       "      <td>0.139250</td>\n",
       "      <td>0.398710</td>\n",
       "      <td>0.146673</td>\n",
       "      <td>0.171259</td>\n",
       "    </tr>\n",
       "  </tbody>\n",
       "</table>\n",
       "<p>5 rows × 10000 columns</p>\n",
       "</div>"
      ],
      "text/plain": [
       "book_id      27        21        2         18        24        3275      3753  \\\n",
       "book_id                                                                         \n",
       "27       1.000000  0.793039  0.967074  0.935959  0.932615  0.773161  0.826935   \n",
       "21       0.793039  1.000000  0.781584  0.756703  0.802735  0.606846  0.642205   \n",
       "2        0.967074  0.781584  1.000000  0.954254  0.951350  0.779767  0.838700   \n",
       "18       0.935959  0.756703  0.954254  1.000000  0.919456  0.750132  0.813695   \n",
       "24       0.932615  0.802735  0.951350  0.919456  1.000000  0.741594  0.802514   \n",
       "\n",
       "book_id      54        337       374   ...      5111      5296      8713  \\\n",
       "book_id                                ...                                 \n",
       "27       0.443948  0.383335  0.145548  ...  0.191713  0.276920  0.220817   \n",
       "21       0.371239  0.290013  0.128655  ...  0.132455  0.262205  0.181788   \n",
       "2        0.463165  0.400693  0.146866  ...  0.159402  0.254301  0.199595   \n",
       "18       0.444069  0.384745  0.159378  ...  0.153586  0.262145  0.192761   \n",
       "24       0.488001  0.413613  0.164158  ...  0.157931  0.270466  0.198930   \n",
       "\n",
       "book_id      7443      6428      7523      4594      9569      9580      8892  \n",
       "book_id                                                                        \n",
       "27       0.665664  0.613295  0.679846  0.121582  0.397349  0.165843  0.226996  \n",
       "21       0.483300  0.445195  0.511246  0.116972  0.341285  0.114551  0.164359  \n",
       "2        0.665316  0.612849  0.679313  0.122899  0.366076  0.148561  0.172504  \n",
       "18       0.646410  0.607130  0.660081  0.135276  0.368633  0.142581  0.166399  \n",
       "24       0.636164  0.583238  0.648697  0.139250  0.398710  0.146673  0.171259  \n",
       "\n",
       "[5 rows x 10000 columns]"
      ]
     },
     "execution_count": 3,
     "metadata": {},
     "output_type": "execute_result"
    }
   ],
   "source": [
    "book_sim = pd.DataFrame(\n",
    "    data = cosine_similarity(book_profiles, book_profiles),\n",
    "    index = book_profiles.index,\n",
    "    columns = book_profiles.index\n",
    ")\n",
    "\n",
    "book_sim.head()"
   ]
  },
  {
   "cell_type": "markdown",
   "metadata": {},
   "source": [
    "# 0.5. Measuring novelty"
   ]
  },
  {
   "cell_type": "markdown",
   "metadata": {},
   "source": [
    "Paper: https://arxiv.org/pdf/0808.2670.pdf\n",
    "\n",
    "For our application, the Novelty Score is measure by the average log inverse ratio of users who have rated the item. For that we need to create a new novelty score dataframe"
   ]
  },
  {
   "cell_type": "code",
   "execution_count": 4,
   "metadata": {},
   "outputs": [
    {
     "data": {
      "text/plain": [
       "52363"
      ]
     },
     "execution_count": 4,
     "metadata": {},
     "output_type": "execute_result"
    }
   ],
   "source": [
    "n_users = len(training_ratings.user_id.unique())\n",
    "n_users"
   ]
  },
  {
   "cell_type": "code",
   "execution_count": 5,
   "metadata": {},
   "outputs": [
    {
     "data": {
      "text/html": [
       "<div>\n",
       "<style scoped>\n",
       "    .dataframe tbody tr th:only-of-type {\n",
       "        vertical-align: middle;\n",
       "    }\n",
       "\n",
       "    .dataframe tbody tr th {\n",
       "        vertical-align: top;\n",
       "    }\n",
       "\n",
       "    .dataframe thead th {\n",
       "        text-align: right;\n",
       "    }\n",
       "</style>\n",
       "<table border=\"1\" class=\"dataframe\">\n",
       "  <thead>\n",
       "    <tr style=\"text-align: right;\">\n",
       "      <th></th>\n",
       "      <th>rating</th>\n",
       "    </tr>\n",
       "    <tr>\n",
       "      <th>book_id</th>\n",
       "      <th></th>\n",
       "    </tr>\n",
       "  </thead>\n",
       "  <tbody>\n",
       "    <tr>\n",
       "      <th>1</th>\n",
       "      <td>18732</td>\n",
       "    </tr>\n",
       "    <tr>\n",
       "      <th>2</th>\n",
       "      <td>17460</td>\n",
       "    </tr>\n",
       "    <tr>\n",
       "      <th>3</th>\n",
       "      <td>15434</td>\n",
       "    </tr>\n",
       "    <tr>\n",
       "      <th>4</th>\n",
       "      <td>15439</td>\n",
       "    </tr>\n",
       "    <tr>\n",
       "      <th>5</th>\n",
       "      <td>14841</td>\n",
       "    </tr>\n",
       "  </tbody>\n",
       "</table>\n",
       "</div>"
      ],
      "text/plain": [
       "         rating\n",
       "book_id        \n",
       "1         18732\n",
       "2         17460\n",
       "3         15434\n",
       "4         15439\n",
       "5         14841"
      ]
     },
     "execution_count": 5,
     "metadata": {},
     "output_type": "execute_result"
    }
   ],
   "source": [
    "rating_count = training_ratings.groupby('book_id').count()[['rating']]\n",
    "rating_count.head()"
   ]
  },
  {
   "cell_type": "code",
   "execution_count": 6,
   "metadata": {},
   "outputs": [],
   "source": [
    "rating_count.loc[:, 'novelty_score'] = np.log2(n_users / rating_count.rating)"
   ]
  },
  {
   "cell_type": "code",
   "execution_count": 7,
   "metadata": {},
   "outputs": [
    {
     "data": {
      "text/html": [
       "<div>\n",
       "<style scoped>\n",
       "    .dataframe tbody tr th:only-of-type {\n",
       "        vertical-align: middle;\n",
       "    }\n",
       "\n",
       "    .dataframe tbody tr th {\n",
       "        vertical-align: top;\n",
       "    }\n",
       "\n",
       "    .dataframe thead th {\n",
       "        text-align: right;\n",
       "    }\n",
       "</style>\n",
       "<table border=\"1\" class=\"dataframe\">\n",
       "  <thead>\n",
       "    <tr style=\"text-align: right;\">\n",
       "      <th></th>\n",
       "      <th>rating</th>\n",
       "      <th>novelty_score</th>\n",
       "    </tr>\n",
       "    <tr>\n",
       "      <th>book_id</th>\n",
       "      <th></th>\n",
       "      <th></th>\n",
       "    </tr>\n",
       "  </thead>\n",
       "  <tbody>\n",
       "    <tr>\n",
       "      <th>1</th>\n",
       "      <td>18732</td>\n",
       "      <td>1.483043</td>\n",
       "    </tr>\n",
       "    <tr>\n",
       "      <th>2</th>\n",
       "      <td>17460</td>\n",
       "      <td>1.584494</td>\n",
       "    </tr>\n",
       "    <tr>\n",
       "      <th>4</th>\n",
       "      <td>15439</td>\n",
       "      <td>1.761968</td>\n",
       "    </tr>\n",
       "    <tr>\n",
       "      <th>3</th>\n",
       "      <td>15434</td>\n",
       "      <td>1.762436</td>\n",
       "    </tr>\n",
       "    <tr>\n",
       "      <th>5</th>\n",
       "      <td>14841</td>\n",
       "      <td>1.818959</td>\n",
       "    </tr>\n",
       "  </tbody>\n",
       "</table>\n",
       "</div>"
      ],
      "text/plain": [
       "         rating  novelty_score\n",
       "book_id                       \n",
       "1         18732       1.483043\n",
       "2         17460       1.584494\n",
       "4         15439       1.761968\n",
       "3         15434       1.762436\n",
       "5         14841       1.818959"
      ]
     },
     "execution_count": 7,
     "metadata": {},
     "output_type": "execute_result"
    }
   ],
   "source": [
    "sorted_scores = rating_count.sort_values(by=\"novelty_score\", ascending=True)\n",
    "sorted_scores.head()"
   ]
  },
  {
   "cell_type": "code",
   "execution_count": 8,
   "metadata": {},
   "outputs": [
    {
     "data": {
      "text/html": [
       "<div>\n",
       "<style scoped>\n",
       "    .dataframe tbody tr th:only-of-type {\n",
       "        vertical-align: middle;\n",
       "    }\n",
       "\n",
       "    .dataframe tbody tr th {\n",
       "        vertical-align: top;\n",
       "    }\n",
       "\n",
       "    .dataframe thead th {\n",
       "        text-align: right;\n",
       "    }\n",
       "</style>\n",
       "<table border=\"1\" class=\"dataframe\">\n",
       "  <thead>\n",
       "    <tr style=\"text-align: right;\">\n",
       "      <th></th>\n",
       "      <th>rating</th>\n",
       "      <th>novelty_score</th>\n",
       "    </tr>\n",
       "    <tr>\n",
       "      <th>book_id</th>\n",
       "      <th></th>\n",
       "      <th></th>\n",
       "    </tr>\n",
       "  </thead>\n",
       "  <tbody>\n",
       "    <tr>\n",
       "      <th>9553</th>\n",
       "      <td>29</td>\n",
       "      <td>10.818279</td>\n",
       "    </tr>\n",
       "    <tr>\n",
       "      <th>1935</th>\n",
       "      <td>27</td>\n",
       "      <td>10.921373</td>\n",
       "    </tr>\n",
       "    <tr>\n",
       "      <th>9486</th>\n",
       "      <td>20</td>\n",
       "      <td>11.354332</td>\n",
       "    </tr>\n",
       "    <tr>\n",
       "      <th>9345</th>\n",
       "      <td>10</td>\n",
       "      <td>12.354332</td>\n",
       "    </tr>\n",
       "    <tr>\n",
       "      <th>7803</th>\n",
       "      <td>8</td>\n",
       "      <td>12.676260</td>\n",
       "    </tr>\n",
       "  </tbody>\n",
       "</table>\n",
       "</div>"
      ],
      "text/plain": [
       "         rating  novelty_score\n",
       "book_id                       \n",
       "9553         29      10.818279\n",
       "1935         27      10.921373\n",
       "9486         20      11.354332\n",
       "9345         10      12.354332\n",
       "7803          8      12.676260"
      ]
     },
     "execution_count": 8,
     "metadata": {},
     "output_type": "execute_result"
    }
   ],
   "source": [
    "sorted_scores.tail()"
   ]
  },
  {
   "cell_type": "code",
   "execution_count": 9,
   "metadata": {},
   "outputs": [
    {
     "data": {
      "text/html": [
       "<div>\n",
       "<style scoped>\n",
       "    .dataframe tbody tr th:only-of-type {\n",
       "        vertical-align: middle;\n",
       "    }\n",
       "\n",
       "    .dataframe tbody tr th {\n",
       "        vertical-align: top;\n",
       "    }\n",
       "\n",
       "    .dataframe thead th {\n",
       "        text-align: right;\n",
       "    }\n",
       "</style>\n",
       "<table border=\"1\" class=\"dataframe\">\n",
       "  <thead>\n",
       "    <tr style=\"text-align: right;\">\n",
       "      <th></th>\n",
       "      <th>novelty_score</th>\n",
       "    </tr>\n",
       "    <tr>\n",
       "      <th>book_id</th>\n",
       "      <th></th>\n",
       "    </tr>\n",
       "  </thead>\n",
       "  <tbody>\n",
       "    <tr>\n",
       "      <th>1</th>\n",
       "      <td>1.483043</td>\n",
       "    </tr>\n",
       "    <tr>\n",
       "      <th>2</th>\n",
       "      <td>1.584494</td>\n",
       "    </tr>\n",
       "    <tr>\n",
       "      <th>4</th>\n",
       "      <td>1.761968</td>\n",
       "    </tr>\n",
       "    <tr>\n",
       "      <th>3</th>\n",
       "      <td>1.762436</td>\n",
       "    </tr>\n",
       "    <tr>\n",
       "      <th>5</th>\n",
       "      <td>1.818959</td>\n",
       "    </tr>\n",
       "    <tr>\n",
       "      <th>17</th>\n",
       "      <td>1.885708</td>\n",
       "    </tr>\n",
       "    <tr>\n",
       "      <th>20</th>\n",
       "      <td>1.886625</td>\n",
       "    </tr>\n",
       "    <tr>\n",
       "      <th>7</th>\n",
       "      <td>2.007597</td>\n",
       "    </tr>\n",
       "    <tr>\n",
       "      <th>23</th>\n",
       "      <td>2.013703</td>\n",
       "    </tr>\n",
       "    <tr>\n",
       "      <th>8</th>\n",
       "      <td>2.022631</td>\n",
       "    </tr>\n",
       "  </tbody>\n",
       "</table>\n",
       "</div>"
      ],
      "text/plain": [
       "         novelty_score\n",
       "book_id               \n",
       "1             1.483043\n",
       "2             1.584494\n",
       "4             1.761968\n",
       "3             1.762436\n",
       "5             1.818959\n",
       "17            1.885708\n",
       "20            1.886625\n",
       "7             2.007597\n",
       "23            2.013703\n",
       "8             2.022631"
      ]
     },
     "execution_count": 9,
     "metadata": {},
     "output_type": "execute_result"
    }
   ],
   "source": [
    "novelty_scores = sorted_scores[['novelty_score']]\n",
    "novelty_scores.head(10)"
   ]
  },
  {
   "cell_type": "code",
   "execution_count": 10,
   "metadata": {},
   "outputs": [
    {
     "data": {
      "text/plain": [
       "11.040854404462621"
      ]
     },
     "execution_count": 10,
     "metadata": {},
     "output_type": "execute_result"
    }
   ],
   "source": [
    "novelty_scores.tail(10).novelty_score.mean()"
   ]
  },
  {
   "cell_type": "markdown",
   "metadata": {},
   "source": [
    "# 1. The new evaluator"
   ]
  },
  {
   "cell_type": "code",
   "execution_count": 33,
   "metadata": {},
   "outputs": [],
   "source": [
    "class Evaluator():\n",
    "    def __init__(self, k=10, training_ratings=None, testing_ratings=None, book_sim=None, novelty_scores=None):\n",
    "        self.k = k\n",
    "        self.book_sim = book_sim\n",
    "        self.novelty_scores = novelty_scores\n",
    "        if training_ratings is not None:\n",
    "            self.training_ratings = training_ratings\n",
    "            self.num_users = len(self.training_ratings.user_id.unique())\n",
    "            self.num_books = len(self.training_ratings.book_id.unique())\n",
    "        if testing_ratings is not None:\n",
    "            self.testing_ratings = testing_ratings\n",
    "            self.testing_idx = {}\n",
    "            for user_id in tqdm(testing_ratings.user_id.unique()):\n",
    "                self.testing_idx[user_id] = testing_ratings[testing_ratings.user_id==user_id].book_id.values\n",
    "        self.result = {}\n",
    "    \n",
    "    def _average_precision(self, pred, truth):\n",
    "        in_arr = np.in1d(pred, truth)\n",
    "        score = 0.0\n",
    "        num_hits = 0.0\n",
    "        for idx, correct in enumerate(in_arr):\n",
    "            if correct:\n",
    "                num_hits += 1\n",
    "                score += num_hits / (idx + 1)\n",
    "        return score / min(len(truth), self.k)\n",
    "    \n",
    "    def _novelty_score(self, pred):\n",
    "        # Recommend the top 10 books in novelty score results in ~11\n",
    "        # Crop the score to 10.0 since it won't change anything and make the score range nicer\n",
    "        return min(self.novelty_scores.loc[pred].novelty_score.mean(), 10.0)\n",
    "    \n",
    "    def _diversity_score(self, pred):\n",
    "        matrix = self.book_sim.loc[pred, pred].values\n",
    "        ils = matrix[np.triu_indices(len(pred), k=1)].mean()\n",
    "        return (1 - ils) * 10\n",
    "    \n",
    "    def _personalization_score(self, preds, user_ids, book_ids):\n",
    "        if len(user_ids) > 3000:\n",
    "            np.random.seed(42)\n",
    "            user_ids = np.random.permutation(user_ids)[:3000]\n",
    "        df = pd.DataFrame(\n",
    "            data=np.zeros([len(user_ids), len(book_ids)]),\n",
    "            index=user_ids,\n",
    "            columns=book_ids\n",
    "        )\n",
    "        for user_id in user_ids:\n",
    "            df.loc[user_id, preds[user_id]] = 1\n",
    "\n",
    "        matrix = sp.csr_matrix(df.values)\n",
    "\n",
    "        #calculate similarity for every user's recommendation list\n",
    "        similarity = cosine_similarity(X=matrix, dense_output=False)\n",
    "\n",
    "        #get indicies for upper right triangle w/o diagonal\n",
    "        upper_right = np.triu_indices(similarity.shape[0], k=1)\n",
    "\n",
    "        #calculate average similarity\n",
    "        personalization = np.mean(similarity[upper_right])\n",
    "        \n",
    "        return (1 - personalization) * 10\n",
    "    \n",
    "    def evaluate(self, model):\n",
    "        print(\"Calculating recommendations:\")\n",
    "        if len(model.preds) == 0:\n",
    "            model.fit(self.training_ratings)\n",
    "        preds = model.all_recommendation()\n",
    "        user_ids = list(preds.keys())\n",
    "        book_ids = np.unique(np.concatenate(list(preds.values())))\n",
    "        ap_sum = 0\n",
    "        nov_score_sum = 0\n",
    "        div_score_sum = 0\n",
    "        print(\"Calculating metrics:\")\n",
    "        for user_id in tqdm(preds.keys()):\n",
    "            pred = preds[user_id]\n",
    "            truth = self.testing_idx[user_id]\n",
    "            ap_sum += self._average_precision(pred, truth)\n",
    "            nov_score_sum += self._novelty_score(pred)\n",
    "            div_score_sum += self._diversity_score(pred)\n",
    "        \n",
    "        self.result[model.name] = {}\n",
    "        self.result[model.name]['Mean Average Precision'] = \"%.2f%%\" % (ap_sum / self.num_users * 100)\n",
    "        self.result[model.name]['Coverage'] = \"%.2f%%\" % (len(book_ids) / self.num_books * 100)\n",
    "        self.result[model.name]['Novelty Score'] = \"%.2f\" % (nov_score_sum / self.num_users)\n",
    "        self.result[model.name]['Diversity Score'] = \"%.2f\" % (div_score_sum / self.num_users)\n",
    "        self.result[model.name]['Personalization Score'] = \"%.2f\" % self._personalization_score(preds, user_ids, book_ids)\n",
    "        \n",
    "    def print_result(self):\n",
    "        print(pd.DataFrame(self.result).loc[['Mean Average Precision', 'Coverage', 'Novelty Score', 'Diversity Score', 'Personalization Score']])"
   ]
  },
  {
   "cell_type": "code",
   "execution_count": 34,
   "metadata": {},
   "outputs": [
    {
     "data": {
      "application/vnd.jupyter.widget-view+json": {
       "model_id": "4e048a8540934cb3a7a35bdb91c27041",
       "version_major": 2,
       "version_minor": 0
      },
      "text/plain": [
       "HBox(children=(IntProgress(value=0, max=52363), HTML(value='')))"
      ]
     },
     "metadata": {},
     "output_type": "display_data"
    },
    {
     "name": "stdout",
     "output_type": "stream",
     "text": [
      "\n"
     ]
    }
   ],
   "source": [
    "evl = Evaluator(k=10,\n",
    "                training_ratings=training_ratings,\n",
    "                testing_ratings=testing_ratings,\n",
    "                book_sim=book_sim,\n",
    "                novelty_scores=novelty_scores)"
   ]
  },
  {
   "cell_type": "markdown",
   "metadata": {},
   "source": [
    "# 2. Test the new evaluator"
   ]
  },
  {
   "cell_type": "code",
   "execution_count": 38,
   "metadata": {},
   "outputs": [],
   "source": [
    "class RandomRecommender():\n",
    "    name = 'Random-based RS'\n",
    "    preds = {}\n",
    "    \n",
    "    def fit(self, training_ratings):\n",
    "        user_ids = training_ratings.user_id.unique()\n",
    "        book_ids = training_ratings.book_id.unique()\n",
    "        self.preds = {}\n",
    "        np.random.seed(42)\n",
    "        for user_id in tqdm(user_ids):\n",
    "            excluded_books = training_ratings[training_ratings.user_id==user_id].book_id.unique().tolist()\n",
    "            recommendable = book_ids[~np.in1d(book_ids, excluded_books)]\n",
    "            self.preds[user_id] = np.random.permutation(recommendable)[:10]\n",
    "        \n",
    "    def recommendation_for_user(self, user_id):\n",
    "        if user_id not in self.preds:\n",
    "            return []\n",
    "        return self.preds[user_id]\n",
    "    \n",
    "    def all_recommendation(self):\n",
    "        return self.preds\n",
    "    \n",
    "class PopularityRecommender():\n",
    "    name = \"Popularity-based RS\"\n",
    "    preds = {}\n",
    "    \n",
    "    def fit(self, training_ratings):\n",
    "        user_ids = training_ratings.user_id.unique().tolist()\n",
    "        five_ratings = training_ratings[training_ratings.rating==5]\n",
    "        ranked_books = five_ratings.groupby('book_id').count()[['rating']].rename(columns={'rating': 'weight'})\n",
    "        ranked_books = ranked_books.sort_values(by='weight', ascending=False)\n",
    "        top_books = ranked_books[:200]\n",
    "        book_ids = np.array(top_books.index.tolist())\n",
    "        self.preds = {}\n",
    "        for user_id in tqdm(user_ids):\n",
    "            excluded_books = training_ratings[training_ratings.user_id==user_id].book_id.unique().tolist()\n",
    "            recommendable = book_ids[~np.in1d(book_ids, excluded_books)]\n",
    "            self.preds[user_id] = recommendable[:10]\n",
    "        \n",
    "    def recommendation_for_user(self, user_id):\n",
    "        return self.preds[user_id]\n",
    "    \n",
    "    def all_recommendation(self):\n",
    "        return self.preds"
   ]
  },
  {
   "cell_type": "code",
   "execution_count": 39,
   "metadata": {},
   "outputs": [],
   "source": [
    "rd_rec = RandomRecommender()\n",
    "pop_rec = PopularityRecommender()"
   ]
  },
  {
   "cell_type": "code",
   "execution_count": 40,
   "metadata": {
    "scrolled": false
   },
   "outputs": [
    {
     "name": "stdout",
     "output_type": "stream",
     "text": [
      "Calculating recommendations:\n"
     ]
    },
    {
     "data": {
      "application/vnd.jupyter.widget-view+json": {
       "model_id": "dbee2bd86989432d8c44d1854d578088",
       "version_major": 2,
       "version_minor": 0
      },
      "text/plain": [
       "HBox(children=(IntProgress(value=0, max=52363), HTML(value='')))"
      ]
     },
     "metadata": {},
     "output_type": "display_data"
    },
    {
     "name": "stdout",
     "output_type": "stream",
     "text": [
      "\n",
      "Calculating metrics:\n"
     ]
    },
    {
     "data": {
      "application/vnd.jupyter.widget-view+json": {
       "model_id": "39e1108dd29e4087bb62f0c71912299c",
       "version_major": 2,
       "version_minor": 0
      },
      "text/plain": [
       "HBox(children=(IntProgress(value=0, max=52363), HTML(value='')))"
      ]
     },
     "metadata": {},
     "output_type": "display_data"
    },
    {
     "name": "stdout",
     "output_type": "stream",
     "text": [
      "\n",
      "Calculating recommendations:\n"
     ]
    },
    {
     "data": {
      "application/vnd.jupyter.widget-view+json": {
       "model_id": "41add174078c4875ba0c3ea2c2a64d63",
       "version_major": 2,
       "version_minor": 0
      },
      "text/plain": [
       "HBox(children=(IntProgress(value=0, max=52363), HTML(value='')))"
      ]
     },
     "metadata": {},
     "output_type": "display_data"
    },
    {
     "name": "stdout",
     "output_type": "stream",
     "text": [
      "\n",
      "Calculating metrics:\n"
     ]
    },
    {
     "data": {
      "application/vnd.jupyter.widget-view+json": {
       "model_id": "58d586b5d7584ea5a7e4094afa872b4a",
       "version_major": 2,
       "version_minor": 0
      },
      "text/plain": [
       "HBox(children=(IntProgress(value=0, max=52363), HTML(value='')))"
      ]
     },
     "metadata": {},
     "output_type": "display_data"
    },
    {
     "name": "stdout",
     "output_type": "stream",
     "text": [
      "\n",
      "                       Random-based RS Popularity-based RS\n",
      "Mean Average Precision           0.04%               5.39%\n",
      "Coverage                       100.00%               0.47%\n",
      "Novelty Score                     7.62                2.04\n",
      "Diversity Score                   7.36                4.21\n",
      "Personalization Score             9.99                3.84\n"
     ]
    }
   ],
   "source": [
    "evl.evaluate(rd_rec)\n",
    "evl.evaluate(pop_rec)\n",
    "evl.print_result()"
   ]
  },
  {
   "cell_type": "markdown",
   "metadata": {},
   "source": [
    "# 3. Wrap up"
   ]
  },
  {
   "cell_type": "markdown",
   "metadata": {},
   "source": [
    "That's it for our updated evaluator. All of our score range from 1 to 10 and our precision and coverage are percentage-based.\n",
    "\n",
    "The evaluator's external dependencies:\n",
    "- A novelty score dataframe\n",
    "- A book similarity matrix\n",
    "\n",
    "We will make bundle the evaluator inside a module (a python file) and inject the 2 dependencies in the constructor"
   ]
  },
  {
   "cell_type": "markdown",
   "metadata": {},
   "source": [
    "Finally, we will save all the useful dataframe that we want to use later on"
   ]
  },
  {
   "cell_type": "code",
   "execution_count": 41,
   "metadata": {},
   "outputs": [],
   "source": [
    "novelty_scores.reset_index().to_feather('./feather/novelty_scores')"
   ]
  }
 ],
 "metadata": {
  "kernelspec": {
   "display_name": "Python 3",
   "language": "python",
   "name": "python3"
  },
  "language_info": {
   "codemirror_mode": {
    "name": "ipython",
    "version": 3
   },
   "file_extension": ".py",
   "mimetype": "text/x-python",
   "name": "python",
   "nbconvert_exporter": "python",
   "pygments_lexer": "ipython3",
   "version": "3.7.3"
  }
 },
 "nbformat": 4,
 "nbformat_minor": 2
}
